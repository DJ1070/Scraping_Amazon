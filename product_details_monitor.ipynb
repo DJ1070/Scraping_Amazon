{
 "metadata": {
  "language_info": {
   "codemirror_mode": {
    "name": "ipython",
    "version": 3
   },
   "file_extension": ".py",
   "mimetype": "text/x-python",
   "name": "python",
   "nbconvert_exporter": "python",
   "pygments_lexer": "ipython3",
   "version": "3.8.5-final"
  },
  "orig_nbformat": 2,
  "kernelspec": {
   "name": "python3",
   "display_name": "Python 3.8.5 64-bit (conda)",
   "metadata": {
    "interpreter": {
     "hash": "b3ba2566441a7c06988d0923437866b63cedc61552a5af99d1f4fb67d367b25f"
    }
   }
  }
 },
 "nbformat": 4,
 "nbformat_minor": 2,
 "cells": [
  {
   "cell_type": "code",
   "execution_count": 78,
   "metadata": {},
   "outputs": [],
   "source": [
    "import pandas as pd\n",
    "import numpy as np\n",
    "import re\n",
    "from pandas.io.json import json_normalize\n",
    "\n",
    "csv_filename = 'product_details_monitor.csv'\n",
    "csv_bought_together = 'items_bought_together.csv'\n",
    "csv_customer_reviews = 'links_to_customer_reviews_monitor.csv'\n",
    "txt_customer_reviews = 'links_to_customer_reviews_monitor.txt'"
   ]
  },
  {
   "cell_type": "code",
   "execution_count": 79,
   "metadata": {},
   "outputs": [
    {
     "output_type": "execute_result",
     "data": {
      "text/plain": [
       "                                                name  \\\n",
       "0  HP 24mh FHD Monitor - Computer Monitor with 23...   \n",
       "1  Sceptre E248W-19203R 24\" Ultra Thin 75Hz 1080p...   \n",
       "2  Sceptre Curved 27\" 75Hz LED Monitor HDMI VGA B...   \n",
       "3  Sceptre IPS 27-Inch Business Computer Monitor ...   \n",
       "4  SAMSUNG LC24F396FHNXZA 23.5\" FHD Curved LED-Li...   \n",
       "\n",
       "                                     product_summary  \\\n",
       "0  [{'info': 'Brand', 'value': 'HP'}, {'info': 'I...   \n",
       "1  [{'info': 'Brand', 'value': 'Sceptre'}, {'info...   \n",
       "2  [{'info': 'Brand', 'value': 'Sceptre'}, {'info...   \n",
       "3  [{'info': 'Brand', 'value': 'Sceptre'}, {'info...   \n",
       "4  [{'info': 'Brand', 'value': 'SAMSUNG'}, {'info...   \n",
       "\n",
       "                                   product_tech_spec  \\\n",
       "0  [{'info': 'Standing screen display size', 'val...   \n",
       "1  [{'info': 'Standing screen display size', 'val...   \n",
       "2  [{'info': 'Standing screen display size', 'val...   \n",
       "3  [{'info': 'Standing screen display size', 'val...   \n",
       "4  [{'info': 'Standing screen display size', 'val...   \n",
       "\n",
       "                                   product_addl_info          seller  \\\n",
       "0  [{'info': 'Customer Reviews', 'value': '/*\n",
       "* F...  Moonlight LLC.   \n",
       "1  [{'info': 'Customer Reviews', 'value': '/*\n",
       "* F...            None   \n",
       "2  [{'info': 'Customer Reviews', 'value': '/*\n",
       "* F...            None   \n",
       "3  [{'info': 'Customer Reviews', 'value': '/*\n",
       "* F...            None   \n",
       "4  [{'info': 'Customer Reviews', 'value': '/*\n",
       "* F...            None   \n",
       "\n",
       "                                         seller_link freq_bought  \\\n",
       "0  https://www.amazon.com/gp/help/seller/at-a-gla...        None   \n",
       "1                                               None        None   \n",
       "2                                               None        None   \n",
       "3                                               None        None   \n",
       "4                                               None        None   \n",
       "\n",
       "  freq_bought_link                                link_to_all_reviews  \n",
       "0             None  /HP-24mh-FHD-Monitor-Built/product-reviews/B08...  \n",
       "1             None  /Sceptre-E248W-19203R-Monitor-Speakers-Metalli...  \n",
       "2             None  /Sceptre-Monitor-Speakers-Edge-Less-C275W-1920...  \n",
       "3             None  /Sceptre-Business-Computer-Speakers-e275W-FPT/...  \n",
       "4             None  /Samsung-23-5-Inch-LED-Lit-Monitor-LC24F396FHN...  "
      ],
      "text/html": "<div>\n<style scoped>\n    .dataframe tbody tr th:only-of-type {\n        vertical-align: middle;\n    }\n\n    .dataframe tbody tr th {\n        vertical-align: top;\n    }\n\n    .dataframe thead th {\n        text-align: right;\n    }\n</style>\n<table border=\"1\" class=\"dataframe\">\n  <thead>\n    <tr style=\"text-align: right;\">\n      <th></th>\n      <th>name</th>\n      <th>product_summary</th>\n      <th>product_tech_spec</th>\n      <th>product_addl_info</th>\n      <th>seller</th>\n      <th>seller_link</th>\n      <th>freq_bought</th>\n      <th>freq_bought_link</th>\n      <th>link_to_all_reviews</th>\n    </tr>\n  </thead>\n  <tbody>\n    <tr>\n      <th>0</th>\n      <td>HP 24mh FHD Monitor - Computer Monitor with 23...</td>\n      <td>[{'info': 'Brand', 'value': 'HP'}, {'info': 'I...</td>\n      <td>[{'info': 'Standing screen display size', 'val...</td>\n      <td>[{'info': 'Customer Reviews', 'value': '/*\n* F...</td>\n      <td>Moonlight LLC.</td>\n      <td>https://www.amazon.com/gp/help/seller/at-a-gla...</td>\n      <td>None</td>\n      <td>None</td>\n      <td>/HP-24mh-FHD-Monitor-Built/product-reviews/B08...</td>\n    </tr>\n    <tr>\n      <th>1</th>\n      <td>Sceptre E248W-19203R 24\" Ultra Thin 75Hz 1080p...</td>\n      <td>[{'info': 'Brand', 'value': 'Sceptre'}, {'info...</td>\n      <td>[{'info': 'Standing screen display size', 'val...</td>\n      <td>[{'info': 'Customer Reviews', 'value': '/*\n* F...</td>\n      <td>None</td>\n      <td>None</td>\n      <td>None</td>\n      <td>None</td>\n      <td>/Sceptre-E248W-19203R-Monitor-Speakers-Metalli...</td>\n    </tr>\n    <tr>\n      <th>2</th>\n      <td>Sceptre Curved 27\" 75Hz LED Monitor HDMI VGA B...</td>\n      <td>[{'info': 'Brand', 'value': 'Sceptre'}, {'info...</td>\n      <td>[{'info': 'Standing screen display size', 'val...</td>\n      <td>[{'info': 'Customer Reviews', 'value': '/*\n* F...</td>\n      <td>None</td>\n      <td>None</td>\n      <td>None</td>\n      <td>None</td>\n      <td>/Sceptre-Monitor-Speakers-Edge-Less-C275W-1920...</td>\n    </tr>\n    <tr>\n      <th>3</th>\n      <td>Sceptre IPS 27-Inch Business Computer Monitor ...</td>\n      <td>[{'info': 'Brand', 'value': 'Sceptre'}, {'info...</td>\n      <td>[{'info': 'Standing screen display size', 'val...</td>\n      <td>[{'info': 'Customer Reviews', 'value': '/*\n* F...</td>\n      <td>None</td>\n      <td>None</td>\n      <td>None</td>\n      <td>None</td>\n      <td>/Sceptre-Business-Computer-Speakers-e275W-FPT/...</td>\n    </tr>\n    <tr>\n      <th>4</th>\n      <td>SAMSUNG LC24F396FHNXZA 23.5\" FHD Curved LED-Li...</td>\n      <td>[{'info': 'Brand', 'value': 'SAMSUNG'}, {'info...</td>\n      <td>[{'info': 'Standing screen display size', 'val...</td>\n      <td>[{'info': 'Customer Reviews', 'value': '/*\n* F...</td>\n      <td>None</td>\n      <td>None</td>\n      <td>None</td>\n      <td>None</td>\n      <td>/Samsung-23-5-Inch-LED-Lit-Monitor-LC24F396FHN...</td>\n    </tr>\n  </tbody>\n</table>\n</div>"
     },
     "metadata": {},
     "execution_count": 79
    }
   ],
   "source": [
    "df = pd.read_json('monitor_product_output.jsonl')\n",
    "df.head()"
   ]
  },
  {
   "cell_type": "code",
   "execution_count": 80,
   "metadata": {},
   "outputs": [],
   "source": [
    "df = df.dropna(axis=0, how='all')"
   ]
  },
  {
   "cell_type": "code",
   "execution_count": 81,
   "metadata": {},
   "outputs": [],
   "source": [
    "df.link_to_all_reviews = 'https://www.amazon.com/' + df.link_to_all_reviews"
   ]
  },
  {
   "cell_type": "code",
   "execution_count": 82,
   "metadata": {},
   "outputs": [],
   "source": [
    "df.reset_index(drop=True, inplace = True)"
   ]
  },
  {
   "cell_type": "code",
   "execution_count": 83,
   "metadata": {},
   "outputs": [],
   "source": [
    "# Extraction of all specifications in nested JSON-dicts to be used for building additional columns \n",
    "  \n",
    "new_columns = []\n",
    "for i in range(len(df)):\n",
    "    if df.product_summary[i] is not None:\n",
    "        product_sum = df.product_summary[i]\n",
    "        x = len(product_sum)  \n",
    "        for j in range(x):\n",
    "            new_columns.append(product_sum[j]['info'])\n",
    "    if df.product_tech_spec[i] is not None:\n",
    "        product_tech = df.product_tech_spec[i]\n",
    "        y = len(product_tech)  \n",
    "        for j in range(y):\n",
    "            new_columns.append(product_tech[j]['info'])\n",
    "    if df.product_addl_info[i] is not None:\n",
    "        product_add = df.product_addl_info[i]\n",
    "        z = len(product_add)  \n",
    "        for j in range(z):\n",
    "            new_columns.append(product_add[j]['info'])"
   ]
  },
  {
   "cell_type": "code",
   "execution_count": 84,
   "metadata": {},
   "outputs": [],
   "source": [
    "for i in range(len(new_columns)):\n",
    "    if new_columns[i] is not None:\n",
    "        new_columns[i] = new_columns[i].lower()\n",
    "new_columns = set(new_columns) "
   ]
  },
  {
   "cell_type": "code",
   "execution_count": 85,
   "metadata": {},
   "outputs": [],
   "source": [
    "new_columns = list(new_columns)"
   ]
  },
  {
   "cell_type": "code",
   "execution_count": 86,
   "metadata": {},
   "outputs": [],
   "source": [
    "try:\n",
    "    new_columns.remove(None)\n",
    "except:\n",
    "    pass"
   ]
  },
  {
   "cell_type": "code",
   "execution_count": 87,
   "metadata": {},
   "outputs": [],
   "source": [
    "for i in new_columns:\n",
    "    df[i] = i\n",
    "    df[i] = ''"
   ]
  },
  {
   "cell_type": "code",
   "execution_count": 88,
   "metadata": {},
   "outputs": [],
   "source": [
    "for i in range(len(df)):\n",
    "    if df.product_summary[i] is not None:\n",
    "        psc = []\n",
    "        product_sum = df.product_summary[i]\n",
    "        product_sum = pd.DataFrame(product_sum)\n",
    "        product_sum = product_sum.transpose()\n",
    "        psc_len = len(product_sum.columns)  # collecting number of columns in product_sum / items in df.product_summary\n",
    "        for j in range(psc_len):            # getting item / column names\n",
    "            psc.append(product_sum[j][0])\n",
    "        for k in range(len(psc)):           # setting item / column names in lower cases for transfer of values into correct df columns\n",
    "            if psc[k] is not None:\n",
    "                psc[k] = psc[k].lower()\n",
    "        product_sum.columns = product_sum.iloc[0] # Turns row 1 into column names\n",
    "        product_sum = product_sum.drop('info') # Drops row 1\n",
    "        product_sum.columns = psc\n",
    "        for l in psc: \n",
    "            try:\n",
    "                df[l][i] = product_sum[l]['value']\n",
    "            except:\n",
    "                continue\n",
    "    if df.product_tech_spec[i] is not None:\n",
    "        ptc = []\n",
    "        product_tec = df.product_tech_spec[i]\n",
    "        product_tec = pd.DataFrame(product_tec)\n",
    "        product_tec = product_tec.transpose()\n",
    "        ptc_len = len(product_tec.columns)  # collecting number of columns in product_tec / items in df.product_tech_spec\n",
    "        for j in range(ptc_len):            # getting item / column names\n",
    "            ptc.append(product_tec[j][0])\n",
    "        for k in range(len(ptc)):           # setting item / column names in lower cases for transfer of values into correct df columns\n",
    "            if ptc[k] is not None:\n",
    "                ptc[k] = ptc[k].lower()\n",
    "        product_tec.columns = product_tec.iloc[0] # Turns row 1 into column names\n",
    "        product_tec = product_tec.drop('info') # Drops row 1\n",
    "        product_tec.columns = ptc\n",
    "        for l in ptc:   ## What does this loop through??? I need the column name, but I have to stay within one row!!!\n",
    "            try:\n",
    "                df[l][i] = product_tec[l]['value']\n",
    "            except:\n",
    "                continue\n",
    "    if df.product_addl_info[i] is not None:\n",
    "        pac = []\n",
    "        product_add = df.product_addl_info[i]\n",
    "        product_add = pd.DataFrame(product_add)\n",
    "        product_add = product_add.transpose()\n",
    "        pac_len = len(product_add.columns)  # collecting number of columns in product_tec / items in df.product_tech_spec\n",
    "        for j in range(pac_len):            # getting item / column names\n",
    "            pac.append(product_add[j][0])\n",
    "        for k in range(len(pac)):           # setting item / column names in lower cases for transfer of values into correct df columns\n",
    "            if pac[k] is not None:\n",
    "                pac[k] = pac[k].lower()\n",
    "        product_add.columns = product_add.iloc[0] # Turns row 1 into column names\n",
    "        product_add = product_add.drop('info') # Drops row 1\n",
    "        product_add.columns = pac\n",
    "        for l in pac:   ## What does this loop through??? I need the column name, but I have to stay within one row!!!\n",
    "            try:\n",
    "                df[l][i] = product_add[l]['value']\n",
    "            except:\n",
    "                continue"
   ]
  },
  {
   "cell_type": "code",
   "execution_count": 89,
   "metadata": {},
   "outputs": [],
   "source": [
    "df.rename(columns = {'asin' : 'ASIN'}, inplace = True)"
   ]
  },
  {
   "cell_type": "code",
   "execution_count": 90,
   "metadata": {},
   "outputs": [],
   "source": [
    "for i in range(len(df)):\n",
    "    if df['customer reviews'][i] is not None:\n",
    "        try:\n",
    "            res = [re.findall(r'(\\d+).(\\d+) out of 5 stars', df['customer reviews'][i])[0] ]\n",
    "            a = res[0][0]\n",
    "            b = res[0][1]\n",
    "            c = float(a+'.'+b)\n",
    "            df['customer reviews'][i] = c\n",
    "        except:\n",
    "            pass\n",
    "df.rename(columns = {'customer reviews' : 'rating'}, inplace = True)"
   ]
  },
  {
   "cell_type": "code",
   "execution_count": 91,
   "metadata": {},
   "outputs": [],
   "source": [
    "df = df.drop(['product_summary', 'product_tech_spec', 'product_addl_info'], axis = 1)"
   ]
  },
  {
   "cell_type": "code",
   "execution_count": 92,
   "metadata": {},
   "outputs": [],
   "source": [
    "for i in range(len(df)):\n",
    "    if df.name[i] is None:\n",
    "        df = df.drop([i], axis = 0)"
   ]
  },
  {
   "cell_type": "code",
   "execution_count": 93,
   "metadata": {},
   "outputs": [],
   "source": [
    "# Creating dataframe with links to all customer reviews for saving in additional CSV-file\n",
    "\n",
    "df_monitor_customer_reviews_link = df.link_to_all_reviews\n",
    "df_monitor_customer_reviews_link = df_monitor_customer_reviews_link.dropna()\n",
    "df_monitor_customer_reviews_link.reset_index(drop=True, inplace = True)"
   ]
  },
  {
   "cell_type": "code",
   "execution_count": 94,
   "metadata": {},
   "outputs": [],
   "source": [
    "df_monitor_bought_together = df[['ASIN', 'name', 'freq_bought', 'freq_bought_link']]"
   ]
  },
  {
   "cell_type": "code",
   "execution_count": 95,
   "metadata": {},
   "outputs": [],
   "source": [
    "df.to_csv(csv_filename)\n",
    "df_monitor_customer_reviews_link.to_csv(csv_customer_reviews) # actually not necessary anymore since there's being a txt-file created\n",
    "df_monitor_bought_together.to_csv(csv_bought_together)"
   ]
  },
  {
   "cell_type": "code",
   "execution_count": 96,
   "metadata": {},
   "outputs": [],
   "source": [
    "f = open(txt_customer_reviews, 'w+')\n",
    "\n",
    "for i in range(len(df_monitor_customer_reviews_link)):\n",
    "    f.write(df_monitor_customer_reviews_link[i])\n",
    "    f.write('\\n')\n",
    "\n",
    "f.close()"
   ]
  },
  {
   "cell_type": "code",
   "execution_count": 97,
   "metadata": {},
   "outputs": [
    {
     "output_type": "execute_result",
     "data": {
      "text/plain": [
       "      Unnamed: 0                                               name  \\\n",
       "0              0  HP 24mh FHD Monitor - Computer Monitor with 23...   \n",
       "1              1  Sceptre E248W-19203R 24\" Ultra Thin 75Hz 1080p...   \n",
       "2              2  Sceptre Curved 27\" 75Hz LED Monitor HDMI VGA B...   \n",
       "3              3  Sceptre IPS 27-Inch Business Computer Monitor ...   \n",
       "4              4  SAMSUNG LC24F396FHNXZA 23.5\" FHD Curved LED-Li...   \n",
       "...          ...                                                ...   \n",
       "4980        4986  KabelDirekt – 6ft – 4K HDMI cable (4K@120Hz & ...   \n",
       "4981        4987  OSD Audio TSM-T9 Home and Office Dual Arm Desk...   \n",
       "4982        4988  MSI Gaming GeForce GT 710 2GB GDRR3 64-bit HDC...   \n",
       "4983        4989  MMOBIEL Heavy Duty Suction Cups 2 Pcs Compatib...   \n",
       "4984        4990  Sensor-1 EXT37A25-16 25-Feet Monitor Extension...   \n",
       "\n",
       "                    seller                                        seller_link  \\\n",
       "0           Moonlight LLC.  https://www.amazon.com/gp/help/seller/at-a-gla...   \n",
       "1                      NaN                                                NaN   \n",
       "2                      NaN                                                NaN   \n",
       "3                      NaN                                                NaN   \n",
       "4                      NaN                                                NaN   \n",
       "...                    ...                                                ...   \n",
       "4980  KabelDirekt Products  https://www.amazon.com/gp/help/seller/at-a-gla...   \n",
       "4981                   NaN                                                NaN   \n",
       "4982                   NaN                                                NaN   \n",
       "4983          Menko Teleco  https://www.amazon.com/gp/help/seller/at-a-gla...   \n",
       "4984                   NaN                                                NaN   \n",
       "\n",
       "                                            freq_bought  \\\n",
       "0                                                   NaN   \n",
       "1                                                   NaN   \n",
       "2                                                   NaN   \n",
       "3                                                   NaN   \n",
       "4                                                   NaN   \n",
       "...                                                 ...   \n",
       "4980  HDMI Switch 4K HDMI Splitter-Techole Aluminum ...   \n",
       "4981                                                NaN   \n",
       "4982                                                NaN   \n",
       "4983  LeFix Replacement LCD Panel Adhesive Tape Stri...   \n",
       "4984                                                NaN   \n",
       "\n",
       "                                       freq_bought_link  \\\n",
       "0                                                   NaN   \n",
       "1                                                   NaN   \n",
       "2                                                   NaN   \n",
       "3                                                   NaN   \n",
       "4                                                   NaN   \n",
       "...                                                 ...   \n",
       "4980  https://www.amazon.com/HDMI-Switch-4K-Splitter...   \n",
       "4981                                                NaN   \n",
       "4982                                                NaN   \n",
       "4983  https://www.amazon.com/Replacement-Panel-Adhes...   \n",
       "4984                                                NaN   \n",
       "\n",
       "                                    link_to_all_reviews assembled width  \\\n",
       "0     https://www.amazon.com//HP-24mh-FHD-Monitor-Bu...             NaN   \n",
       "1     https://www.amazon.com//Sceptre-E248W-19203R-M...             NaN   \n",
       "2     https://www.amazon.com//Sceptre-Monitor-Speake...             NaN   \n",
       "3     https://www.amazon.com//Sceptre-Business-Compu...             NaN   \n",
       "4     https://www.amazon.com//Samsung-23-5-Inch-LED-...             NaN   \n",
       "...                                                 ...             ...   \n",
       "4980  https://www.amazon.com//Cable-supports-FullHD-...             NaN   \n",
       "4981  https://www.amazon.com//OSD-Audio-13-inch-23-i...             NaN   \n",
       "4982  https://www.amazon.com//MSI-GT-710-2GD3-LP/pro...             NaN   \n",
       "4983  https://www.amazon.com//MMOBIEL-Suction-Compat...             NaN   \n",
       "4984                                                NaN             NaN   \n",
       "\n",
       "     average life hard drive interface  ... color name part number  \\\n",
       "0             NaN                  NaN  ...        NaN         NaN   \n",
       "1             NaN                  NaN  ...        NaN         NaN   \n",
       "2             NaN                  NaN  ...        NaN         NaN   \n",
       "3             NaN                  NaN  ...        NaN         NaN   \n",
       "4             NaN                  NaN  ...        NaN         NaN   \n",
       "...           ...                  ...  ...        ...         ...   \n",
       "4980          NaN                  NaN  ...        NaN         NaN   \n",
       "4981          NaN                  NaN  ...        NaN         NaN   \n",
       "4982          NaN                  NaN  ...        NaN         NaN   \n",
       "4983          NaN                  NaN  ...        NaN         NaN   \n",
       "4984          NaN                  NaN  ...        NaN         NaN   \n",
       "\n",
       "     shade color certification light direction rating shade material   os  \\\n",
       "0            NaN           NaN             NaN    4.7            NaN  NaN   \n",
       "1            NaN           NaN             NaN    4.6            NaN  NaN   \n",
       "2            NaN           NaN             NaN    4.7            NaN  NaN   \n",
       "3            NaN           NaN             NaN    4.7            NaN  NaN   \n",
       "4            NaN           NaN             NaN    4.7            NaN  NaN   \n",
       "...          ...           ...             ...    ...            ...  ...   \n",
       "4980         NaN           NaN             NaN    NaN            NaN  NaN   \n",
       "4981         NaN           NaN             NaN    NaN            NaN  NaN   \n",
       "4982         NaN           NaN             NaN    4.4            NaN  NaN   \n",
       "4983         NaN           NaN             NaN    NaN            NaN  NaN   \n",
       "4984         NaN           NaN             NaN    5.0            NaN  NaN   \n",
       "\n",
       "               product dimensions  item weight  \n",
       "0     23.54 x 8.33 x 18.28 inches  9.94 pounds  \n",
       "1     21.59 x 7.02 x 15.83 inches  5.77 pounds  \n",
       "2     24.27 x 9.01 x 17.69 inches   8.6 pounds  \n",
       "3     24.12 x 7.03 x 17.12 inches  7.12 pounds  \n",
       "4     8.61 x 21.56 x 16.68 inches   6.8 pounds  \n",
       "...                           ...          ...  \n",
       "4980                          NaN          NaN  \n",
       "4981                          NaN          NaN  \n",
       "4982    5.75 x 0.75 x 2.72 inches   5.1 ounces  \n",
       "4983                          NaN          NaN  \n",
       "4984       9 x 11.5 x 2.25 inches  2.65 pounds  \n",
       "\n",
       "[4985 rows x 116 columns]"
      ],
      "text/html": "<div>\n<style scoped>\n    .dataframe tbody tr th:only-of-type {\n        vertical-align: middle;\n    }\n\n    .dataframe tbody tr th {\n        vertical-align: top;\n    }\n\n    .dataframe thead th {\n        text-align: right;\n    }\n</style>\n<table border=\"1\" class=\"dataframe\">\n  <thead>\n    <tr style=\"text-align: right;\">\n      <th></th>\n      <th>Unnamed: 0</th>\n      <th>name</th>\n      <th>seller</th>\n      <th>seller_link</th>\n      <th>freq_bought</th>\n      <th>freq_bought_link</th>\n      <th>link_to_all_reviews</th>\n      <th>assembled width</th>\n      <th>average life</th>\n      <th>hard drive interface</th>\n      <th>...</th>\n      <th>color name</th>\n      <th>part number</th>\n      <th>shade color</th>\n      <th>certification</th>\n      <th>light direction</th>\n      <th>rating</th>\n      <th>shade material</th>\n      <th>os</th>\n      <th>product dimensions</th>\n      <th>item weight</th>\n    </tr>\n  </thead>\n  <tbody>\n    <tr>\n      <th>0</th>\n      <td>0</td>\n      <td>HP 24mh FHD Monitor - Computer Monitor with 23...</td>\n      <td>Moonlight LLC.</td>\n      <td>https://www.amazon.com/gp/help/seller/at-a-gla...</td>\n      <td>NaN</td>\n      <td>NaN</td>\n      <td>https://www.amazon.com//HP-24mh-FHD-Monitor-Bu...</td>\n      <td>NaN</td>\n      <td>NaN</td>\n      <td>NaN</td>\n      <td>...</td>\n      <td>NaN</td>\n      <td>NaN</td>\n      <td>NaN</td>\n      <td>NaN</td>\n      <td>NaN</td>\n      <td>4.7</td>\n      <td>NaN</td>\n      <td>NaN</td>\n      <td>23.54 x 8.33 x 18.28 inches</td>\n      <td>9.94 pounds</td>\n    </tr>\n    <tr>\n      <th>1</th>\n      <td>1</td>\n      <td>Sceptre E248W-19203R 24\" Ultra Thin 75Hz 1080p...</td>\n      <td>NaN</td>\n      <td>NaN</td>\n      <td>NaN</td>\n      <td>NaN</td>\n      <td>https://www.amazon.com//Sceptre-E248W-19203R-M...</td>\n      <td>NaN</td>\n      <td>NaN</td>\n      <td>NaN</td>\n      <td>...</td>\n      <td>NaN</td>\n      <td>NaN</td>\n      <td>NaN</td>\n      <td>NaN</td>\n      <td>NaN</td>\n      <td>4.6</td>\n      <td>NaN</td>\n      <td>NaN</td>\n      <td>21.59 x 7.02 x 15.83 inches</td>\n      <td>5.77 pounds</td>\n    </tr>\n    <tr>\n      <th>2</th>\n      <td>2</td>\n      <td>Sceptre Curved 27\" 75Hz LED Monitor HDMI VGA B...</td>\n      <td>NaN</td>\n      <td>NaN</td>\n      <td>NaN</td>\n      <td>NaN</td>\n      <td>https://www.amazon.com//Sceptre-Monitor-Speake...</td>\n      <td>NaN</td>\n      <td>NaN</td>\n      <td>NaN</td>\n      <td>...</td>\n      <td>NaN</td>\n      <td>NaN</td>\n      <td>NaN</td>\n      <td>NaN</td>\n      <td>NaN</td>\n      <td>4.7</td>\n      <td>NaN</td>\n      <td>NaN</td>\n      <td>24.27 x 9.01 x 17.69 inches</td>\n      <td>8.6 pounds</td>\n    </tr>\n    <tr>\n      <th>3</th>\n      <td>3</td>\n      <td>Sceptre IPS 27-Inch Business Computer Monitor ...</td>\n      <td>NaN</td>\n      <td>NaN</td>\n      <td>NaN</td>\n      <td>NaN</td>\n      <td>https://www.amazon.com//Sceptre-Business-Compu...</td>\n      <td>NaN</td>\n      <td>NaN</td>\n      <td>NaN</td>\n      <td>...</td>\n      <td>NaN</td>\n      <td>NaN</td>\n      <td>NaN</td>\n      <td>NaN</td>\n      <td>NaN</td>\n      <td>4.7</td>\n      <td>NaN</td>\n      <td>NaN</td>\n      <td>24.12 x 7.03 x 17.12 inches</td>\n      <td>7.12 pounds</td>\n    </tr>\n    <tr>\n      <th>4</th>\n      <td>4</td>\n      <td>SAMSUNG LC24F396FHNXZA 23.5\" FHD Curved LED-Li...</td>\n      <td>NaN</td>\n      <td>NaN</td>\n      <td>NaN</td>\n      <td>NaN</td>\n      <td>https://www.amazon.com//Samsung-23-5-Inch-LED-...</td>\n      <td>NaN</td>\n      <td>NaN</td>\n      <td>NaN</td>\n      <td>...</td>\n      <td>NaN</td>\n      <td>NaN</td>\n      <td>NaN</td>\n      <td>NaN</td>\n      <td>NaN</td>\n      <td>4.7</td>\n      <td>NaN</td>\n      <td>NaN</td>\n      <td>8.61 x 21.56 x 16.68 inches</td>\n      <td>6.8 pounds</td>\n    </tr>\n    <tr>\n      <th>...</th>\n      <td>...</td>\n      <td>...</td>\n      <td>...</td>\n      <td>...</td>\n      <td>...</td>\n      <td>...</td>\n      <td>...</td>\n      <td>...</td>\n      <td>...</td>\n      <td>...</td>\n      <td>...</td>\n      <td>...</td>\n      <td>...</td>\n      <td>...</td>\n      <td>...</td>\n      <td>...</td>\n      <td>...</td>\n      <td>...</td>\n      <td>...</td>\n      <td>...</td>\n      <td>...</td>\n    </tr>\n    <tr>\n      <th>4980</th>\n      <td>4986</td>\n      <td>KabelDirekt – 6ft – 4K HDMI cable (4K@120Hz &amp; ...</td>\n      <td>KabelDirekt Products</td>\n      <td>https://www.amazon.com/gp/help/seller/at-a-gla...</td>\n      <td>HDMI Switch 4K HDMI Splitter-Techole Aluminum ...</td>\n      <td>https://www.amazon.com/HDMI-Switch-4K-Splitter...</td>\n      <td>https://www.amazon.com//Cable-supports-FullHD-...</td>\n      <td>NaN</td>\n      <td>NaN</td>\n      <td>NaN</td>\n      <td>...</td>\n      <td>NaN</td>\n      <td>NaN</td>\n      <td>NaN</td>\n      <td>NaN</td>\n      <td>NaN</td>\n      <td>NaN</td>\n      <td>NaN</td>\n      <td>NaN</td>\n      <td>NaN</td>\n      <td>NaN</td>\n    </tr>\n    <tr>\n      <th>4981</th>\n      <td>4987</td>\n      <td>OSD Audio TSM-T9 Home and Office Dual Arm Desk...</td>\n      <td>NaN</td>\n      <td>NaN</td>\n      <td>NaN</td>\n      <td>NaN</td>\n      <td>https://www.amazon.com//OSD-Audio-13-inch-23-i...</td>\n      <td>NaN</td>\n      <td>NaN</td>\n      <td>NaN</td>\n      <td>...</td>\n      <td>NaN</td>\n      <td>NaN</td>\n      <td>NaN</td>\n      <td>NaN</td>\n      <td>NaN</td>\n      <td>NaN</td>\n      <td>NaN</td>\n      <td>NaN</td>\n      <td>NaN</td>\n      <td>NaN</td>\n    </tr>\n    <tr>\n      <th>4982</th>\n      <td>4988</td>\n      <td>MSI Gaming GeForce GT 710 2GB GDRR3 64-bit HDC...</td>\n      <td>NaN</td>\n      <td>NaN</td>\n      <td>NaN</td>\n      <td>NaN</td>\n      <td>https://www.amazon.com//MSI-GT-710-2GD3-LP/pro...</td>\n      <td>NaN</td>\n      <td>NaN</td>\n      <td>NaN</td>\n      <td>...</td>\n      <td>NaN</td>\n      <td>NaN</td>\n      <td>NaN</td>\n      <td>NaN</td>\n      <td>NaN</td>\n      <td>4.4</td>\n      <td>NaN</td>\n      <td>NaN</td>\n      <td>5.75 x 0.75 x 2.72 inches</td>\n      <td>5.1 ounces</td>\n    </tr>\n    <tr>\n      <th>4983</th>\n      <td>4989</td>\n      <td>MMOBIEL Heavy Duty Suction Cups 2 Pcs Compatib...</td>\n      <td>Menko Teleco</td>\n      <td>https://www.amazon.com/gp/help/seller/at-a-gla...</td>\n      <td>LeFix Replacement LCD Panel Adhesive Tape Stri...</td>\n      <td>https://www.amazon.com/Replacement-Panel-Adhes...</td>\n      <td>https://www.amazon.com//MMOBIEL-Suction-Compat...</td>\n      <td>NaN</td>\n      <td>NaN</td>\n      <td>NaN</td>\n      <td>...</td>\n      <td>NaN</td>\n      <td>NaN</td>\n      <td>NaN</td>\n      <td>NaN</td>\n      <td>NaN</td>\n      <td>NaN</td>\n      <td>NaN</td>\n      <td>NaN</td>\n      <td>NaN</td>\n      <td>NaN</td>\n    </tr>\n    <tr>\n      <th>4984</th>\n      <td>4990</td>\n      <td>Sensor-1 EXT37A25-16 25-Feet Monitor Extension...</td>\n      <td>NaN</td>\n      <td>NaN</td>\n      <td>NaN</td>\n      <td>NaN</td>\n      <td>NaN</td>\n      <td>NaN</td>\n      <td>NaN</td>\n      <td>NaN</td>\n      <td>...</td>\n      <td>NaN</td>\n      <td>NaN</td>\n      <td>NaN</td>\n      <td>NaN</td>\n      <td>NaN</td>\n      <td>5.0</td>\n      <td>NaN</td>\n      <td>NaN</td>\n      <td>9 x 11.5 x 2.25 inches</td>\n      <td>2.65 pounds</td>\n    </tr>\n  </tbody>\n</table>\n<p>4985 rows × 116 columns</p>\n</div>"
     },
     "metadata": {},
     "execution_count": 97
    }
   ],
   "source": [
    "df2 = pd.read_csv(csv_filename)\n",
    "df2"
   ]
  },
  {
   "cell_type": "code",
   "execution_count": null,
   "metadata": {},
   "outputs": [],
   "source": []
  }
 ]
}