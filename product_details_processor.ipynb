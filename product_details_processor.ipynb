{
 "metadata": {
  "language_info": {
   "codemirror_mode": {
    "name": "ipython",
    "version": 3
   },
   "file_extension": ".py",
   "mimetype": "text/x-python",
   "name": "python",
   "nbconvert_exporter": "python",
   "pygments_lexer": "ipython3",
   "version": "3.8.5-final"
  },
  "orig_nbformat": 2,
  "kernelspec": {
   "name": "python3",
   "display_name": "Python 3.8.5 64-bit ('ProgramData': virtualenv)",
   "metadata": {
    "interpreter": {
     "hash": "b3ba2566441a7c06988d0923437866b63cedc61552a5af99d1f4fb67d367b25f"
    }
   }
  }
 },
 "nbformat": 4,
 "nbformat_minor": 2,
 "cells": [
  {
   "cell_type": "code",
   "execution_count": 1,
   "metadata": {},
   "outputs": [],
   "source": [
    "import pandas as pd\n",
    "import numpy as np\n",
    "import re\n",
    "from pandas.io.json import json_normalize\n",
    "\n",
    "csv_filename = 'product_details_processor.csv'\n",
    "csv_bought_together = 'items_bought_together_processor.csv'\n",
    "csv_customer_reviews = 'links_to_customer_reviews_processor.csv'\n",
    "txt_customer_reviews = 'links_to_customer_reviews_processor.txt'"
   ]
  },
  {
   "cell_type": "code",
   "execution_count": 2,
   "metadata": {},
   "outputs": [
    {
     "output_type": "execute_result",
     "data": {
      "text/plain": [
       "                                                name product_summary  \\\n",
       "0  AMD Ryzen 5 3600 6-Core, 12-Thread Unlocked De...            None   \n",
       "1  Intel Core i9-9900K Desktop Processor 8 Cores ...            None   \n",
       "2  AMD Ryzen 9 3900X 12-core, 24-thread unlocked ...            None   \n",
       "3  AMD Ryzen 7 3700X 8-Core, 16-Thread Unlocked D...            None   \n",
       "4  Intel Core i5-10400 Desktop Processor 6 Cores ...            None   \n",
       "\n",
       "                                   product_tech_spec  \\\n",
       "0  [{'info': 'Brand', 'value': 'AMD'}, {'info': '...   \n",
       "1  [{'info': 'Brand', 'value': 'Intel'}, {'info':...   \n",
       "2  [{'info': 'Brand', 'value': 'AMD'}, {'info': '...   \n",
       "3  [{'info': 'Brand', 'value': 'AMD'}, {'info': '...   \n",
       "4  [{'info': 'Brand', 'value': 'Intel'}, {'info':...   \n",
       "\n",
       "                                   product_addl_info   seller  \\\n",
       "0  [{'info': 'Customer Reviews', 'value': '/*\n",
       "* F...     None   \n",
       "1  [{'info': 'Customer Reviews', 'value': '/*\n",
       "* F...  Ideabuy   \n",
       "2  [{'info': 'Customer Reviews', 'value': '/*\n",
       "* F...     None   \n",
       "3  [{'info': 'Customer Reviews', 'value': '/*\n",
       "* F...     None   \n",
       "4  [{'info': 'Customer Reviews', 'value': '/*\n",
       "* F...     None   \n",
       "\n",
       "                                         seller_link freq_bought  \\\n",
       "0                                               None        None   \n",
       "1  https://www.amazon.com/gp/help/seller/at-a-gla...        None   \n",
       "2                                               None        None   \n",
       "3                                               None        None   \n",
       "4                                               None        None   \n",
       "\n",
       "  freq_bought_link                                link_to_all_reviews  \n",
       "0             None  /AMD-Ryzen-3600-12-Thread-Processor/product-re...  \n",
       "1             None  /Intel-i9-9900K-Processor-Unlocked-BX806849900...  \n",
       "2             None  /AMD-Ryzen-3900X-24-Thread-Processor/product-r...  \n",
       "3             None  /AMD-Ryzen-3700X-16-Thread-Processor/product-r...  \n",
       "4             None  /Intel-i5-10400-Desktop-Processor-LGA1200/prod...  "
      ],
      "text/html": "<div>\n<style scoped>\n    .dataframe tbody tr th:only-of-type {\n        vertical-align: middle;\n    }\n\n    .dataframe tbody tr th {\n        vertical-align: top;\n    }\n\n    .dataframe thead th {\n        text-align: right;\n    }\n</style>\n<table border=\"1\" class=\"dataframe\">\n  <thead>\n    <tr style=\"text-align: right;\">\n      <th></th>\n      <th>name</th>\n      <th>product_summary</th>\n      <th>product_tech_spec</th>\n      <th>product_addl_info</th>\n      <th>seller</th>\n      <th>seller_link</th>\n      <th>freq_bought</th>\n      <th>freq_bought_link</th>\n      <th>link_to_all_reviews</th>\n    </tr>\n  </thead>\n  <tbody>\n    <tr>\n      <th>0</th>\n      <td>AMD Ryzen 5 3600 6-Core, 12-Thread Unlocked De...</td>\n      <td>None</td>\n      <td>[{'info': 'Brand', 'value': 'AMD'}, {'info': '...</td>\n      <td>[{'info': 'Customer Reviews', 'value': '/*\n* F...</td>\n      <td>None</td>\n      <td>None</td>\n      <td>None</td>\n      <td>None</td>\n      <td>/AMD-Ryzen-3600-12-Thread-Processor/product-re...</td>\n    </tr>\n    <tr>\n      <th>1</th>\n      <td>Intel Core i9-9900K Desktop Processor 8 Cores ...</td>\n      <td>None</td>\n      <td>[{'info': 'Brand', 'value': 'Intel'}, {'info':...</td>\n      <td>[{'info': 'Customer Reviews', 'value': '/*\n* F...</td>\n      <td>Ideabuy</td>\n      <td>https://www.amazon.com/gp/help/seller/at-a-gla...</td>\n      <td>None</td>\n      <td>None</td>\n      <td>/Intel-i9-9900K-Processor-Unlocked-BX806849900...</td>\n    </tr>\n    <tr>\n      <th>2</th>\n      <td>AMD Ryzen 9 3900X 12-core, 24-thread unlocked ...</td>\n      <td>None</td>\n      <td>[{'info': 'Brand', 'value': 'AMD'}, {'info': '...</td>\n      <td>[{'info': 'Customer Reviews', 'value': '/*\n* F...</td>\n      <td>None</td>\n      <td>None</td>\n      <td>None</td>\n      <td>None</td>\n      <td>/AMD-Ryzen-3900X-24-Thread-Processor/product-r...</td>\n    </tr>\n    <tr>\n      <th>3</th>\n      <td>AMD Ryzen 7 3700X 8-Core, 16-Thread Unlocked D...</td>\n      <td>None</td>\n      <td>[{'info': 'Brand', 'value': 'AMD'}, {'info': '...</td>\n      <td>[{'info': 'Customer Reviews', 'value': '/*\n* F...</td>\n      <td>None</td>\n      <td>None</td>\n      <td>None</td>\n      <td>None</td>\n      <td>/AMD-Ryzen-3700X-16-Thread-Processor/product-r...</td>\n    </tr>\n    <tr>\n      <th>4</th>\n      <td>Intel Core i5-10400 Desktop Processor 6 Cores ...</td>\n      <td>None</td>\n      <td>[{'info': 'Brand', 'value': 'Intel'}, {'info':...</td>\n      <td>[{'info': 'Customer Reviews', 'value': '/*\n* F...</td>\n      <td>None</td>\n      <td>None</td>\n      <td>None</td>\n      <td>None</td>\n      <td>/Intel-i5-10400-Desktop-Processor-LGA1200/prod...</td>\n    </tr>\n  </tbody>\n</table>\n</div>"
     },
     "metadata": {},
     "execution_count": 2
    }
   ],
   "source": [
    "df = pd.read_json('processor_product_output.jsonl')\n",
    "df.head()"
   ]
  },
  {
   "cell_type": "code",
   "execution_count": 3,
   "metadata": {},
   "outputs": [],
   "source": [
    "df.name = df.name.str.replace('\"','inch')"
   ]
  },
  {
   "cell_type": "code",
   "execution_count": 4,
   "metadata": {},
   "outputs": [],
   "source": [
    "df = df.dropna(axis=0, how='all')"
   ]
  },
  {
   "cell_type": "code",
   "execution_count": 5,
   "metadata": {},
   "outputs": [],
   "source": [
    "df.link_to_all_reviews = 'https://www.amazon.com/' + df.link_to_all_reviews"
   ]
  },
  {
   "cell_type": "code",
   "execution_count": 6,
   "metadata": {},
   "outputs": [],
   "source": [
    "df.reset_index(drop=True, inplace = True)"
   ]
  },
  {
   "cell_type": "code",
   "execution_count": 7,
   "metadata": {},
   "outputs": [],
   "source": [
    "# Extraction of all specifications in nested JSON-dicts to be used for building additional columns \n",
    "  \n",
    "new_columns = []\n",
    "for i in range(len(df)):\n",
    "    if df.product_summary[i] is not None:\n",
    "        product_sum = df.product_summary[i]\n",
    "        x = len(product_sum)  \n",
    "        for j in range(x):\n",
    "            new_columns.append(product_sum[j]['info'])\n",
    "    if df.product_tech_spec[i] is not None:\n",
    "        product_tech = df.product_tech_spec[i]\n",
    "        y = len(product_tech)  \n",
    "        for j in range(y):\n",
    "            new_columns.append(product_tech[j]['info'])\n",
    "    if df.product_addl_info[i] is not None:\n",
    "        product_add = df.product_addl_info[i]\n",
    "        z = len(product_add)  \n",
    "        for j in range(z):\n",
    "            new_columns.append(product_add[j]['info'])"
   ]
  },
  {
   "cell_type": "code",
   "execution_count": 8,
   "metadata": {},
   "outputs": [],
   "source": [
    "for i in range(len(new_columns)):\n",
    "    if new_columns[i] is not None:\n",
    "        new_columns[i] = new_columns[i].lower()\n",
    "new_columns = set(new_columns) "
   ]
  },
  {
   "cell_type": "code",
   "execution_count": 9,
   "metadata": {},
   "outputs": [],
   "source": [
    "new_columns = list(new_columns)"
   ]
  },
  {
   "cell_type": "code",
   "execution_count": 10,
   "metadata": {},
   "outputs": [],
   "source": [
    "try:\n",
    "    new_columns.remove(None)\n",
    "except:\n",
    "    pass"
   ]
  },
  {
   "cell_type": "code",
   "execution_count": 11,
   "metadata": {},
   "outputs": [],
   "source": [
    "for i in new_columns:\n",
    "    df[i] = i\n",
    "    df[i] = ''"
   ]
  },
  {
   "cell_type": "code",
   "execution_count": 12,
   "metadata": {},
   "outputs": [],
   "source": [
    "new_columns.sort()"
   ]
  },
  {
   "cell_type": "code",
   "execution_count": 13,
   "metadata": {},
   "outputs": [
    {
     "output_type": "execute_result",
     "data": {
      "text/plain": [
       "105"
      ]
     },
     "metadata": {},
     "execution_count": 13
    }
   ],
   "source": [
    "len(new_columns)"
   ]
  },
  {
   "cell_type": "code",
   "execution_count": 14,
   "metadata": {},
   "outputs": [],
   "source": [
    "for i in range(len(df)):\n",
    "    if df.product_summary[i] is not None:\n",
    "        psc = []\n",
    "        product_sum = df.product_summary[i]\n",
    "        product_sum = pd.DataFrame(product_sum)\n",
    "        product_sum = product_sum.transpose()\n",
    "        psc_len = len(product_sum.columns)  # collecting number of columns in product_sum / items in df.product_summary\n",
    "        for j in range(psc_len):            # getting item / column names\n",
    "            psc.append(product_sum[j][0])\n",
    "        for k in range(len(psc)):           # setting item / column names in lower cases for transfer of values into correct df columns\n",
    "            if psc[k] is not None:\n",
    "                psc[k] = psc[k].lower()\n",
    "        product_sum.columns = product_sum.iloc[0] # Turns row 1 into column names\n",
    "        product_sum = product_sum.drop('info') # Drops row 1\n",
    "        product_sum.columns = psc\n",
    "        for l in psc: \n",
    "            try:\n",
    "                df[l][i] = product_sum[l]['value']\n",
    "            except:\n",
    "                continue\n",
    "    if df.product_tech_spec[i] is not None:\n",
    "        ptc = []\n",
    "        product_tec = df.product_tech_spec[i]\n",
    "        product_tec = pd.DataFrame(product_tec)\n",
    "        product_tec = product_tec.transpose()\n",
    "        ptc_len = len(product_tec.columns)  # collecting number of columns in product_tec / items in df.product_tech_spec\n",
    "        for j in range(ptc_len):            # getting item / column names\n",
    "            ptc.append(product_tec[j][0])\n",
    "        for k in range(len(ptc)):           # setting item / column names in lower cases for transfer of values into correct df columns\n",
    "            if ptc[k] is not None:\n",
    "                ptc[k] = ptc[k].lower()\n",
    "        product_tec.columns = product_tec.iloc[0] # Turns row 1 into column names\n",
    "        product_tec = product_tec.drop('info') # Drops row 1\n",
    "        product_tec.columns = ptc\n",
    "        for l in ptc:   ## What does this loop through??? I need the column name, but I have to stay within one row!!!\n",
    "            try:\n",
    "                df[l][i] = product_tec[l]['value']\n",
    "            except:\n",
    "                continue\n",
    "    if df.product_addl_info[i] is not None:\n",
    "        pac = []\n",
    "        product_add = df.product_addl_info[i]\n",
    "        product_add = pd.DataFrame(product_add)\n",
    "        product_add = product_add.transpose()\n",
    "        pac_len = len(product_add.columns)  # collecting number of columns in product_tec / items in df.product_tech_spec\n",
    "        for j in range(pac_len):            # getting item / column names\n",
    "            pac.append(product_add[j][0])\n",
    "        for k in range(len(pac)):           # setting item / column names in lower cases for transfer of values into correct df columns\n",
    "            if pac[k] is not None:\n",
    "                pac[k] = pac[k].lower()\n",
    "        product_add.columns = product_add.iloc[0] # Turns row 1 into column names\n",
    "        product_add = product_add.drop('info') # Drops row 1\n",
    "        product_add.columns = pac\n",
    "        for l in pac:   ## What does this loop through??? I need the column name, but I have to stay within one row!!!\n",
    "            try:\n",
    "                df[l][i] = product_add[l]['value']\n",
    "            except:\n",
    "                continue"
   ]
  },
  {
   "cell_type": "code",
   "execution_count": 15,
   "metadata": {},
   "outputs": [],
   "source": [
    "df.rename(columns = {'asin' : 'ASIN'}, inplace = True)"
   ]
  },
  {
   "cell_type": "code",
   "execution_count": 18,
   "metadata": {},
   "outputs": [],
   "source": [
    "df.drop_duplicates(subset =\"ASIN\", keep = False, inplace = True) "
   ]
  },
  {
   "cell_type": "code",
   "execution_count": 26,
   "metadata": {},
   "outputs": [
    {
     "output_type": "execute_result",
     "data": {
      "text/plain": [
       "0       4.9\n",
       "1       4.8\n",
       "3       4.9\n",
       "5       4.8\n",
       "7       4.8\n",
       "       ... \n",
       "6097    NaN\n",
       "6098    NaN\n",
       "6103    3.0\n",
       "6105    5.0\n",
       "6107    NaN\n",
       "Name: customer reviews, Length: 2477, dtype: object"
      ]
     },
     "metadata": {},
     "execution_count": 26
    }
   ],
   "source": [
    "df['customer reviews']"
   ]
  },
  {
   "cell_type": "code",
   "execution_count": 21,
   "metadata": {},
   "outputs": [],
   "source": [
    "df['customer reviews'] = df['customer reviews'].str.split('{\\ntext-decoration: none;\\n} ').str[1]\n",
    "df['customer reviews'] = df['customer reviews'].str.split(' out of 5 stars').str[0]\n",
    "# df['customer reviews'] = df['customer reviews'].str.split(' out of 5 stars').str[0]\n",
    "# df['customer reviews'] = df['customer reviews'].str.split(' von 5 Sternen').str[0]\n",
    "\n",
    "# df['ASIN'] = df.url.str.split('/dp/').str[-1]\n",
    "# df['ASIN'] = df.ASIN.str.split('%2Fdp%2F').str[-1]\n",
    "# df['ASIN'] = df.ASIN.str.split('/').str[0]\n",
    "# df['ASIN'] = df.ASIN.str.split('%2F').str[0]"
   ]
  },
  {
   "cell_type": "code",
   "execution_count": 25,
   "metadata": {},
   "outputs": [],
   "source": [
    "df['customer reviews'] = df['customer reviews'].str.replace(',','.')"
   ]
  },
  {
   "cell_type": "code",
   "execution_count": 40,
   "metadata": {},
   "outputs": [
    {
     "output_type": "error",
     "ename": "KeyError",
     "evalue": "'customer reviews'",
     "traceback": [
      "\u001b[1;31m---------------------------------------------------------------------------\u001b[0m",
      "\u001b[1;31mKeyError\u001b[0m                                  Traceback (most recent call last)",
      "\u001b[1;32mC:\\ProgramData\\Anaconda3\\lib\\site-packages\\pandas\\core\\indexes\\base.py\u001b[0m in \u001b[0;36mget_loc\u001b[1;34m(self, key, method, tolerance)\u001b[0m\n\u001b[0;32m   2894\u001b[0m             \u001b[1;32mtry\u001b[0m\u001b[1;33m:\u001b[0m\u001b[1;33m\u001b[0m\u001b[1;33m\u001b[0m\u001b[0m\n\u001b[1;32m-> 2895\u001b[1;33m                 \u001b[1;32mreturn\u001b[0m \u001b[0mself\u001b[0m\u001b[1;33m.\u001b[0m\u001b[0m_engine\u001b[0m\u001b[1;33m.\u001b[0m\u001b[0mget_loc\u001b[0m\u001b[1;33m(\u001b[0m\u001b[0mcasted_key\u001b[0m\u001b[1;33m)\u001b[0m\u001b[1;33m\u001b[0m\u001b[1;33m\u001b[0m\u001b[0m\n\u001b[0m\u001b[0;32m   2896\u001b[0m             \u001b[1;32mexcept\u001b[0m \u001b[0mKeyError\u001b[0m \u001b[1;32mas\u001b[0m \u001b[0merr\u001b[0m\u001b[1;33m:\u001b[0m\u001b[1;33m\u001b[0m\u001b[1;33m\u001b[0m\u001b[0m\n",
      "\u001b[1;32mpandas\\_libs\\index.pyx\u001b[0m in \u001b[0;36mpandas._libs.index.IndexEngine.get_loc\u001b[1;34m()\u001b[0m\n",
      "\u001b[1;32mpandas\\_libs\\index.pyx\u001b[0m in \u001b[0;36mpandas._libs.index.IndexEngine.get_loc\u001b[1;34m()\u001b[0m\n",
      "\u001b[1;32mpandas\\_libs\\hashtable_class_helper.pxi\u001b[0m in \u001b[0;36mpandas._libs.hashtable.PyObjectHashTable.get_item\u001b[1;34m()\u001b[0m\n",
      "\u001b[1;32mpandas\\_libs\\hashtable_class_helper.pxi\u001b[0m in \u001b[0;36mpandas._libs.hashtable.PyObjectHashTable.get_item\u001b[1;34m()\u001b[0m\n",
      "\u001b[1;31mKeyError\u001b[0m: 'customer reviews'",
      "\nThe above exception was the direct cause of the following exception:\n",
      "\u001b[1;31mKeyError\u001b[0m                                  Traceback (most recent call last)",
      "\u001b[1;32m<ipython-input-40-c3e2601fc790>\u001b[0m in \u001b[0;36m<module>\u001b[1;34m\u001b[0m\n\u001b[0;32m     11\u001b[0m \u001b[1;31m#         except:\u001b[0m\u001b[1;33m\u001b[0m\u001b[1;33m\u001b[0m\u001b[1;33m\u001b[0m\u001b[0m\n\u001b[0;32m     12\u001b[0m \u001b[1;31m#             pass\u001b[0m\u001b[1;33m\u001b[0m\u001b[1;33m\u001b[0m\u001b[1;33m\u001b[0m\u001b[0m\n\u001b[1;32m---> 13\u001b[1;33m      \u001b[1;32mif\u001b[0m \u001b[0mdf\u001b[0m\u001b[1;33m[\u001b[0m\u001b[1;34m'customer reviews'\u001b[0m\u001b[1;33m]\u001b[0m\u001b[1;33m[\u001b[0m\u001b[0mi\u001b[0m\u001b[1;33m]\u001b[0m \u001b[1;32mis\u001b[0m \u001b[1;32mNone\u001b[0m\u001b[1;33m:\u001b[0m\u001b[1;33m\u001b[0m\u001b[1;33m\u001b[0m\u001b[0m\n\u001b[0m\u001b[0;32m     14\u001b[0m          \u001b[0mdf\u001b[0m\u001b[1;33m[\u001b[0m\u001b[1;34m'customer reviews'\u001b[0m\u001b[1;33m]\u001b[0m\u001b[1;33m[\u001b[0m\u001b[0mi\u001b[0m\u001b[1;33m]\u001b[0m \u001b[1;33m=\u001b[0m \u001b[1;36m0\u001b[0m\u001b[1;33m\u001b[0m\u001b[1;33m\u001b[0m\u001b[0m\n",
      "\u001b[1;32mC:\\ProgramData\\Anaconda3\\lib\\site-packages\\pandas\\core\\frame.py\u001b[0m in \u001b[0;36m__getitem__\u001b[1;34m(self, key)\u001b[0m\n\u001b[0;32m   2900\u001b[0m             \u001b[1;32mif\u001b[0m \u001b[0mself\u001b[0m\u001b[1;33m.\u001b[0m\u001b[0mcolumns\u001b[0m\u001b[1;33m.\u001b[0m\u001b[0mnlevels\u001b[0m \u001b[1;33m>\u001b[0m \u001b[1;36m1\u001b[0m\u001b[1;33m:\u001b[0m\u001b[1;33m\u001b[0m\u001b[1;33m\u001b[0m\u001b[0m\n\u001b[0;32m   2901\u001b[0m                 \u001b[1;32mreturn\u001b[0m \u001b[0mself\u001b[0m\u001b[1;33m.\u001b[0m\u001b[0m_getitem_multilevel\u001b[0m\u001b[1;33m(\u001b[0m\u001b[0mkey\u001b[0m\u001b[1;33m)\u001b[0m\u001b[1;33m\u001b[0m\u001b[1;33m\u001b[0m\u001b[0m\n\u001b[1;32m-> 2902\u001b[1;33m             \u001b[0mindexer\u001b[0m \u001b[1;33m=\u001b[0m \u001b[0mself\u001b[0m\u001b[1;33m.\u001b[0m\u001b[0mcolumns\u001b[0m\u001b[1;33m.\u001b[0m\u001b[0mget_loc\u001b[0m\u001b[1;33m(\u001b[0m\u001b[0mkey\u001b[0m\u001b[1;33m)\u001b[0m\u001b[1;33m\u001b[0m\u001b[1;33m\u001b[0m\u001b[0m\n\u001b[0m\u001b[0;32m   2903\u001b[0m             \u001b[1;32mif\u001b[0m \u001b[0mis_integer\u001b[0m\u001b[1;33m(\u001b[0m\u001b[0mindexer\u001b[0m\u001b[1;33m)\u001b[0m\u001b[1;33m:\u001b[0m\u001b[1;33m\u001b[0m\u001b[1;33m\u001b[0m\u001b[0m\n\u001b[0;32m   2904\u001b[0m                 \u001b[0mindexer\u001b[0m \u001b[1;33m=\u001b[0m \u001b[1;33m[\u001b[0m\u001b[0mindexer\u001b[0m\u001b[1;33m]\u001b[0m\u001b[1;33m\u001b[0m\u001b[1;33m\u001b[0m\u001b[0m\n",
      "\u001b[1;32mC:\\ProgramData\\Anaconda3\\lib\\site-packages\\pandas\\core\\indexes\\base.py\u001b[0m in \u001b[0;36mget_loc\u001b[1;34m(self, key, method, tolerance)\u001b[0m\n\u001b[0;32m   2895\u001b[0m                 \u001b[1;32mreturn\u001b[0m \u001b[0mself\u001b[0m\u001b[1;33m.\u001b[0m\u001b[0m_engine\u001b[0m\u001b[1;33m.\u001b[0m\u001b[0mget_loc\u001b[0m\u001b[1;33m(\u001b[0m\u001b[0mcasted_key\u001b[0m\u001b[1;33m)\u001b[0m\u001b[1;33m\u001b[0m\u001b[1;33m\u001b[0m\u001b[0m\n\u001b[0;32m   2896\u001b[0m             \u001b[1;32mexcept\u001b[0m \u001b[0mKeyError\u001b[0m \u001b[1;32mas\u001b[0m \u001b[0merr\u001b[0m\u001b[1;33m:\u001b[0m\u001b[1;33m\u001b[0m\u001b[1;33m\u001b[0m\u001b[0m\n\u001b[1;32m-> 2897\u001b[1;33m                 \u001b[1;32mraise\u001b[0m \u001b[0mKeyError\u001b[0m\u001b[1;33m(\u001b[0m\u001b[0mkey\u001b[0m\u001b[1;33m)\u001b[0m \u001b[1;32mfrom\u001b[0m \u001b[0merr\u001b[0m\u001b[1;33m\u001b[0m\u001b[1;33m\u001b[0m\u001b[0m\n\u001b[0m\u001b[0;32m   2898\u001b[0m \u001b[1;33m\u001b[0m\u001b[0m\n\u001b[0;32m   2899\u001b[0m         \u001b[1;32mif\u001b[0m \u001b[0mtolerance\u001b[0m \u001b[1;32mis\u001b[0m \u001b[1;32mnot\u001b[0m \u001b[1;32mNone\u001b[0m\u001b[1;33m:\u001b[0m\u001b[1;33m\u001b[0m\u001b[1;33m\u001b[0m\u001b[0m\n",
      "\u001b[1;31mKeyError\u001b[0m: 'customer reviews'"
     ]
    }
   ],
   "source": [
    "# Solved above differently because re-scraping resolved in different data basis\n",
    "\n",
    "for i in range(len(df)):\n",
    "#     if df['customer reviews'][i] is not None:\n",
    "#         try:\n",
    "#             res = [re.findall(r'(\\d+).(\\d+) out of 5 stars', df['customer reviews'][i])[0] ]\n",
    "#             a = res[0][0]\n",
    "#             b = res[0][1]\n",
    "#             c = float(a+'.'+b)\n",
    "#             df['customer reviews'][i] = c\n",
    "#         except:\n",
    "#             pass\n",
    "    #  else:\n",
    "    #      df['customer reviews'][i] = 0\n",
    "     if df['customer reviews'][i] is None:\n",
    "         df['customer reviews'][i] = 0"
   ]
  },
  {
   "cell_type": "code",
   "execution_count": 27,
   "metadata": {},
   "outputs": [],
   "source": [
    "df.rename(columns = {'customer reviews' : 'rating'}, inplace = True)"
   ]
  },
  {
   "cell_type": "code",
   "execution_count": 28,
   "metadata": {},
   "outputs": [
    {
     "output_type": "execute_result",
     "data": {
      "text/plain": [
       "0       4.9\n",
       "1       4.8\n",
       "3       4.9\n",
       "5       4.8\n",
       "7       4.8\n",
       "       ... \n",
       "6097    NaN\n",
       "6098    NaN\n",
       "6103    3.0\n",
       "6105    5.0\n",
       "6107    NaN\n",
       "Name: rating, Length: 2477, dtype: object"
      ]
     },
     "metadata": {},
     "execution_count": 28
    }
   ],
   "source": [
    "df.rating"
   ]
  },
  {
   "cell_type": "code",
   "execution_count": 29,
   "metadata": {},
   "outputs": [],
   "source": [
    "df = df.drop(['product_summary', 'product_tech_spec', 'product_addl_info'], axis = 1)"
   ]
  },
  {
   "cell_type": "code",
   "execution_count": 31,
   "metadata": {},
   "outputs": [],
   "source": [
    "df.reset_index(drop=True, inplace = True)"
   ]
  },
  {
   "cell_type": "code",
   "execution_count": 32,
   "metadata": {},
   "outputs": [],
   "source": [
    "for i in range(len(df)):\n",
    "    if df.name[i] is None:\n",
    "        df = df.drop([i], axis = 0)"
   ]
  },
  {
   "cell_type": "code",
   "execution_count": 33,
   "metadata": {},
   "outputs": [],
   "source": [
    "# Creating dataframe with links to all customer reviews for saving in additional CSV-file\n",
    "\n",
    "df_processor_customer_reviews_link = df.link_to_all_reviews\n",
    "df_processor_customer_reviews_link = df_processor_customer_reviews_link.dropna()\n",
    "df_processor_customer_reviews_link.reset_index(drop=True, inplace = True)"
   ]
  },
  {
   "cell_type": "code",
   "execution_count": 34,
   "metadata": {},
   "outputs": [],
   "source": [
    "df_processor_bought_together = df[['ASIN', 'name', 'freq_bought', 'freq_bought_link']]"
   ]
  },
  {
   "cell_type": "code",
   "execution_count": 35,
   "metadata": {},
   "outputs": [],
   "source": [
    "df.to_csv(csv_filename)\n",
    "#df.to_csv(csv_filename, sep=';')\n",
    "df_processor_customer_reviews_link.to_csv(csv_customer_reviews) # actually not necessary anymore since there's being a txt-file created\n",
    "df_processor_bought_together.to_csv(csv_bought_together)"
   ]
  },
  {
   "cell_type": "code",
   "execution_count": 36,
   "metadata": {},
   "outputs": [],
   "source": [
    "f = open(txt_customer_reviews, 'w+')\n",
    "\n",
    "for i in range(len(df_processor_customer_reviews_link)):\n",
    "    f.write(df_processor_customer_reviews_link[i])\n",
    "    f.write('\\n')\n",
    "\n",
    "f.close()"
   ]
  },
  {
   "cell_type": "code",
   "execution_count": 37,
   "metadata": {},
   "outputs": [
    {
     "output_type": "execute_result",
     "data": {
      "text/plain": [
       "      Unnamed: 0                                               name  \\\n",
       "0              0  AMD Ryzen 5 3600 6-Core, 12-Thread Unlocked De...   \n",
       "1              1  Intel Core i9-9900K Desktop Processor 8 Cores ...   \n",
       "2              2  AMD Ryzen 7 3700X 8-Core, 16-Thread Unlocked D...   \n",
       "3              3  AMD Ryzen 5 2600 Processor with Wraith Stealth...   \n",
       "4              4  Intel Core i7-9700K Desktop Processor 8 Cores ...   \n",
       "...          ...                                                ...   \n",
       "2470        2472               HP 13.3 EB 830G7 i710810U 16G 51inch   \n",
       "2471        2473  Dell Latitude 5400 - 14” FHD Non-Touch - Intel...   \n",
       "2472        2474  ZTC RAID Series mSATA Mini or Full Size to SAT...   \n",
       "2473        2475  Dell Vostro 13 5390, 8th Generation Intel Core...   \n",
       "2474        2476  Dell Alienware 17 R5 VR Ready Intel Core i7 8 ...   \n",
       "\n",
       "                 seller                                        seller_link  \\\n",
       "0                   NaN                                                NaN   \n",
       "1               Ideabuy  https://www.amazon.com/gp/help/seller/at-a-gla...   \n",
       "2                   NaN                                                NaN   \n",
       "3                   NaN                                                NaN   \n",
       "4               Ideabuy  https://www.amazon.com/gp/help/seller/at-a-gla...   \n",
       "...                 ...                                                ...   \n",
       "2470             olecto  https://www.amazon.com/gp/help/seller/at-a-gla...   \n",
       "2471                NaN                                                NaN   \n",
       "2472  Hot Deals 4 Less®  https://www.amazon.com/gp/help/seller/at-a-gla...   \n",
       "2473             Sysmel  https://www.amazon.com/gp/help/seller/at-a-gla...   \n",
       "2474                NaN                                                NaN   \n",
       "\n",
       "     freq_bought freq_bought_link  \\\n",
       "0            NaN              NaN   \n",
       "1            NaN              NaN   \n",
       "2            NaN              NaN   \n",
       "3            NaN              NaN   \n",
       "4            NaN              NaN   \n",
       "...          ...              ...   \n",
       "2470         NaN              NaN   \n",
       "2471         NaN              NaN   \n",
       "2472         NaN              NaN   \n",
       "2473         NaN              NaN   \n",
       "2474         NaN              NaN   \n",
       "\n",
       "                                    link_to_all_reviews  phone talk time  \\\n",
       "0     https://www.amazon.com//AMD-Ryzen-3600-12-Thre...              NaN   \n",
       "1     https://www.amazon.com//Intel-i9-9900K-Process...              NaN   \n",
       "2     https://www.amazon.com//AMD-Ryzen-3700X-16-Thr...              NaN   \n",
       "3     https://www.amazon.com//AMD-Processor-Wraith-S...              NaN   \n",
       "4     https://www.amazon.com//Intel-i7-9700K-Desktop...              NaN   \n",
       "...                                                 ...              ...   \n",
       "2470                                                NaN              NaN   \n",
       "2471                                                NaN              NaN   \n",
       "2472  https://www.amazon.com//ZTC-Enclosure-Supports...              NaN   \n",
       "2473  https://www.amazon.com//Dell-Generation-i7-856...              NaN   \n",
       "2474                                                NaN              NaN   \n",
       "\n",
       "     ink color  phone standy time (with data)  ... item display height  \\\n",
       "0          NaN                            NaN  ...                 NaN   \n",
       "1          NaN                            NaN  ...                 NaN   \n",
       "2          NaN                            NaN  ...                 NaN   \n",
       "3          NaN                            NaN  ...                 NaN   \n",
       "4          NaN                            NaN  ...                 NaN   \n",
       "...        ...                            ...  ...                 ...   \n",
       "2470       NaN                            NaN  ...                 NaN   \n",
       "2471       NaN                            NaN  ...                 NaN   \n",
       "2472       NaN                            NaN  ...                 NaN   \n",
       "2473       NaN                            NaN  ...                 NaN   \n",
       "2474       NaN                            NaN  ...                 NaN   \n",
       "\n",
       "     processor brand connector type processor count installation method  \\\n",
       "0                AMD            NaN             6.0                 NaN   \n",
       "1              Intel            NaN             1.0                 NaN   \n",
       "2                AMD            NaN             8.0                 NaN   \n",
       "3                AMD            NaN             6.0                 NaN   \n",
       "4              Intel            NaN             8.0                 NaN   \n",
       "...              ...            ...             ...                 ...   \n",
       "2470           Intel            NaN             1.0                 NaN   \n",
       "2471           Intel            NaN             4.0                 NaN   \n",
       "2472             NaN            NaN             NaN                 NaN   \n",
       "2473           Intel            NaN             4.0                 NaN   \n",
       "2474         Unknown            NaN             1.0                 NaN   \n",
       "\n",
       "                                                 series        ASIN  \\\n",
       "0                                               Ryzen 5  B07STGGQ18   \n",
       "1                                                   NaN  B089J731BX   \n",
       "2                                               Ryzen 7  B07SXMZLPK   \n",
       "3                                                   NaN  B07B41WS48   \n",
       "4                                                   NaN  B07HHN6KBZ   \n",
       "...                                                 ...         ...   \n",
       "2470                                       HP EliteBook  B08FTKLPDP   \n",
       "2471                                      Dell Latitude  B08N6ZLKL3   \n",
       "2472                                                NaN  B00UMFVV9C   \n",
       "2473                                        Vostro 3000  B07SZCVNLN   \n",
       "2474  Dell Alienware 17 R5 VR Ready Intel Core i7 8 ...  B07GH91SG8   \n",
       "\n",
       "     number of usb 2.0 ports material type  computer memory type  \n",
       "0                        NaN           NaN                   NaN  \n",
       "1                        NaN           NaN                   NaN  \n",
       "2                        NaN           NaN                   NaN  \n",
       "3                        NaN           NaN            DDR4 SDRAM  \n",
       "4                        1.0           NaN            DDR4 SDRAM  \n",
       "...                      ...           ...                   ...  \n",
       "2470                     NaN           NaN            DDR4 SDRAM  \n",
       "2471                     NaN           NaN            DDR4 SDRAM  \n",
       "2472                     NaN           NaN                   NaN  \n",
       "2473                     2.0           NaN            DDR3 SDRAM  \n",
       "2474                     1.0           NaN               Unknown  \n",
       "\n",
       "[2475 rows x 112 columns]"
      ],
      "text/html": "<div>\n<style scoped>\n    .dataframe tbody tr th:only-of-type {\n        vertical-align: middle;\n    }\n\n    .dataframe tbody tr th {\n        vertical-align: top;\n    }\n\n    .dataframe thead th {\n        text-align: right;\n    }\n</style>\n<table border=\"1\" class=\"dataframe\">\n  <thead>\n    <tr style=\"text-align: right;\">\n      <th></th>\n      <th>Unnamed: 0</th>\n      <th>name</th>\n      <th>seller</th>\n      <th>seller_link</th>\n      <th>freq_bought</th>\n      <th>freq_bought_link</th>\n      <th>link_to_all_reviews</th>\n      <th>phone talk time</th>\n      <th>ink color</th>\n      <th>phone standy time (with data)</th>\n      <th>...</th>\n      <th>item display height</th>\n      <th>processor brand</th>\n      <th>connector type</th>\n      <th>processor count</th>\n      <th>installation method</th>\n      <th>series</th>\n      <th>ASIN</th>\n      <th>number of usb 2.0 ports</th>\n      <th>material type</th>\n      <th>computer memory type</th>\n    </tr>\n  </thead>\n  <tbody>\n    <tr>\n      <th>0</th>\n      <td>0</td>\n      <td>AMD Ryzen 5 3600 6-Core, 12-Thread Unlocked De...</td>\n      <td>NaN</td>\n      <td>NaN</td>\n      <td>NaN</td>\n      <td>NaN</td>\n      <td>https://www.amazon.com//AMD-Ryzen-3600-12-Thre...</td>\n      <td>NaN</td>\n      <td>NaN</td>\n      <td>NaN</td>\n      <td>...</td>\n      <td>NaN</td>\n      <td>AMD</td>\n      <td>NaN</td>\n      <td>6.0</td>\n      <td>NaN</td>\n      <td>Ryzen 5</td>\n      <td>B07STGGQ18</td>\n      <td>NaN</td>\n      <td>NaN</td>\n      <td>NaN</td>\n    </tr>\n    <tr>\n      <th>1</th>\n      <td>1</td>\n      <td>Intel Core i9-9900K Desktop Processor 8 Cores ...</td>\n      <td>Ideabuy</td>\n      <td>https://www.amazon.com/gp/help/seller/at-a-gla...</td>\n      <td>NaN</td>\n      <td>NaN</td>\n      <td>https://www.amazon.com//Intel-i9-9900K-Process...</td>\n      <td>NaN</td>\n      <td>NaN</td>\n      <td>NaN</td>\n      <td>...</td>\n      <td>NaN</td>\n      <td>Intel</td>\n      <td>NaN</td>\n      <td>1.0</td>\n      <td>NaN</td>\n      <td>NaN</td>\n      <td>B089J731BX</td>\n      <td>NaN</td>\n      <td>NaN</td>\n      <td>NaN</td>\n    </tr>\n    <tr>\n      <th>2</th>\n      <td>2</td>\n      <td>AMD Ryzen 7 3700X 8-Core, 16-Thread Unlocked D...</td>\n      <td>NaN</td>\n      <td>NaN</td>\n      <td>NaN</td>\n      <td>NaN</td>\n      <td>https://www.amazon.com//AMD-Ryzen-3700X-16-Thr...</td>\n      <td>NaN</td>\n      <td>NaN</td>\n      <td>NaN</td>\n      <td>...</td>\n      <td>NaN</td>\n      <td>AMD</td>\n      <td>NaN</td>\n      <td>8.0</td>\n      <td>NaN</td>\n      <td>Ryzen 7</td>\n      <td>B07SXMZLPK</td>\n      <td>NaN</td>\n      <td>NaN</td>\n      <td>NaN</td>\n    </tr>\n    <tr>\n      <th>3</th>\n      <td>3</td>\n      <td>AMD Ryzen 5 2600 Processor with Wraith Stealth...</td>\n      <td>NaN</td>\n      <td>NaN</td>\n      <td>NaN</td>\n      <td>NaN</td>\n      <td>https://www.amazon.com//AMD-Processor-Wraith-S...</td>\n      <td>NaN</td>\n      <td>NaN</td>\n      <td>NaN</td>\n      <td>...</td>\n      <td>NaN</td>\n      <td>AMD</td>\n      <td>NaN</td>\n      <td>6.0</td>\n      <td>NaN</td>\n      <td>NaN</td>\n      <td>B07B41WS48</td>\n      <td>NaN</td>\n      <td>NaN</td>\n      <td>DDR4 SDRAM</td>\n    </tr>\n    <tr>\n      <th>4</th>\n      <td>4</td>\n      <td>Intel Core i7-9700K Desktop Processor 8 Cores ...</td>\n      <td>Ideabuy</td>\n      <td>https://www.amazon.com/gp/help/seller/at-a-gla...</td>\n      <td>NaN</td>\n      <td>NaN</td>\n      <td>https://www.amazon.com//Intel-i7-9700K-Desktop...</td>\n      <td>NaN</td>\n      <td>NaN</td>\n      <td>NaN</td>\n      <td>...</td>\n      <td>NaN</td>\n      <td>Intel</td>\n      <td>NaN</td>\n      <td>8.0</td>\n      <td>NaN</td>\n      <td>NaN</td>\n      <td>B07HHN6KBZ</td>\n      <td>1.0</td>\n      <td>NaN</td>\n      <td>DDR4 SDRAM</td>\n    </tr>\n    <tr>\n      <th>...</th>\n      <td>...</td>\n      <td>...</td>\n      <td>...</td>\n      <td>...</td>\n      <td>...</td>\n      <td>...</td>\n      <td>...</td>\n      <td>...</td>\n      <td>...</td>\n      <td>...</td>\n      <td>...</td>\n      <td>...</td>\n      <td>...</td>\n      <td>...</td>\n      <td>...</td>\n      <td>...</td>\n      <td>...</td>\n      <td>...</td>\n      <td>...</td>\n      <td>...</td>\n      <td>...</td>\n    </tr>\n    <tr>\n      <th>2470</th>\n      <td>2472</td>\n      <td>HP 13.3 EB 830G7 i710810U 16G 51inch</td>\n      <td>olecto</td>\n      <td>https://www.amazon.com/gp/help/seller/at-a-gla...</td>\n      <td>NaN</td>\n      <td>NaN</td>\n      <td>NaN</td>\n      <td>NaN</td>\n      <td>NaN</td>\n      <td>NaN</td>\n      <td>...</td>\n      <td>NaN</td>\n      <td>Intel</td>\n      <td>NaN</td>\n      <td>1.0</td>\n      <td>NaN</td>\n      <td>HP EliteBook</td>\n      <td>B08FTKLPDP</td>\n      <td>NaN</td>\n      <td>NaN</td>\n      <td>DDR4 SDRAM</td>\n    </tr>\n    <tr>\n      <th>2471</th>\n      <td>2473</td>\n      <td>Dell Latitude 5400 - 14” FHD Non-Touch - Intel...</td>\n      <td>NaN</td>\n      <td>NaN</td>\n      <td>NaN</td>\n      <td>NaN</td>\n      <td>NaN</td>\n      <td>NaN</td>\n      <td>NaN</td>\n      <td>NaN</td>\n      <td>...</td>\n      <td>NaN</td>\n      <td>Intel</td>\n      <td>NaN</td>\n      <td>4.0</td>\n      <td>NaN</td>\n      <td>Dell Latitude</td>\n      <td>B08N6ZLKL3</td>\n      <td>NaN</td>\n      <td>NaN</td>\n      <td>DDR4 SDRAM</td>\n    </tr>\n    <tr>\n      <th>2472</th>\n      <td>2474</td>\n      <td>ZTC RAID Series mSATA Mini or Full Size to SAT...</td>\n      <td>Hot Deals 4 Less®</td>\n      <td>https://www.amazon.com/gp/help/seller/at-a-gla...</td>\n      <td>NaN</td>\n      <td>NaN</td>\n      <td>https://www.amazon.com//ZTC-Enclosure-Supports...</td>\n      <td>NaN</td>\n      <td>NaN</td>\n      <td>NaN</td>\n      <td>...</td>\n      <td>NaN</td>\n      <td>NaN</td>\n      <td>NaN</td>\n      <td>NaN</td>\n      <td>NaN</td>\n      <td>NaN</td>\n      <td>B00UMFVV9C</td>\n      <td>NaN</td>\n      <td>NaN</td>\n      <td>NaN</td>\n    </tr>\n    <tr>\n      <th>2473</th>\n      <td>2475</td>\n      <td>Dell Vostro 13 5390, 8th Generation Intel Core...</td>\n      <td>Sysmel</td>\n      <td>https://www.amazon.com/gp/help/seller/at-a-gla...</td>\n      <td>NaN</td>\n      <td>NaN</td>\n      <td>https://www.amazon.com//Dell-Generation-i7-856...</td>\n      <td>NaN</td>\n      <td>NaN</td>\n      <td>NaN</td>\n      <td>...</td>\n      <td>NaN</td>\n      <td>Intel</td>\n      <td>NaN</td>\n      <td>4.0</td>\n      <td>NaN</td>\n      <td>Vostro 3000</td>\n      <td>B07SZCVNLN</td>\n      <td>2.0</td>\n      <td>NaN</td>\n      <td>DDR3 SDRAM</td>\n    </tr>\n    <tr>\n      <th>2474</th>\n      <td>2476</td>\n      <td>Dell Alienware 17 R5 VR Ready Intel Core i7 8 ...</td>\n      <td>NaN</td>\n      <td>NaN</td>\n      <td>NaN</td>\n      <td>NaN</td>\n      <td>NaN</td>\n      <td>NaN</td>\n      <td>NaN</td>\n      <td>NaN</td>\n      <td>...</td>\n      <td>NaN</td>\n      <td>Unknown</td>\n      <td>NaN</td>\n      <td>1.0</td>\n      <td>NaN</td>\n      <td>Dell Alienware 17 R5 VR Ready Intel Core i7 8 ...</td>\n      <td>B07GH91SG8</td>\n      <td>1.0</td>\n      <td>NaN</td>\n      <td>Unknown</td>\n    </tr>\n  </tbody>\n</table>\n<p>2475 rows × 112 columns</p>\n</div>"
     },
     "metadata": {},
     "execution_count": 37
    }
   ],
   "source": [
    "df2 = pd.read_csv(csv_filename)\n",
    "df2"
   ]
  },
  {
   "cell_type": "code",
   "execution_count": 38,
   "metadata": {},
   "outputs": [
    {
     "output_type": "execute_result",
     "data": {
      "text/plain": [
       "Empty DataFrame\n",
       "Columns: [Unnamed: 0, name, seller, seller_link, freq_bought, freq_bought_link, link_to_all_reviews, phone talk time, ink color, phone standy time (with data), language, compatible devices, gsm frequencies, average battery life (in hours), audio jack, product dimensions, oem part number, specific uses for product, processor speed, audio-out ports (#), device interface - primary, manufacturer, special features, graphics coprocessor, package dimensions, hard drive rotational speed, model, max screen resolution, voltage, display resolution, part number, chipset brand, manufacturer recommended age, assembled height, rating, additional features, date first available, wattage, batteries included?, card description, best sellers rank, number of usb 3.0 ports, rear webcam resolution, assembled width, release date, display technology, manufacturer part number, body material, item model number, connectivity technologies, screen resolution, cover included, processor type, operating system, assembled length, number of items, batteries, battery description, mfg recommended age, power source, batteries required, specification met, batteries required?, other camera features, color, domestic shipping, national stock number, memory speed, item dimensions  lxwxh, import designation, included components, size, wireless communication technologies, optical drive type, hardware platform, graphics card ram size, colour, finish types, wireless type, hard drive interface, color screen, color name, brand name, number of pieces, finish, other display features, ram, is discontinued by manufacturer, warranty description, international shipping, gpu, item weight, flash memory size, item package quantity, department, pricing, os, form factor, binding, brand, ...]\n",
       "Index: []\n",
       "\n",
       "[0 rows x 112 columns]"
      ],
      "text/html": "<div>\n<style scoped>\n    .dataframe tbody tr th:only-of-type {\n        vertical-align: middle;\n    }\n\n    .dataframe tbody tr th {\n        vertical-align: top;\n    }\n\n    .dataframe thead th {\n        text-align: right;\n    }\n</style>\n<table border=\"1\" class=\"dataframe\">\n  <thead>\n    <tr style=\"text-align: right;\">\n      <th></th>\n      <th>Unnamed: 0</th>\n      <th>name</th>\n      <th>seller</th>\n      <th>seller_link</th>\n      <th>freq_bought</th>\n      <th>freq_bought_link</th>\n      <th>link_to_all_reviews</th>\n      <th>phone talk time</th>\n      <th>ink color</th>\n      <th>phone standy time (with data)</th>\n      <th>...</th>\n      <th>item display height</th>\n      <th>processor brand</th>\n      <th>connector type</th>\n      <th>processor count</th>\n      <th>installation method</th>\n      <th>series</th>\n      <th>ASIN</th>\n      <th>number of usb 2.0 ports</th>\n      <th>material type</th>\n      <th>computer memory type</th>\n    </tr>\n  </thead>\n  <tbody>\n  </tbody>\n</table>\n<p>0 rows × 112 columns</p>\n</div>"
     },
     "metadata": {},
     "execution_count": 38
    }
   ],
   "source": [
    "df2[df2.rating == 0]"
   ]
  },
  {
   "cell_type": "code",
   "execution_count": 43,
   "metadata": {},
   "outputs": [
    {
     "output_type": "execute_result",
     "data": {
      "text/plain": [
       "Index(['Unnamed: 0', 'name', 'seller', 'seller_link', 'freq_bought',\n",
       "       'freq_bought_link', 'link_to_all_reviews', 'manufacturer part number',\n",
       "       'memory speed', 'processor count', 'voltage', 'card description',\n",
       "       'screen resolution', 'type of bulb', 'sheet size',\n",
       "       'average battery life (in hours)', 'colour', 'department', 'language',\n",
       "       'item thickness', 'style', 'audio jack', 'series', 'brand',\n",
       "       'brand name', 'additional features', 'item package quantity',\n",
       "       'finish types', 'material type', 'chipset brand', 'best sellers rank',\n",
       "       'os', 'batteries required?', 'computer memory type',\n",
       "       'item model number', 'color', 'operating system',\n",
       "       'total recycled content percentage', 'weight', 'item weight',\n",
       "       'warranty description', 'closure', 'import designation', 'ASIN',\n",
       "       'rating', 'mfg recommended age', 'graphics card ram size',\n",
       "       'hard drive interface', 'batteries required', 'number of usb 2.0 ports',\n",
       "       'batteries', 'hardware platform', 'assembled length',\n",
       "       'optical drive type', 'processor brand', 'power source', 'color name',\n",
       "       'specific uses for product', 'shape', 'model number',\n",
       "       'special features', 'hard drive rotational speed',\n",
       "       'audio-out ports (#)', 'is discontinued by manufacturer',\n",
       "       'connectivity technologies', 'size', 'assembled height',\n",
       "       'compatible devices', 'assembled width', 'manufacturer',\n",
       "       'graphics coprocessor', 'max weight recommendation',\n",
       "       'data transfer rate', 'max screen resolution',\n",
       "       'standing screen display size', 'international shipping',\n",
       "       'product dimensions', 'rear webcam resolution', 'batteries included?',\n",
       "       'national stock number', 'expansion', 'connectivity technology',\n",
       "       'connector type', 'flash memory size', 'number of usb 3.0 ports',\n",
       "       'date first available', 'material', 'number of items',\n",
       "       'item dimensions  lxwxh', 'other display features',\n",
       "       'battery description', 'part number', 'package dimensions', 'line size',\n",
       "       'included components', 'manufacturer recommended age', 'folding',\n",
       "       'wireless type', 'domestic shipping', 'color screen'],\n",
       "      dtype='object')"
      ]
     },
     "metadata": {},
     "execution_count": 43
    }
   ],
   "source": [
    "df2.columns"
   ]
  }
 ]
}