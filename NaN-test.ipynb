{
 "metadata": {
  "language_info": {
   "codemirror_mode": {
    "name": "ipython",
    "version": 3
   },
   "file_extension": ".py",
   "mimetype": "text/x-python",
   "name": "python",
   "nbconvert_exporter": "python",
   "pygments_lexer": "ipython3",
   "version": "3.8.5-final"
  },
  "orig_nbformat": 2,
  "kernelspec": {
   "name": "python3",
   "display_name": "Python 3.8.5 64-bit (conda)",
   "metadata": {
    "interpreter": {
     "hash": "b3ba2566441a7c06988d0923437866b63cedc61552a5af99d1f4fb67d367b25f"
    }
   }
  }
 },
 "nbformat": 4,
 "nbformat_minor": 2,
 "cells": [
  {
   "cell_type": "code",
   "execution_count": 94,
   "metadata": {},
   "outputs": [],
   "source": [
    "import pandas as pd\n",
    "import numpy as np"
   ]
  },
  {
   "cell_type": "code",
   "execution_count": 131,
   "metadata": {},
   "outputs": [],
   "source": [
    "filename = \"product_details_phone.csv\"\n",
    "df = pd.read_csv(filename)"
   ]
  },
  {
   "cell_type": "code",
   "execution_count": 132,
   "metadata": {},
   "outputs": [
    {
     "output_type": "execute_result",
     "data": {
      "text/plain": [
       "(2045, 70)"
      ]
     },
     "metadata": {},
     "execution_count": 132
    }
   ],
   "source": [
    "df.shape"
   ]
  },
  {
   "cell_type": "code",
   "execution_count": 133,
   "metadata": {},
   "outputs": [
    {
     "output_type": "execute_result",
     "data": {
      "text/plain": [
       "False    2045\n",
       "Name: rating, dtype: int64"
      ]
     },
     "metadata": {},
     "execution_count": 133
    }
   ],
   "source": [
    "df.rating.isna().value_counts()"
   ]
  },
  {
   "cell_type": "code",
   "execution_count": 134,
   "metadata": {},
   "outputs": [],
   "source": [
    "df.fillna('',inplace=True)"
   ]
  },
  {
   "cell_type": "code",
   "execution_count": 135,
   "metadata": {},
   "outputs": [],
   "source": [
    "df = df.drop(['Unnamed: 0', 'Unnamed: 0.1'], axis = 1)\n",
    "#df = df.drop(['Unnamed: 0'], axis = 1)\n"
   ]
  },
  {
   "cell_type": "code",
   "execution_count": 136,
   "metadata": {},
   "outputs": [
    {
     "output_type": "execute_result",
     "data": {
      "text/plain": [
       "                                                name seller seller_link  \\\n",
       "0  Net10 Samsung Galaxy A01 4G LTE Prepaid Smartp...                      \n",
       "1  Net10 Samsung Galaxy A10e 4G LTE Prepaid Smart...                      \n",
       "2  Samsung Galaxy S21+ Plus 5G | Factory Unlocked...                      \n",
       "\n",
       "                                         freq_bought  \\\n",
       "0  Galaxy A01 Case, with HD Screen Protector, SKT...   \n",
       "1  Simple Mobile Samsung Galaxy A10e 4G LTE Prepa...   \n",
       "2                                                      \n",
       "\n",
       "                                    freq_bought_link  \\\n",
       "0  /Protector-SKTGSLAMY-Shockproof-Protective-Kic...   \n",
       "1  /Simple-Mobile-Samsung-Prepaid-Smartphone/dp/B...   \n",
       "2                                                      \n",
       "\n",
       "                                 link_to_all_reviews other display features  \\\n",
       "0  https://www.amazon.com//Net10-Samsung-Galaxy-P...               Wireless   \n",
       "1  https://www.amazon.com//Net10-Samsung-Galaxy-P...               Wireless   \n",
       "2  https://www.amazon.com//Samsung-Unlocked-Smart...                          \n",
       "\n",
       "  display resolution wireless type         product dimensions  ...  \\\n",
       "0                                   6.75 x 2.5 x 10.38 inches  ...   \n",
       "1                                   6.75 x 2.5 x 10.38 inches  ...   \n",
       "2                                     7.1 x 3.6 x 2.44 inches  ...   \n",
       "\n",
       "  average battery life (in hours) connectivity technologies voltage  \\\n",
       "0                                          Bluetooth, Wi-Fi           \n",
       "1                                                 Bluetooth           \n",
       "2                                                                     \n",
       "\n",
       "  other camera features series power source phone talk time  \\\n",
       "0                  Rear                                       \n",
       "1                  Rear                                       \n",
       "2                                                             \n",
       "\n",
       "                                   best sellers rank graphics coprocessor  \\\n",
       "0  #5,067 in Cell Phones & Accessories ( See Top ...                        \n",
       "1  #13,485 in Cell Phones & Accessories ( See Top...                        \n",
       "2  #369 in Cell Phones & Accessories ( See Top 10...                        \n",
       "\n",
       "  form factor  \n",
       "0  Smartphone  \n",
       "1  Smartphone  \n",
       "2              \n",
       "\n",
       "[3 rows x 68 columns]"
      ],
      "text/html": "<div>\n<style scoped>\n    .dataframe tbody tr th:only-of-type {\n        vertical-align: middle;\n    }\n\n    .dataframe tbody tr th {\n        vertical-align: top;\n    }\n\n    .dataframe thead th {\n        text-align: right;\n    }\n</style>\n<table border=\"1\" class=\"dataframe\">\n  <thead>\n    <tr style=\"text-align: right;\">\n      <th></th>\n      <th>name</th>\n      <th>seller</th>\n      <th>seller_link</th>\n      <th>freq_bought</th>\n      <th>freq_bought_link</th>\n      <th>link_to_all_reviews</th>\n      <th>other display features</th>\n      <th>display resolution</th>\n      <th>wireless type</th>\n      <th>product dimensions</th>\n      <th>...</th>\n      <th>average battery life (in hours)</th>\n      <th>connectivity technologies</th>\n      <th>voltage</th>\n      <th>other camera features</th>\n      <th>series</th>\n      <th>power source</th>\n      <th>phone talk time</th>\n      <th>best sellers rank</th>\n      <th>graphics coprocessor</th>\n      <th>form factor</th>\n    </tr>\n  </thead>\n  <tbody>\n    <tr>\n      <th>0</th>\n      <td>Net10 Samsung Galaxy A01 4G LTE Prepaid Smartp...</td>\n      <td></td>\n      <td></td>\n      <td>Galaxy A01 Case, with HD Screen Protector, SKT...</td>\n      <td>/Protector-SKTGSLAMY-Shockproof-Protective-Kic...</td>\n      <td>https://www.amazon.com//Net10-Samsung-Galaxy-P...</td>\n      <td>Wireless</td>\n      <td></td>\n      <td></td>\n      <td>6.75 x 2.5 x 10.38 inches</td>\n      <td>...</td>\n      <td></td>\n      <td>Bluetooth, Wi-Fi</td>\n      <td></td>\n      <td>Rear</td>\n      <td></td>\n      <td></td>\n      <td></td>\n      <td>#5,067 in Cell Phones &amp; Accessories ( See Top ...</td>\n      <td></td>\n      <td>Smartphone</td>\n    </tr>\n    <tr>\n      <th>1</th>\n      <td>Net10 Samsung Galaxy A10e 4G LTE Prepaid Smart...</td>\n      <td></td>\n      <td></td>\n      <td>Simple Mobile Samsung Galaxy A10e 4G LTE Prepa...</td>\n      <td>/Simple-Mobile-Samsung-Prepaid-Smartphone/dp/B...</td>\n      <td>https://www.amazon.com//Net10-Samsung-Galaxy-P...</td>\n      <td>Wireless</td>\n      <td></td>\n      <td></td>\n      <td>6.75 x 2.5 x 10.38 inches</td>\n      <td>...</td>\n      <td></td>\n      <td>Bluetooth</td>\n      <td></td>\n      <td>Rear</td>\n      <td></td>\n      <td></td>\n      <td></td>\n      <td>#13,485 in Cell Phones &amp; Accessories ( See Top...</td>\n      <td></td>\n      <td>Smartphone</td>\n    </tr>\n    <tr>\n      <th>2</th>\n      <td>Samsung Galaxy S21+ Plus 5G | Factory Unlocked...</td>\n      <td></td>\n      <td></td>\n      <td></td>\n      <td></td>\n      <td>https://www.amazon.com//Samsung-Unlocked-Smart...</td>\n      <td></td>\n      <td></td>\n      <td></td>\n      <td>7.1 x 3.6 x 2.44 inches</td>\n      <td>...</td>\n      <td></td>\n      <td></td>\n      <td></td>\n      <td></td>\n      <td></td>\n      <td></td>\n      <td></td>\n      <td>#369 in Cell Phones &amp; Accessories ( See Top 10...</td>\n      <td></td>\n      <td></td>\n    </tr>\n  </tbody>\n</table>\n<p>3 rows × 68 columns</p>\n</div>"
     },
     "metadata": {},
     "execution_count": 136
    }
   ],
   "source": [
    "df.head(3)"
   ]
  },
  {
   "cell_type": "code",
   "execution_count": 137,
   "metadata": {},
   "outputs": [],
   "source": [
    "df.to_csv(filename)"
   ]
  },
  {
   "cell_type": "code",
   "execution_count": null,
   "metadata": {},
   "outputs": [],
   "source": []
  }
 ]
}