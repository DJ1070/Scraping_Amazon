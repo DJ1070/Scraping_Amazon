{
 "metadata": {
  "language_info": {
   "codemirror_mode": {
    "name": "ipython",
    "version": 3
   },
   "file_extension": ".py",
   "mimetype": "text/x-python",
   "name": "python",
   "nbconvert_exporter": "python",
   "pygments_lexer": "ipython3",
   "version": "3.8.5-final"
  },
  "orig_nbformat": 2,
  "kernelspec": {
   "name": "python3",
   "display_name": "Python 3.8.5 64-bit (conda)",
   "metadata": {
    "interpreter": {
     "hash": "b3ba2566441a7c06988d0923437866b63cedc61552a5af99d1f4fb67d367b25f"
    }
   }
  }
 },
 "nbformat": 4,
 "nbformat_minor": 2,
 "cells": [
  {
   "cell_type": "code",
   "execution_count": 1,
   "metadata": {},
   "outputs": [],
   "source": [
    "import pandas as pd"
   ]
  },
  {
   "cell_type": "code",
   "execution_count": 2,
   "metadata": {},
   "outputs": [],
   "source": [
    "df = pd.read_csv('summary_camera.csv')\n",
    "df1 = pd.read_csv('summary_headphone.csv')\n",
    "df2 = pd.read_csv('summary_keyboard.csv')\n",
    "df3 = pd.read_csv('summary_laptop.csv')\n",
    "df4 = pd.read_csv('summary_monitor.csv')\n",
    "df5 = pd.read_csv('summary_mouse.csv')\n",
    "df6 = pd.read_csv('summary_phone.csv')\n",
    "df7 = pd.read_csv('summary_processor.csv')"
   ]
  },
  {
   "cell_type": "code",
   "execution_count": 3,
   "metadata": {},
   "outputs": [],
   "source": [
    "df = pd.concat([df, df1, df2, df3, df4, df5, df6, df7], axis=0)"
   ]
  },
  {
   "cell_type": "code",
   "execution_count": 4,
   "metadata": {},
   "outputs": [
    {
     "output_type": "execute_result",
     "data": {
      "text/plain": [
       "   Unnamed: 0        ASIN                                              title  \\\n",
       "0           0  B087T9B6X5  Canon EOS Rebel T100 DSLR Camera with 18-55mm ...   \n",
       "1           1  B0868VLMWK  Canon EOS 4000D DSLR Camera with EF-S 18-55mm ...   \n",
       "2           2  B08DQ4QQ6R  Canon EOS 4000D / Rebel T100 Digital SLR Camer...   \n",
       "\n",
       "    price rating  review_count  \n",
       "0  424.00    4.7           206  \n",
       "1  479.00    4.6            46  \n",
       "2  499.95    4.5            31  "
      ],
      "text/html": "<div>\n<style scoped>\n    .dataframe tbody tr th:only-of-type {\n        vertical-align: middle;\n    }\n\n    .dataframe tbody tr th {\n        vertical-align: top;\n    }\n\n    .dataframe thead th {\n        text-align: right;\n    }\n</style>\n<table border=\"1\" class=\"dataframe\">\n  <thead>\n    <tr style=\"text-align: right;\">\n      <th></th>\n      <th>Unnamed: 0</th>\n      <th>ASIN</th>\n      <th>title</th>\n      <th>price</th>\n      <th>rating</th>\n      <th>review_count</th>\n    </tr>\n  </thead>\n  <tbody>\n    <tr>\n      <th>0</th>\n      <td>0</td>\n      <td>B087T9B6X5</td>\n      <td>Canon EOS Rebel T100 DSLR Camera with 18-55mm ...</td>\n      <td>424.00</td>\n      <td>4.7</td>\n      <td>206</td>\n    </tr>\n    <tr>\n      <th>1</th>\n      <td>1</td>\n      <td>B0868VLMWK</td>\n      <td>Canon EOS 4000D DSLR Camera with EF-S 18-55mm ...</td>\n      <td>479.00</td>\n      <td>4.6</td>\n      <td>46</td>\n    </tr>\n    <tr>\n      <th>2</th>\n      <td>2</td>\n      <td>B08DQ4QQ6R</td>\n      <td>Canon EOS 4000D / Rebel T100 Digital SLR Camer...</td>\n      <td>499.95</td>\n      <td>4.5</td>\n      <td>31</td>\n    </tr>\n  </tbody>\n</table>\n</div>"
     },
     "metadata": {},
     "execution_count": 4
    }
   ],
   "source": [
    "df.head(3)"
   ]
  },
  {
   "cell_type": "code",
   "execution_count": 5,
   "metadata": {},
   "outputs": [],
   "source": [
    "df = df.drop('Unnamed: 0', axis = 1)"
   ]
  },
  {
   "cell_type": "code",
   "execution_count": 12,
   "metadata": {},
   "outputs": [
    {
     "output_type": "execute_result",
     "data": {
      "text/plain": [
       "(33534, 5)"
      ]
     },
     "metadata": {},
     "execution_count": 12
    }
   ],
   "source": [
    "df.shape"
   ]
  },
  {
   "cell_type": "code",
   "execution_count": 11,
   "metadata": {},
   "outputs": [],
   "source": [
    "df = df.drop_duplicates('title', keep='first')"
   ]
  },
  {
   "cell_type": "code",
   "execution_count": 13,
   "metadata": {},
   "outputs": [],
   "source": [
    "df.to_csv('summary_all.csv')"
   ]
  },
  {
   "cell_type": "code",
   "execution_count": null,
   "metadata": {},
   "outputs": [],
   "source": []
  }
 ]
}