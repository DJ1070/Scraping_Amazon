{
 "metadata": {
  "language_info": {
   "codemirror_mode": {
    "name": "ipython",
    "version": 3
   },
   "file_extension": ".py",
   "mimetype": "text/x-python",
   "name": "python",
   "nbconvert_exporter": "python",
   "pygments_lexer": "ipython3",
   "version": "3.8.5-final"
  },
  "orig_nbformat": 2,
  "kernelspec": {
   "name": "python3",
   "display_name": "Python 3.8.5 64-bit (conda)",
   "metadata": {
    "interpreter": {
     "hash": "b3ba2566441a7c06988d0923437866b63cedc61552a5af99d1f4fb67d367b25f"
    }
   }
  }
 },
 "nbformat": 4,
 "nbformat_minor": 2,
 "cells": [
  {
   "cell_type": "code",
   "execution_count": 38,
   "metadata": {},
   "outputs": [],
   "source": [
    "import pandas as pd\n",
    "import numpy as np"
   ]
  },
  {
   "cell_type": "code",
   "execution_count": 2,
   "metadata": {},
   "outputs": [],
   "source": [
    "df = pd.read_csv('summary_camera.csv')\n",
    "df1 = pd.read_csv('summary_headphone.csv')\n",
    "df2 = pd.read_csv('summary_keyboard.csv')\n",
    "df3 = pd.read_csv('summary_laptop.csv')\n",
    "df4 = pd.read_csv('summary_monitor.csv')\n",
    "df5 = pd.read_csv('summary_mouse.csv')\n",
    "df6 = pd.read_csv('summary_phone.csv')\n",
    "df7 = pd.read_csv('summary_processor.csv')"
   ]
  },
  {
   "cell_type": "code",
   "execution_count": 3,
   "metadata": {},
   "outputs": [],
   "source": [
    "df = pd.concat([df, df1, df2, df3, df4, df5, df6, df7], axis=0)"
   ]
  },
  {
   "cell_type": "code",
   "execution_count": 4,
   "metadata": {},
   "outputs": [
    {
     "output_type": "execute_result",
     "data": {
      "text/plain": [
       "      Unnamed: 0        ASIN  \\\n",
       "0              0  B087T9B6X5   \n",
       "1              1  B0868VLMWK   \n",
       "2              2  B08DQ4QQ6R   \n",
       "3              3  B011PKJI2Y   \n",
       "4              4  B06XNTPN8C   \n",
       "...          ...         ...   \n",
       "6148        6148  B00UMFVV9C   \n",
       "6149        6149  B08D3RJ5XD   \n",
       "6150        6150  B07SZCVNLN   \n",
       "6151        6151  B07Z9WQTKJ   \n",
       "6152        6152  B07GH91SG8   \n",
       "\n",
       "                                                  title    price rating  \\\n",
       "0     Canon EOS Rebel T100 DSLR Camera with 18-55mm ...   424.00    4.7   \n",
       "1     Canon EOS 4000D DSLR Camera with EF-S 18-55mm ...   479.00    4.6   \n",
       "2     Canon EOS 4000D / Rebel T100 Digital SLR Camer...   499.95    4.5   \n",
       "3     Panasonic LUMIX FZ300 Long Zoom Digital Camera...   397.99    4.7   \n",
       "4     Canon EOS Rebel T6 Digital SLR Camera Kit with...   444.00    4.7   \n",
       "...                                                 ...      ...    ...   \n",
       "6148  ZTC RAID Series mSATA Mini or Full Size to SAT...    54.98      3   \n",
       "6149  Dell Precision 3000 3551 15.6\" Mobile Workstat...  2181.89    NaN   \n",
       "6150  Dell Vostro 13 5390, 8th Generation Intel Core...   999.97      5   \n",
       "6151  Dell REFURB 13.3 i7 8G 512G SLV (Certified Ref...   999.66      5   \n",
       "6152  Dell Alienware 17 R5 VR Ready Intel Core i7 8 ...  1569.00    NaN   \n",
       "\n",
       "      review_count  \n",
       "0              206  \n",
       "1               46  \n",
       "2               31  \n",
       "3             1161  \n",
       "4              914  \n",
       "...            ...  \n",
       "6148             3  \n",
       "6149             0  \n",
       "6150             2  \n",
       "6151             2  \n",
       "6152             0  \n",
       "\n",
       "[57158 rows x 6 columns]"
      ],
      "text/html": "<div>\n<style scoped>\n    .dataframe tbody tr th:only-of-type {\n        vertical-align: middle;\n    }\n\n    .dataframe tbody tr th {\n        vertical-align: top;\n    }\n\n    .dataframe thead th {\n        text-align: right;\n    }\n</style>\n<table border=\"1\" class=\"dataframe\">\n  <thead>\n    <tr style=\"text-align: right;\">\n      <th></th>\n      <th>Unnamed: 0</th>\n      <th>ASIN</th>\n      <th>title</th>\n      <th>price</th>\n      <th>rating</th>\n      <th>review_count</th>\n    </tr>\n  </thead>\n  <tbody>\n    <tr>\n      <th>0</th>\n      <td>0</td>\n      <td>B087T9B6X5</td>\n      <td>Canon EOS Rebel T100 DSLR Camera with 18-55mm ...</td>\n      <td>424.00</td>\n      <td>4.7</td>\n      <td>206</td>\n    </tr>\n    <tr>\n      <th>1</th>\n      <td>1</td>\n      <td>B0868VLMWK</td>\n      <td>Canon EOS 4000D DSLR Camera with EF-S 18-55mm ...</td>\n      <td>479.00</td>\n      <td>4.6</td>\n      <td>46</td>\n    </tr>\n    <tr>\n      <th>2</th>\n      <td>2</td>\n      <td>B08DQ4QQ6R</td>\n      <td>Canon EOS 4000D / Rebel T100 Digital SLR Camer...</td>\n      <td>499.95</td>\n      <td>4.5</td>\n      <td>31</td>\n    </tr>\n    <tr>\n      <th>3</th>\n      <td>3</td>\n      <td>B011PKJI2Y</td>\n      <td>Panasonic LUMIX FZ300 Long Zoom Digital Camera...</td>\n      <td>397.99</td>\n      <td>4.7</td>\n      <td>1161</td>\n    </tr>\n    <tr>\n      <th>4</th>\n      <td>4</td>\n      <td>B06XNTPN8C</td>\n      <td>Canon EOS Rebel T6 Digital SLR Camera Kit with...</td>\n      <td>444.00</td>\n      <td>4.7</td>\n      <td>914</td>\n    </tr>\n    <tr>\n      <th>...</th>\n      <td>...</td>\n      <td>...</td>\n      <td>...</td>\n      <td>...</td>\n      <td>...</td>\n      <td>...</td>\n    </tr>\n    <tr>\n      <th>6148</th>\n      <td>6148</td>\n      <td>B00UMFVV9C</td>\n      <td>ZTC RAID Series mSATA Mini or Full Size to SAT...</td>\n      <td>54.98</td>\n      <td>3</td>\n      <td>3</td>\n    </tr>\n    <tr>\n      <th>6149</th>\n      <td>6149</td>\n      <td>B08D3RJ5XD</td>\n      <td>Dell Precision 3000 3551 15.6\" Mobile Workstat...</td>\n      <td>2181.89</td>\n      <td>NaN</td>\n      <td>0</td>\n    </tr>\n    <tr>\n      <th>6150</th>\n      <td>6150</td>\n      <td>B07SZCVNLN</td>\n      <td>Dell Vostro 13 5390, 8th Generation Intel Core...</td>\n      <td>999.97</td>\n      <td>5</td>\n      <td>2</td>\n    </tr>\n    <tr>\n      <th>6151</th>\n      <td>6151</td>\n      <td>B07Z9WQTKJ</td>\n      <td>Dell REFURB 13.3 i7 8G 512G SLV (Certified Ref...</td>\n      <td>999.66</td>\n      <td>5</td>\n      <td>2</td>\n    </tr>\n    <tr>\n      <th>6152</th>\n      <td>6152</td>\n      <td>B07GH91SG8</td>\n      <td>Dell Alienware 17 R5 VR Ready Intel Core i7 8 ...</td>\n      <td>1569.00</td>\n      <td>NaN</td>\n      <td>0</td>\n    </tr>\n  </tbody>\n</table>\n<p>57158 rows × 6 columns</p>\n</div>"
     },
     "metadata": {},
     "execution_count": 4
    }
   ],
   "source": [
    "df"
   ]
  },
  {
   "cell_type": "code",
   "execution_count": 5,
   "metadata": {},
   "outputs": [],
   "source": [
    "df = df.drop('Unnamed: 0', axis = 1)"
   ]
  },
  {
   "cell_type": "code",
   "execution_count": 6,
   "metadata": {},
   "outputs": [
    {
     "output_type": "execute_result",
     "data": {
      "text/plain": [
       "(57158, 5)"
      ]
     },
     "metadata": {},
     "execution_count": 6
    }
   ],
   "source": [
    "df.shape"
   ]
  },
  {
   "cell_type": "code",
   "execution_count": 59,
   "metadata": {},
   "outputs": [],
   "source": [
    "for i in range(len(df)):\n",
    "    if df.rating[i] is not None:\n",
    "        try:\n",
    "            df['rating'][i] = df.rating[i].replace(',', '.')\n",
    "        except:\n",
    "            pass\n",
    "    else:\n",
    "        df['rating'][i] = 0\n",
    "    if df.rating[i] == '':        \n",
    "        df.rating[i] = 0\n",
    "    if df.price[i] is not None:\n",
    "        try:\n",
    "            df.price[i] = df.price[i].replace(',', '.')\n",
    "        except:\n",
    "            pass\n",
    "    else:\n",
    "        df['price'][i] = 0\n"
   ]
  },
  {
   "cell_type": "code",
   "execution_count": 76,
   "metadata": {},
   "outputs": [],
   "source": [
    "df.title = df.title.str.replace('\"', 'inch')"
   ]
  },
  {
   "cell_type": "code",
   "execution_count": 71,
   "metadata": {},
   "outputs": [
    {
     "output_type": "execute_result",
     "data": {
      "text/plain": [
       "             ASIN                                              title    price  \\\n",
       "0      B087T9B6X5  Canon EOS Rebel T100 DSLR Camera with 18-55mm ...   424.00   \n",
       "1      B0868VLMWK  Canon EOS 4000D DSLR Camera with EF-S 18-55mm ...   479.00   \n",
       "2      B08DQ4QQ6R  Canon EOS 4000D / Rebel T100 Digital SLR Camer...   499.95   \n",
       "3      B011PKJI2Y  Panasonic LUMIX FZ300 Long Zoom Digital Camera...   397.99   \n",
       "4      B06XNTPN8C  Canon EOS Rebel T6 Digital SLR Camera Kit with...   444.00   \n",
       "...           ...                                                ...      ...   \n",
       "33529  B08FTKLPDP                  HP 13.3 EB 830G7 i710810U 16G 51\"  1925.00   \n",
       "33530  B08N6ZLKL3  Dell Latitude 5400 - 14” FHD Non-Touch - Intel...      NaN   \n",
       "33531  B00UMFVV9C  ZTC RAID Series mSATA Mini or Full Size to SAT...    54.98   \n",
       "33532  B07SZCVNLN  Dell Vostro 13 5390, 8th Generation Intel Core...   999.97   \n",
       "33533  B07GH91SG8  Dell Alienware 17 R5 VR Ready Intel Core i7 8 ...  1569.00   \n",
       "\n",
       "       rating  review_count  \n",
       "0         4.7           206  \n",
       "1         4.6            46  \n",
       "2         4.5            31  \n",
       "3         4.7          1161  \n",
       "4         4.7           914  \n",
       "...       ...           ...  \n",
       "33529     NaN             0  \n",
       "33530     NaN             0  \n",
       "33531     3.0             3  \n",
       "33532     5.0             2  \n",
       "33533     NaN             0  \n",
       "\n",
       "[33534 rows x 5 columns]"
      ],
      "text/html": "<div>\n<style scoped>\n    .dataframe tbody tr th:only-of-type {\n        vertical-align: middle;\n    }\n\n    .dataframe tbody tr th {\n        vertical-align: top;\n    }\n\n    .dataframe thead th {\n        text-align: right;\n    }\n</style>\n<table border=\"1\" class=\"dataframe\">\n  <thead>\n    <tr style=\"text-align: right;\">\n      <th></th>\n      <th>ASIN</th>\n      <th>title</th>\n      <th>price</th>\n      <th>rating</th>\n      <th>review_count</th>\n    </tr>\n  </thead>\n  <tbody>\n    <tr>\n      <th>0</th>\n      <td>B087T9B6X5</td>\n      <td>Canon EOS Rebel T100 DSLR Camera with 18-55mm ...</td>\n      <td>424.00</td>\n      <td>4.7</td>\n      <td>206</td>\n    </tr>\n    <tr>\n      <th>1</th>\n      <td>B0868VLMWK</td>\n      <td>Canon EOS 4000D DSLR Camera with EF-S 18-55mm ...</td>\n      <td>479.00</td>\n      <td>4.6</td>\n      <td>46</td>\n    </tr>\n    <tr>\n      <th>2</th>\n      <td>B08DQ4QQ6R</td>\n      <td>Canon EOS 4000D / Rebel T100 Digital SLR Camer...</td>\n      <td>499.95</td>\n      <td>4.5</td>\n      <td>31</td>\n    </tr>\n    <tr>\n      <th>3</th>\n      <td>B011PKJI2Y</td>\n      <td>Panasonic LUMIX FZ300 Long Zoom Digital Camera...</td>\n      <td>397.99</td>\n      <td>4.7</td>\n      <td>1161</td>\n    </tr>\n    <tr>\n      <th>4</th>\n      <td>B06XNTPN8C</td>\n      <td>Canon EOS Rebel T6 Digital SLR Camera Kit with...</td>\n      <td>444.00</td>\n      <td>4.7</td>\n      <td>914</td>\n    </tr>\n    <tr>\n      <th>...</th>\n      <td>...</td>\n      <td>...</td>\n      <td>...</td>\n      <td>...</td>\n      <td>...</td>\n    </tr>\n    <tr>\n      <th>33529</th>\n      <td>B08FTKLPDP</td>\n      <td>HP 13.3 EB 830G7 i710810U 16G 51\"</td>\n      <td>1925.00</td>\n      <td>NaN</td>\n      <td>0</td>\n    </tr>\n    <tr>\n      <th>33530</th>\n      <td>B08N6ZLKL3</td>\n      <td>Dell Latitude 5400 - 14” FHD Non-Touch - Intel...</td>\n      <td>NaN</td>\n      <td>NaN</td>\n      <td>0</td>\n    </tr>\n    <tr>\n      <th>33531</th>\n      <td>B00UMFVV9C</td>\n      <td>ZTC RAID Series mSATA Mini or Full Size to SAT...</td>\n      <td>54.98</td>\n      <td>3.0</td>\n      <td>3</td>\n    </tr>\n    <tr>\n      <th>33532</th>\n      <td>B07SZCVNLN</td>\n      <td>Dell Vostro 13 5390, 8th Generation Intel Core...</td>\n      <td>999.97</td>\n      <td>5.0</td>\n      <td>2</td>\n    </tr>\n    <tr>\n      <th>33533</th>\n      <td>B07GH91SG8</td>\n      <td>Dell Alienware 17 R5 VR Ready Intel Core i7 8 ...</td>\n      <td>1569.00</td>\n      <td>NaN</td>\n      <td>0</td>\n    </tr>\n  </tbody>\n</table>\n<p>33534 rows × 5 columns</p>\n</div>"
     },
     "metadata": {},
     "execution_count": 71
    }
   ],
   "source": [
    "df"
   ]
  },
  {
   "cell_type": "code",
   "execution_count": 46,
   "metadata": {},
   "outputs": [
    {
     "output_type": "execute_result",
     "data": {
      "text/plain": [
       "nan"
      ]
     },
     "metadata": {},
     "execution_count": 46
    }
   ],
   "source": [
    "df.rating[33533]"
   ]
  },
  {
   "cell_type": "code",
   "execution_count": 47,
   "metadata": {},
   "outputs": [
    {
     "output_type": "stream",
     "name": "stdout",
     "text": [
      "false\n"
     ]
    }
   ],
   "source": [
    "if df.rating[33533] == np.nan:\n",
    "    print('True')\n",
    "else:\n",
    "    print('false')"
   ]
  },
  {
   "cell_type": "code",
   "execution_count": 17,
   "metadata": {},
   "outputs": [],
   "source": [
    "df['rating'] = df.rating.astype(float)"
   ]
  },
  {
   "cell_type": "code",
   "execution_count": 19,
   "metadata": {},
   "outputs": [],
   "source": [
    "df = df.drop_duplicates('title', keep='first')"
   ]
  },
  {
   "cell_type": "code",
   "execution_count": 65,
   "metadata": {},
   "outputs": [],
   "source": [
    "df.reset_index(drop=True, inplace=True)"
   ]
  },
  {
   "cell_type": "code",
   "execution_count": 77,
   "metadata": {},
   "outputs": [],
   "source": [
    "df.to_csv('summary_all.csv')"
   ]
  },
  {
   "cell_type": "code",
   "execution_count": null,
   "metadata": {},
   "outputs": [],
   "source": []
  }
 ]
}