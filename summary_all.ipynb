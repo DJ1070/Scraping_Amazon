{
 "metadata": {
  "language_info": {
   "codemirror_mode": {
    "name": "ipython",
    "version": 3
   },
   "file_extension": ".py",
   "mimetype": "text/x-python",
   "name": "python",
   "nbconvert_exporter": "python",
   "pygments_lexer": "ipython3",
   "version": "3.8.5-final"
  },
  "orig_nbformat": 2,
  "kernelspec": {
   "name": "python3",
   "display_name": "Python 3.8.5 64-bit (conda)",
   "metadata": {
    "interpreter": {
     "hash": "b3ba2566441a7c06988d0923437866b63cedc61552a5af99d1f4fb67d367b25f"
    }
   }
  }
 },
 "nbformat": 4,
 "nbformat_minor": 2,
 "cells": [
  {
   "cell_type": "code",
   "execution_count": 3,
   "metadata": {},
   "outputs": [],
   "source": [
    "import pandas as pd\n",
    "import numpy as np"
   ]
  },
  {
   "cell_type": "code",
   "execution_count": 22,
   "metadata": {},
   "outputs": [],
   "source": [
    "df = pd.read_csv('summary_camera.csv')\n",
    "df1 = pd.read_csv('summary_headphone.csv')\n",
    "df2 = pd.read_csv('summary_keyboard.csv')\n",
    "df3 = pd.read_csv('summary_laptop.csv')\n",
    "df4 = pd.read_csv('summary_monitor.csv')\n",
    "df5 = pd.read_csv('summary_mouse.csv')\n",
    "df6 = pd.read_csv('summary_phone.csv')\n",
    "df7 = pd.read_csv('summary_processor.csv')"
   ]
  },
  {
   "cell_type": "code",
   "execution_count": 23,
   "metadata": {},
   "outputs": [],
   "source": [
    "df = pd.concat([df, df1, df2, df3, df4, df5, df6, df7], axis=0)"
   ]
  },
  {
   "cell_type": "code",
   "execution_count": 82,
   "metadata": {},
   "outputs": [
    {
     "output_type": "execute_result",
     "data": {
      "text/plain": [
       "             ASIN                                              title   price  \\\n",
       "0      B087T9B6X5  Canon EOS Rebel T100 DSLR Camera with 18-55mm ...     424   \n",
       "1      B0868VLMWK  Canon EOS 4000D DSLR Camera with EF-S 18-55mm ...     479   \n",
       "2      B08DQ4QQ6R  Canon EOS 4000D / Rebel T100 Digital SLR Camer...  499.95   \n",
       "3      B011PKJI2Y  Panasonic LUMIX FZ300 Long Zoom Digital Camera...  397.99   \n",
       "4      B06XNTPN8C  Canon EOS Rebel T6 Digital SLR Camera Kit with...     444   \n",
       "...           ...                                                ...     ...   \n",
       "32768  B08FTKLPDP              HP 13.3 EB 830G7 i710810U 16G 51 inch    1925   \n",
       "32769  B08N6ZLKL3  Dell Latitude 5400 - 14” FHD Non-Touch - Intel...           \n",
       "32770  B00UMFVV9C  ZTC RAID Series mSATA Mini or Full Size to SAT...   54.98   \n",
       "32771  B07SZCVNLN  Dell Vostro 13 5390, 8th Generation Intel Core...  999.97   \n",
       "32772  B07GH91SG8  Dell Alienware 17 R5 VR Ready Intel Core i7 8 ...    1569   \n",
       "\n",
       "      rating  review_count  \n",
       "0        4.7           206  \n",
       "1        4.6            46  \n",
       "2        4.5            31  \n",
       "3        4.7          1161  \n",
       "4        4.7           914  \n",
       "...      ...           ...  \n",
       "32768                    0  \n",
       "32769                    0  \n",
       "32770      3             3  \n",
       "32771      5             2  \n",
       "32772                    0  \n",
       "\n",
       "[32773 rows x 5 columns]"
      ],
      "text/html": "<div>\n<style scoped>\n    .dataframe tbody tr th:only-of-type {\n        vertical-align: middle;\n    }\n\n    .dataframe tbody tr th {\n        vertical-align: top;\n    }\n\n    .dataframe thead th {\n        text-align: right;\n    }\n</style>\n<table border=\"1\" class=\"dataframe\">\n  <thead>\n    <tr style=\"text-align: right;\">\n      <th></th>\n      <th>ASIN</th>\n      <th>title</th>\n      <th>price</th>\n      <th>rating</th>\n      <th>review_count</th>\n    </tr>\n  </thead>\n  <tbody>\n    <tr>\n      <th>0</th>\n      <td>B087T9B6X5</td>\n      <td>Canon EOS Rebel T100 DSLR Camera with 18-55mm ...</td>\n      <td>424</td>\n      <td>4.7</td>\n      <td>206</td>\n    </tr>\n    <tr>\n      <th>1</th>\n      <td>B0868VLMWK</td>\n      <td>Canon EOS 4000D DSLR Camera with EF-S 18-55mm ...</td>\n      <td>479</td>\n      <td>4.6</td>\n      <td>46</td>\n    </tr>\n    <tr>\n      <th>2</th>\n      <td>B08DQ4QQ6R</td>\n      <td>Canon EOS 4000D / Rebel T100 Digital SLR Camer...</td>\n      <td>499.95</td>\n      <td>4.5</td>\n      <td>31</td>\n    </tr>\n    <tr>\n      <th>3</th>\n      <td>B011PKJI2Y</td>\n      <td>Panasonic LUMIX FZ300 Long Zoom Digital Camera...</td>\n      <td>397.99</td>\n      <td>4.7</td>\n      <td>1161</td>\n    </tr>\n    <tr>\n      <th>4</th>\n      <td>B06XNTPN8C</td>\n      <td>Canon EOS Rebel T6 Digital SLR Camera Kit with...</td>\n      <td>444</td>\n      <td>4.7</td>\n      <td>914</td>\n    </tr>\n    <tr>\n      <th>...</th>\n      <td>...</td>\n      <td>...</td>\n      <td>...</td>\n      <td>...</td>\n      <td>...</td>\n    </tr>\n    <tr>\n      <th>32768</th>\n      <td>B08FTKLPDP</td>\n      <td>HP 13.3 EB 830G7 i710810U 16G 51 inch</td>\n      <td>1925</td>\n      <td></td>\n      <td>0</td>\n    </tr>\n    <tr>\n      <th>32769</th>\n      <td>B08N6ZLKL3</td>\n      <td>Dell Latitude 5400 - 14” FHD Non-Touch - Intel...</td>\n      <td></td>\n      <td></td>\n      <td>0</td>\n    </tr>\n    <tr>\n      <th>32770</th>\n      <td>B00UMFVV9C</td>\n      <td>ZTC RAID Series mSATA Mini or Full Size to SAT...</td>\n      <td>54.98</td>\n      <td>3</td>\n      <td>3</td>\n    </tr>\n    <tr>\n      <th>32771</th>\n      <td>B07SZCVNLN</td>\n      <td>Dell Vostro 13 5390, 8th Generation Intel Core...</td>\n      <td>999.97</td>\n      <td>5</td>\n      <td>2</td>\n    </tr>\n    <tr>\n      <th>32772</th>\n      <td>B07GH91SG8</td>\n      <td>Dell Alienware 17 R5 VR Ready Intel Core i7 8 ...</td>\n      <td>1569</td>\n      <td></td>\n      <td>0</td>\n    </tr>\n  </tbody>\n</table>\n<p>32773 rows × 5 columns</p>\n</div>"
     },
     "metadata": {},
     "execution_count": 82
    }
   ],
   "source": [
    "df"
   ]
  },
  {
   "cell_type": "code",
   "execution_count": 25,
   "metadata": {},
   "outputs": [],
   "source": [
    "df = df.drop('Unnamed: 0', axis = 1)"
   ]
  },
  {
   "cell_type": "code",
   "execution_count": 26,
   "metadata": {},
   "outputs": [
    {
     "output_type": "execute_result",
     "data": {
      "text/plain": [
       "(57158, 5)"
      ]
     },
     "metadata": {},
     "execution_count": 26
    }
   ],
   "source": [
    "df.shape"
   ]
  },
  {
   "cell_type": "code",
   "execution_count": 27,
   "metadata": {},
   "outputs": [
    {
     "output_type": "execute_result",
     "data": {
      "text/plain": [
       "0       4.7\n",
       "1       4.6\n",
       "2       4.5\n",
       "3       4.7\n",
       "4       4.7\n",
       "       ... \n",
       "6148      3\n",
       "6149    NaN\n",
       "6150      5\n",
       "6151      5\n",
       "6152    NaN\n",
       "Name: rating, Length: 57158, dtype: object"
      ]
     },
     "metadata": {},
     "execution_count": 27
    }
   ],
   "source": [
    "df.rating"
   ]
  },
  {
   "cell_type": "code",
   "execution_count": 30,
   "metadata": {},
   "outputs": [],
   "source": [
    "df.title = df.title.str.replace('\"', ' inch')"
   ]
  },
  {
   "cell_type": "code",
   "execution_count": 31,
   "metadata": {},
   "outputs": [],
   "source": [
    "df = df.fillna('')"
   ]
  },
  {
   "cell_type": "code",
   "execution_count": 33,
   "metadata": {},
   "outputs": [],
   "source": [
    "df.reset_index(drop=True, inplace=True)"
   ]
  },
  {
   "cell_type": "code",
   "execution_count": 49,
   "metadata": {},
   "outputs": [],
   "source": [
    "for i in range(len(df)):\n",
    "    if isinstance(df.rating[i], str) == True:\n",
    "        df.rating[i] = df.rating[i].replace(',', '.')"
   ]
  },
  {
   "cell_type": "code",
   "execution_count": 79,
   "metadata": {},
   "outputs": [
    {
     "output_type": "execute_result",
     "data": {
      "text/plain": [
       "B08Q9SNY72    1\n",
       "B08LKRJBFL    1\n",
       "B08T1KMQ9T    1\n",
       "B06WWNKFWY    1\n",
       "B08BJ1TM1T    1\n",
       "             ..\n",
       "B07WGXVQ9N    1\n",
       "B08SK11XMD    1\n",
       "B08PQGWY79    1\n",
       "B07SX51F36    1\n",
       "B08SKG9SBZ    1\n",
       "Name: ASIN, Length: 32773, dtype: int64"
      ]
     },
     "metadata": {},
     "execution_count": 79
    }
   ],
   "source": [
    "df.ASIN.value_counts(ascending = False)"
   ]
  },
  {
   "cell_type": "code",
   "execution_count": 78,
   "metadata": {},
   "outputs": [],
   "source": [
    "df = df.drop_duplicates('ASIN')"
   ]
  },
  {
   "cell_type": "code",
   "execution_count": 81,
   "metadata": {},
   "outputs": [],
   "source": [
    "df.reset_index(drop=True, inplace=True)"
   ]
  },
  {
   "cell_type": "code",
   "execution_count": 85,
   "metadata": {},
   "outputs": [],
   "source": [
    "df.to_csv('summary_all.csv')"
   ]
  },
  {
   "cell_type": "code",
   "execution_count": null,
   "metadata": {},
   "outputs": [],
   "source": []
  }
 ]
}