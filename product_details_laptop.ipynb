{
 "metadata": {
  "language_info": {
   "codemirror_mode": {
    "name": "ipython",
    "version": 3
   },
   "file_extension": ".py",
   "mimetype": "text/x-python",
   "name": "python",
   "nbconvert_exporter": "python",
   "pygments_lexer": "ipython3",
   "version": "3.8.5-final"
  },
  "orig_nbformat": 2,
  "kernelspec": {
   "name": "python3",
   "display_name": "Python 3.8.5 64-bit (conda)",
   "metadata": {
    "interpreter": {
     "hash": "b3ba2566441a7c06988d0923437866b63cedc61552a5af99d1f4fb67d367b25f"
    }
   }
  }
 },
 "nbformat": 4,
 "nbformat_minor": 2,
 "cells": [
  {
   "cell_type": "code",
   "execution_count": 26,
   "metadata": {},
   "outputs": [],
   "source": [
    "import pandas as pd\n",
    "import numpy as np\n",
    "import re\n",
    "from pandas.io.json import json_normalize\n",
    "\n",
    "csv_filename = 'product_details_laptop.csv'\n",
    "csv_bought_together = 'items_bought_together_laptop.csv'\n",
    "csv_customer_reviews = 'links_to_customer_reviews_laptop.csv'\n",
    "txt_customer_reviews = 'links_to_customer_reviews_laptop.txt'"
   ]
  },
  {
   "cell_type": "code",
   "execution_count": 80,
   "metadata": {},
   "outputs": [],
   "source": [
    "# df = pd.read_csv('product_details_laptop.csv', index_col=0)\n",
    "# df.dtypes\n"
   ]
  },
  {
   "cell_type": "code",
   "execution_count": 27,
   "metadata": {},
   "outputs": [
    {
     "output_type": "execute_result",
     "data": {
      "text/plain": [
       "                                                name  \\\n",
       "0  CHUWI Herobook Pro 14.1 inch Windows 10 Intel ...   \n",
       "1  CHUWI HeroBook Pro 14.1 inch Windows 10 Laptop...   \n",
       "2  ASUS Laptop L210 Ultra Thin Laptop, 11.6” HD D...   \n",
       "3  HP Stream 14-inch Laptop, Intel Celeron N4000,...   \n",
       "4  Lenovo IdeaPad 3 15\" Laptop, 15.6\" HD (1366 x ...   \n",
       "\n",
       "                                     product_summary  \\\n",
       "0  [{'info': 'Brand', 'value': 'CHUWI'}, {'info':...   \n",
       "1  [{'info': 'Brand', 'value': 'CHUWI'}, {'info':...   \n",
       "2  [{'info': 'Brand', 'value': 'ASUS'}, {'info': ...   \n",
       "3  [{'info': 'Brand', 'value': 'HP'}, {'info': 'S...   \n",
       "4  [{'info': 'Brand', 'value': 'Lenovo'}, {'info'...   \n",
       "\n",
       "                                   product_tech_spec  \\\n",
       "0  [{'info': 'Standing screen display size', 'val...   \n",
       "1  [{'info': 'Standing screen display size', 'val...   \n",
       "2  [{'info': 'Standing screen display size', 'val...   \n",
       "3  [{'info': 'Standing screen display size', 'val...   \n",
       "4  [{'info': 'Standing screen display size', 'val...   \n",
       "\n",
       "                                   product_addl_info        seller  \\\n",
       "0  [{'info': 'ASIN', 'value': 'B085XRL3P1'}, {'in...         CHUWI   \n",
       "1  [{'info': 'ASIN', 'value': 'B08316YSKH'}, {'in...   ChuwiDirect   \n",
       "2  [{'info': 'ASIN', 'value': 'B081V6W99V'}, {'in...    AJay Sales   \n",
       "3  [{'info': 'ASIN', 'value': 'B084SMMH96'}, {'in...  Kailone Tech   \n",
       "4  [{'info': 'ASIN', 'value': 'B0872K4XCJ'}, {'in...          None   \n",
       "\n",
       "                                         seller_link  \\\n",
       "0  https://www.amazon.com/gp/help/seller/at-a-gla...   \n",
       "1  https://www.amazon.com/gp/help/seller/at-a-gla...   \n",
       "2  https://www.amazon.com/gp/help/seller/at-a-gla...   \n",
       "3  https://www.amazon.com/gp/help/seller/at-a-gla...   \n",
       "4                                               None   \n",
       "\n",
       "                                         freq_bought  \\\n",
       "0  VicTsing MM057 2.4G Wireless Portable Mobile M...   \n",
       "1  VicTsing MM057 2.4G Wireless Portable Mobile M...   \n",
       "2                                               None   \n",
       "3  VicTsing 2.4G Slim Wireless Mouse with Nano Re...   \n",
       "4  VicTsing MM057 2.4G Wireless Portable Mobile M...   \n",
       "\n",
       "                                    freq_bought_link  \\\n",
       "0  https://www.amazon.com/VicTsing-Wireless-Porta...   \n",
       "1  https://www.amazon.com/VicTsing-Wireless-Porta...   \n",
       "2                                               None   \n",
       "3  https://www.amazon.com/VicTsing-Wireless-Recei...   \n",
       "4  /VicTsing-Wireless-Portable-Receiver-Adjustabl...   \n",
       "\n",
       "                                 link_to_all_reviews  \n",
       "0  /CHUWI-Herobook-Pro-Notebook-Lightweight/produ...  \n",
       "1  /CHUWI-HeroBook-Pro-Notebook-Lightweight/produ...  \n",
       "2  /ASUS-Processor-NumberPad-Microsoft-L210MA-DB0...  \n",
       "3  /HP-14-cb186nr-Brilliant-9MV74UA-ABA/product-r...  \n",
       "4  /Lenovo-Processor-Graphics-81W10094US-Business...  "
      ],
      "text/html": "<div>\n<style scoped>\n    .dataframe tbody tr th:only-of-type {\n        vertical-align: middle;\n    }\n\n    .dataframe tbody tr th {\n        vertical-align: top;\n    }\n\n    .dataframe thead th {\n        text-align: right;\n    }\n</style>\n<table border=\"1\" class=\"dataframe\">\n  <thead>\n    <tr style=\"text-align: right;\">\n      <th></th>\n      <th>name</th>\n      <th>product_summary</th>\n      <th>product_tech_spec</th>\n      <th>product_addl_info</th>\n      <th>seller</th>\n      <th>seller_link</th>\n      <th>freq_bought</th>\n      <th>freq_bought_link</th>\n      <th>link_to_all_reviews</th>\n    </tr>\n  </thead>\n  <tbody>\n    <tr>\n      <th>0</th>\n      <td>CHUWI Herobook Pro 14.1 inch Windows 10 Intel ...</td>\n      <td>[{'info': 'Brand', 'value': 'CHUWI'}, {'info':...</td>\n      <td>[{'info': 'Standing screen display size', 'val...</td>\n      <td>[{'info': 'ASIN', 'value': 'B085XRL3P1'}, {'in...</td>\n      <td>CHUWI</td>\n      <td>https://www.amazon.com/gp/help/seller/at-a-gla...</td>\n      <td>VicTsing MM057 2.4G Wireless Portable Mobile M...</td>\n      <td>https://www.amazon.com/VicTsing-Wireless-Porta...</td>\n      <td>/CHUWI-Herobook-Pro-Notebook-Lightweight/produ...</td>\n    </tr>\n    <tr>\n      <th>1</th>\n      <td>CHUWI HeroBook Pro 14.1 inch Windows 10 Laptop...</td>\n      <td>[{'info': 'Brand', 'value': 'CHUWI'}, {'info':...</td>\n      <td>[{'info': 'Standing screen display size', 'val...</td>\n      <td>[{'info': 'ASIN', 'value': 'B08316YSKH'}, {'in...</td>\n      <td>ChuwiDirect</td>\n      <td>https://www.amazon.com/gp/help/seller/at-a-gla...</td>\n      <td>VicTsing MM057 2.4G Wireless Portable Mobile M...</td>\n      <td>https://www.amazon.com/VicTsing-Wireless-Porta...</td>\n      <td>/CHUWI-HeroBook-Pro-Notebook-Lightweight/produ...</td>\n    </tr>\n    <tr>\n      <th>2</th>\n      <td>ASUS Laptop L210 Ultra Thin Laptop, 11.6” HD D...</td>\n      <td>[{'info': 'Brand', 'value': 'ASUS'}, {'info': ...</td>\n      <td>[{'info': 'Standing screen display size', 'val...</td>\n      <td>[{'info': 'ASIN', 'value': 'B081V6W99V'}, {'in...</td>\n      <td>AJay Sales</td>\n      <td>https://www.amazon.com/gp/help/seller/at-a-gla...</td>\n      <td>None</td>\n      <td>None</td>\n      <td>/ASUS-Processor-NumberPad-Microsoft-L210MA-DB0...</td>\n    </tr>\n    <tr>\n      <th>3</th>\n      <td>HP Stream 14-inch Laptop, Intel Celeron N4000,...</td>\n      <td>[{'info': 'Brand', 'value': 'HP'}, {'info': 'S...</td>\n      <td>[{'info': 'Standing screen display size', 'val...</td>\n      <td>[{'info': 'ASIN', 'value': 'B084SMMH96'}, {'in...</td>\n      <td>Kailone Tech</td>\n      <td>https://www.amazon.com/gp/help/seller/at-a-gla...</td>\n      <td>VicTsing 2.4G Slim Wireless Mouse with Nano Re...</td>\n      <td>https://www.amazon.com/VicTsing-Wireless-Recei...</td>\n      <td>/HP-14-cb186nr-Brilliant-9MV74UA-ABA/product-r...</td>\n    </tr>\n    <tr>\n      <th>4</th>\n      <td>Lenovo IdeaPad 3 15\" Laptop, 15.6\" HD (1366 x ...</td>\n      <td>[{'info': 'Brand', 'value': 'Lenovo'}, {'info'...</td>\n      <td>[{'info': 'Standing screen display size', 'val...</td>\n      <td>[{'info': 'ASIN', 'value': 'B0872K4XCJ'}, {'in...</td>\n      <td>None</td>\n      <td>None</td>\n      <td>VicTsing MM057 2.4G Wireless Portable Mobile M...</td>\n      <td>/VicTsing-Wireless-Portable-Receiver-Adjustabl...</td>\n      <td>/Lenovo-Processor-Graphics-81W10094US-Business...</td>\n    </tr>\n  </tbody>\n</table>\n</div>"
     },
     "metadata": {},
     "execution_count": 27
    }
   ],
   "source": [
    "df = pd.read_json('laptop_product_output.jsonl')\n",
    "df.head()"
   ]
  },
  {
   "cell_type": "code",
   "execution_count": 28,
   "metadata": {},
   "outputs": [],
   "source": [
    "df.name = df.name.str.replace('\"','inch')"
   ]
  },
  {
   "cell_type": "code",
   "execution_count": 29,
   "metadata": {},
   "outputs": [],
   "source": [
    "df = df.dropna(axis=0, how='all')"
   ]
  },
  {
   "cell_type": "code",
   "execution_count": 30,
   "metadata": {},
   "outputs": [],
   "source": [
    "df.link_to_all_reviews = 'https://www.amazon.com/' + df.link_to_all_reviews"
   ]
  },
  {
   "cell_type": "code",
   "execution_count": 31,
   "metadata": {},
   "outputs": [],
   "source": [
    "df.reset_index(drop=True, inplace = True)"
   ]
  },
  {
   "cell_type": "code",
   "execution_count": 32,
   "metadata": {},
   "outputs": [],
   "source": [
    "# Extraction of all specifications in nested JSON-dicts to be used for building additional columns \n",
    "  \n",
    "new_columns = []\n",
    "for i in range(len(df)):\n",
    "    if df.product_summary[i] is not None:\n",
    "        product_sum = df.product_summary[i]\n",
    "        x = len(product_sum)  \n",
    "        for j in range(x):\n",
    "            new_columns.append(product_sum[j]['info'])\n",
    "    if df.product_tech_spec[i] is not None:\n",
    "        product_tech = df.product_tech_spec[i]\n",
    "        y = len(product_tech)  \n",
    "        for j in range(y):\n",
    "            new_columns.append(product_tech[j]['info'])\n",
    "    if df.product_addl_info[i] is not None:\n",
    "        product_add = df.product_addl_info[i]\n",
    "        z = len(product_add)  \n",
    "        for j in range(z):\n",
    "            new_columns.append(product_add[j]['info'])"
   ]
  },
  {
   "cell_type": "code",
   "execution_count": 33,
   "metadata": {},
   "outputs": [],
   "source": [
    "for i in range(len(new_columns)):\n",
    "    if new_columns[i] is not None:\n",
    "        new_columns[i] = new_columns[i].lower()\n",
    "new_columns = set(new_columns) "
   ]
  },
  {
   "cell_type": "code",
   "execution_count": 34,
   "metadata": {},
   "outputs": [],
   "source": [
    "new_columns = list(new_columns)"
   ]
  },
  {
   "cell_type": "code",
   "execution_count": 35,
   "metadata": {},
   "outputs": [],
   "source": [
    "try:\n",
    "    new_columns.remove(None)\n",
    "except:\n",
    "    pass"
   ]
  },
  {
   "cell_type": "code",
   "execution_count": 36,
   "metadata": {},
   "outputs": [],
   "source": [
    "for i in new_columns:\n",
    "    df[i] = i\n",
    "    df[i] = ''"
   ]
  },
  {
   "cell_type": "code",
   "execution_count": 37,
   "metadata": {},
   "outputs": [],
   "source": [
    "for i in range(len(df)):\n",
    "    if df.product_summary[i] is not None:\n",
    "        psc = []\n",
    "        product_sum = df.product_summary[i]\n",
    "        product_sum = pd.DataFrame(product_sum)\n",
    "        product_sum = product_sum.transpose()\n",
    "        psc_len = len(product_sum.columns)  # collecting number of columns in product_sum / items in df.product_summary\n",
    "        for j in range(psc_len):            # getting item / column names\n",
    "            psc.append(product_sum[j][0])\n",
    "        for k in range(len(psc)):           # setting item / column names in lower cases for transfer of values into correct df columns\n",
    "            if psc[k] is not None:\n",
    "                psc[k] = psc[k].lower()\n",
    "        product_sum.columns = product_sum.iloc[0] # Turns row 1 into column names\n",
    "        product_sum = product_sum.drop('info') # Drops row 1\n",
    "        product_sum.columns = psc\n",
    "        for l in psc: \n",
    "            try:\n",
    "                df[l][i] = product_sum[l]['value']\n",
    "            except:\n",
    "                continue\n",
    "    if df.product_tech_spec[i] is not None:\n",
    "        ptc = []\n",
    "        product_tec = df.product_tech_spec[i]\n",
    "        product_tec = pd.DataFrame(product_tec)\n",
    "        product_tec = product_tec.transpose()\n",
    "        ptc_len = len(product_tec.columns)  # collecting number of columns in product_tec / items in df.product_tech_spec\n",
    "        for j in range(ptc_len):            # getting item / column names\n",
    "            ptc.append(product_tec[j][0])\n",
    "        for k in range(len(ptc)):           # setting item / column names in lower cases for transfer of values into correct df columns\n",
    "            if ptc[k] is not None:\n",
    "                ptc[k] = ptc[k].lower()\n",
    "        product_tec.columns = product_tec.iloc[0] # Turns row 1 into column names\n",
    "        product_tec = product_tec.drop('info') # Drops row 1\n",
    "        product_tec.columns = ptc\n",
    "        for l in ptc:   ## What does this loop through??? I need the column name, but I have to stay within one row!!!\n",
    "            try:\n",
    "                df[l][i] = product_tec[l]['value']\n",
    "            except:\n",
    "                continue\n",
    "    if df.product_addl_info[i] is not None:\n",
    "        pac = []\n",
    "        product_add = df.product_addl_info[i]\n",
    "        product_add = pd.DataFrame(product_add)\n",
    "        product_add = product_add.transpose()\n",
    "        pac_len = len(product_add.columns)  # collecting number of columns in product_tec / items in df.product_tech_spec\n",
    "        for j in range(pac_len):            # getting item / column names\n",
    "            pac.append(product_add[j][0])\n",
    "        for k in range(len(pac)):           # setting item / column names in lower cases for transfer of values into correct df columns\n",
    "            if pac[k] is not None:\n",
    "                pac[k] = pac[k].lower()\n",
    "        product_add.columns = product_add.iloc[0] # Turns row 1 into column names\n",
    "        product_add = product_add.drop('info') # Drops row 1\n",
    "        product_add.columns = pac\n",
    "        for l in pac:   ## What does this loop through??? I need the column name, but I have to stay within one row!!!\n",
    "            try:\n",
    "                df[l][i] = product_add[l]['value']\n",
    "            except:\n",
    "                continue"
   ]
  },
  {
   "cell_type": "code",
   "execution_count": 38,
   "metadata": {},
   "outputs": [],
   "source": [
    "df.rename(columns = {'asin' : 'ASIN'}, inplace = True)"
   ]
  },
  {
   "cell_type": "code",
   "execution_count": 53,
   "metadata": {},
   "outputs": [],
   "source": [
    "df['customer reviews'] = df['customer reviews'].str.split('{\\ntext-decoration: none;\\n} ').str[1]\n",
    "df['customer reviews'] = df['customer reviews'].str.split(' out of 5 stars').str[0]\n",
    "df['customer reviews'] = df['customer reviews'].str.split(' von 5 Sternen').str[0]\n",
    "\n",
    "# df['ASIN'] = df.url.str.split('/dp/').str[-1]\n",
    "# df['ASIN'] = df.ASIN.str.split('%2Fdp%2F').str[-1]\n",
    "# df['ASIN'] = df.ASIN.str.split('/').str[0]\n",
    "# df['ASIN'] = df.ASIN.str.split('%2F').str[0]"
   ]
  },
  {
   "cell_type": "code",
   "execution_count": 54,
   "metadata": {},
   "outputs": [
    {
     "output_type": "execute_result",
     "data": {
      "text/plain": [
       "0         4.0 out of 5 stars 419 ratings P.when('A', 'ready').execute(function(A) {\\nA.declarative('acrLink-click-metrics', 'click', { \"allowLinkDefault\" : true }, function(event){\\nif(window.ue) {\\nue.count(\"acrLinkClickCount\", (ue.count(\"acrLinkClickCount\") || 0) + 1);\\n}\\n});\\n}); P.when('A', 'cf').execute(function(A) {\\nA.declarative('acrStarsLink-click-metrics', 'click', { \"allowLinkDefault\" : true },  function(event){\\nif(window.ue) {\\nue.count(\"acrStarsLinkWithPopoverClickCount\", (ue.count(\"ac...\n",
       "1         4.0 out of 5 stars 619 ratings P.when('A', 'ready').execute(function(A) {\\nA.declarative('acrLink-click-metrics', 'click', { \"allowLinkDefault\" : true }, function(event){\\nif(window.ue) {\\nue.count(\"acrLinkClickCount\", (ue.count(\"acrLinkClickCount\") || 0) + 1);\\n}\\n});\\n}); P.when('A', 'cf').execute(function(A) {\\nA.declarative('acrStarsLink-click-metrics', 'click', { \"allowLinkDefault\" : true },  function(event){\\nif(window.ue) {\\nue.count(\"acrStarsLinkWithPopoverClickCount\", (ue.count(\"ac...\n",
       "2         4.3 out of 5 stars 5,759 ratings P.when('A', 'ready').execute(function(A) {\\nA.declarative('acrLink-click-metrics', 'click', { \"allowLinkDefault\" : true }, function(event){\\nif(window.ue) {\\nue.count(\"acrLinkClickCount\", (ue.count(\"acrLinkClickCount\") || 0) + 1);\\n}\\n});\\n}); P.when('A', 'cf').execute(function(A) {\\nA.declarative('acrStarsLink-click-metrics', 'click', { \"allowLinkDefault\" : true },  function(event){\\nif(window.ue) {\\nue.count(\"acrStarsLinkWithPopoverClickCount\", (ue.count(\"...\n",
       "3         4.5 out of 5 stars 2,540 ratings P.when('A', 'ready').execute(function(A) {\\nA.declarative('acrLink-click-metrics', 'click', { \"allowLinkDefault\" : true }, function(event){\\nif(window.ue) {\\nue.count(\"acrLinkClickCount\", (ue.count(\"acrLinkClickCount\") || 0) + 1);\\n}\\n});\\n}); P.when('A', 'cf').execute(function(A) {\\nA.declarative('acrStarsLink-click-metrics', 'click', { \"allowLinkDefault\" : true },  function(event){\\nif(window.ue) {\\nue.count(\"acrStarsLinkWithPopoverClickCount\", (ue.count(\"...\n",
       "4         4.4 out of 5 stars 509 ratings P.when('A', 'ready').execute(function(A) {\\nA.declarative('acrLink-click-metrics', 'click', { \"allowLinkDefault\" : true }, function(event){\\nif(window.ue) {\\nue.count(\"acrLinkClickCount\", (ue.count(\"acrLinkClickCount\") || 0) + 1);\\n}\\n});\\n}); P.when('A', 'cf').execute(function(A) {\\nA.declarative('acrStarsLink-click-metrics', 'click', { \"allowLinkDefault\" : true },  function(event){\\nif(window.ue) {\\nue.count(\"acrStarsLinkWithPopoverClickCount\", (ue.count(\"ac...\n",
       "                                                                                                                                                                                                                                                                ...                                                                                                                                                                                                                                                         \n",
       "11574                                                                                                                                                                                                                                                                                                                                                                                                                                                                                                                    NaN\n",
       "11575                                                                                                                                                                                                                                                                                                                                                                                                                                                                                                                    NaN\n",
       "11576                                                                                                                                                                                                                                                                                                                                                                                                                                                                                                                    NaN\n",
       "11577     5.0 out of 5 stars 4 ratings P.when('A', 'ready').execute(function(A) {\\nA.declarative('acrLink-click-metrics', 'click', { \"allowLinkDefault\" : true }, function(event){\\nif(window.ue) {\\nue.count(\"acrLinkClickCount\", (ue.count(\"acrLinkClickCount\") || 0) + 1);\\n}\\n});\\n}); P.when('A', 'cf').execute(function(A) {\\nA.declarative('acrStarsLink-click-metrics', 'click', { \"allowLinkDefault\" : true },  function(event){\\nif(window.ue) {\\nue.count(\"acrStarsLinkWithPopoverClickCount\", (ue.count(\"acrS...\n",
       "11578     4.2 out of 5 stars 24 ratings P.when('A', 'ready').execute(function(A) {\\nA.declarative('acrLink-click-metrics', 'click', { \"allowLinkDefault\" : true }, function(event){\\nif(window.ue) {\\nue.count(\"acrLinkClickCount\", (ue.count(\"acrLinkClickCount\") || 0) + 1);\\n}\\n});\\n}); P.when('A', 'cf').execute(function(A) {\\nA.declarative('acrStarsLink-click-metrics', 'click', { \"allowLinkDefault\" : true },  function(event){\\nif(window.ue) {\\nue.count(\"acrStarsLinkWithPopoverClickCount\", (ue.count(\"acr...\n",
       "Name: customer reviews, Length: 11579, dtype: object"
      ]
     },
     "metadata": {},
     "execution_count": 54
    }
   ],
   "source": [
    "pd.options.display.max_colwidth = 500\n",
    "df['customer reviews']"
   ]
  },
  {
   "cell_type": "code",
   "execution_count": 56,
   "metadata": {},
   "outputs": [],
   "source": [
    "df.to_csv(csv_filename)"
   ]
  },
  {
   "cell_type": "code",
   "execution_count": 55,
   "metadata": {},
   "outputs": [],
   "source": [
    "zaehler = 0\n",
    "for i in range(len(df)):\n",
    "    if df['customer reviews'][i] is not None:\n",
    "        try:\n",
    "            res = [re.findall(r'(\\d+),(\\d+) von 5 Sternen', df['customer reviews'][i])[0] ]\n",
    "            a = res[0][0]\n",
    "            b = res[0][1]\n",
    "            c = float(a+'.'+b)\n",
    "            df['customer reviews'][i] = c\n",
    "            zaehler += 1\n",
    "        except:\n",
    "            pass"
   ]
  },
  {
   "cell_type": "code",
   "execution_count": 15,
   "metadata": {},
   "outputs": [],
   "source": [
    "for i in range(len(df)):\n",
    "    if df['customer reviews'][i] is not None:\n",
    "        try:\n",
    "            res = [re.findall(r'(\\d+).(\\d+) out of 5 stars', df['customer reviews'][i])[0] ]\n",
    "            a = res[0][0]\n",
    "            b = res[0][1]\n",
    "            c = float(a+'.'+b)\n",
    "            df['customer reviews'][i] = c\n",
    "        except:\n",
    "            pass\n",
    "        try:\n",
    "            res = [re.findall(r'(\\d+),(\\d+) von 5 Sternen', df['customer reviews'][i])[0] ]\n",
    "            a = res[0][0]\n",
    "            b = res[0][1]\n",
    "            c = float(a+'.'+b)\n",
    "            df['customer reviews'][i] = c\n",
    "        except:\n",
    "            pass\n",
    "    else:\n",
    "        df['customer reviews'][i] = 0\n",
    "df.rename(columns = {'customer reviews' : 'rating'}, inplace = True)"
   ]
  },
  {
   "cell_type": "code",
   "execution_count": 16,
   "metadata": {},
   "outputs": [],
   "source": [
    "df = df.drop(['product_summary', 'product_tech_spec', 'product_addl_info'], axis = 1)"
   ]
  },
  {
   "cell_type": "code",
   "execution_count": 17,
   "metadata": {},
   "outputs": [],
   "source": [
    "for i in range(len(df)):\n",
    "    if df.name[i] is None:\n",
    "        df = df.drop([i], axis = 0)"
   ]
  },
  {
   "cell_type": "code",
   "execution_count": 18,
   "metadata": {},
   "outputs": [],
   "source": [
    "# Creating dataframe with links to all customer reviews for saving in additional CSV-file\n",
    "\n",
    "df_laptop_customer_reviews_link = df.link_to_all_reviews\n",
    "df_laptop_customer_reviews_link = df_laptop_customer_reviews_link.dropna()\n",
    "df_laptop_customer_reviews_link.reset_index(drop=True, inplace = True)"
   ]
  },
  {
   "cell_type": "code",
   "execution_count": 19,
   "metadata": {},
   "outputs": [],
   "source": [
    "df_laptop_bought_together = df[['ASIN', 'name', 'freq_bought', 'freq_bought_link']]"
   ]
  },
  {
   "cell_type": "code",
   "execution_count": 20,
   "metadata": {},
   "outputs": [],
   "source": [
    "df.to_csv(csv_filename)\n",
    "#df.to_csv(csv_filename, sep=';')\n",
    "df_laptop_customer_reviews_link.to_csv(csv_customer_reviews) # actually not necessary anymore since there's being a txt-file created\n",
    "df_laptop_bought_together.to_csv(csv_bought_together)"
   ]
  },
  {
   "cell_type": "code",
   "execution_count": 21,
   "metadata": {},
   "outputs": [],
   "source": [
    "f = open(txt_customer_reviews, 'w+')\n",
    "\n",
    "for i in range(len(df_laptop_customer_reviews_link)):\n",
    "    f.write(df_laptop_customer_reviews_link[i])\n",
    "    f.write('\\n')\n",
    "\n",
    "f.close()"
   ]
  },
  {
   "cell_type": "code",
   "execution_count": 22,
   "metadata": {},
   "outputs": [
    {
     "output_type": "execute_result",
     "data": {
      "text/plain": [
       "       Unnamed: 0                                               name  \\\n",
       "0               0  CHUWI Herobook Pro 14.1 inch Windows 10 Intel ...   \n",
       "1               1  CHUWI HeroBook Pro 14.1 inch Windows 10 Laptop...   \n",
       "2               2  ASUS Laptop L210 Ultra Thin Laptop, 11.6” HD D...   \n",
       "3               3  HP Stream 14-inch Laptop, Intel Celeron N4000,...   \n",
       "4               4  Lenovo IdeaPad 3 15inch Laptop, 15.6inch HD (1...   \n",
       "...           ...                                                ...   \n",
       "11563       11574  Schreibtisch Fan Tragbare USB-Mini Air Cooling...   \n",
       "11564       11575  [3-Pack] Webcam Cover, Camera Cover Slide, Lap...   \n",
       "11565       11576  Benfei DisplayPort auf VGA, Adapter Stecker au...   \n",
       "11566       11577  Used Like New Ultrabook Latitude E7240 Busines...   \n",
       "11567       11578  CHUWI CoreBook X 14inch Laptop, Intel Core i5 ...   \n",
       "\n",
       "                   seller                                        seller_link  \\\n",
       "0                   CHUWI  https://www.amazon.com/gp/help/seller/at-a-gla...   \n",
       "1             ChuwiDirect  https://www.amazon.com/gp/help/seller/at-a-gla...   \n",
       "2              AJay Sales  https://www.amazon.com/gp/help/seller/at-a-gla...   \n",
       "3            Kailone Tech  https://www.amazon.com/gp/help/seller/at-a-gla...   \n",
       "4                     NaN                                                NaN   \n",
       "...                   ...                                                ...   \n",
       "11563  Deals by Dennis Jr  https://www.amazon.com/-/de/gp/help/seller/at-...   \n",
       "11564          Rukina Int  https://www.amazon.com/-/de/gp/help/seller/at-...   \n",
       "11565        BenfeiDirect  https://www.amazon.com/-/de/gp/help/seller/at-...   \n",
       "11566                 NaN                                                NaN   \n",
       "11567         SmartValley  https://www.amazon.com/gp/help/seller/at-a-gla...   \n",
       "\n",
       "                                             freq_bought  \\\n",
       "0      VicTsing MM057 2.4G Wireless Portable Mobile M...   \n",
       "1      VicTsing MM057 2.4G Wireless Portable Mobile M...   \n",
       "2                                                    NaN   \n",
       "3      VicTsing 2.4G Slim Wireless Mouse with Nano Re...   \n",
       "4      VicTsing MM057 2.4G Wireless Portable Mobile M...   \n",
       "...                                                  ...   \n",
       "11563                                                NaN   \n",
       "11564                                                NaN   \n",
       "11565  Benfei DisplayPort auf VGA-Adapter, 90 cm lang...   \n",
       "11566                                                NaN   \n",
       "11567                                                NaN   \n",
       "\n",
       "                                        freq_bought_link  \\\n",
       "0      https://www.amazon.com/VicTsing-Wireless-Porta...   \n",
       "1      https://www.amazon.com/VicTsing-Wireless-Porta...   \n",
       "2                                                    NaN   \n",
       "3      https://www.amazon.com/VicTsing-Wireless-Recei...   \n",
       "4      /VicTsing-Wireless-Portable-Receiver-Adjustabl...   \n",
       "...                                                  ...   \n",
       "11563                                                NaN   \n",
       "11564                                                NaN   \n",
       "11565  https://www.amazon.com/-/de/dp/B082DH5K3L/ref=...   \n",
       "11566                                                NaN   \n",
       "11567                                                NaN   \n",
       "\n",
       "                                     link_to_all_reviews  \\\n",
       "0      https://www.amazon.com//CHUWI-Herobook-Pro-Not...   \n",
       "1      https://www.amazon.com//CHUWI-HeroBook-Pro-Not...   \n",
       "2      https://www.amazon.com//ASUS-Processor-NumberP...   \n",
       "3      https://www.amazon.com//HP-14-cb186nr-Brillian...   \n",
       "4      https://www.amazon.com//Lenovo-Processor-Graph...   \n",
       "...                                                  ...   \n",
       "11563  https://www.amazon.com//-/de/Portable-Cooling-...   \n",
       "11564  https://www.amazon.com//-/de/3-Pack-Laptops-Co...   \n",
       "11565  https://www.amazon.com//-/de/DisplayPort-Benfe...   \n",
       "11566  https://www.amazon.com//Ultrabook-Latitude-Bus...   \n",
       "11567  https://www.amazon.com//CHUWI-CoreBook-Process...   \n",
       "\n",
       "       anzahl der leuchtmittel benötigt batterien  \\\n",
       "0                          NaN                NaN   \n",
       "1                          NaN                NaN   \n",
       "2                          NaN                NaN   \n",
       "3                          NaN                NaN   \n",
       "4                          NaN                NaN   \n",
       "...                        ...                ...   \n",
       "11563                      NaN                NaN   \n",
       "11564                      NaN                NaN   \n",
       "11565                      NaN                NaN   \n",
       "11566                      NaN                NaN   \n",
       "11567                      NaN                NaN   \n",
       "\n",
       "                                       best sellers rank  ... modell/serie  \\\n",
       "0      #4,405 in Computers & Accessories ( See Top 10...  ...          NaN   \n",
       "1      #1,136 in Computers & Accessories ( See Top 10...  ...          NaN   \n",
       "2      #13 in Computers & Accessories ( See Top 100 i...  ...          NaN   \n",
       "3      #992 in Computers & Accessories ( See Top 100 ...  ...          NaN   \n",
       "4      #205 in Computers & Accessories ( See Top 100 ...  ...          NaN   \n",
       "...                                                  ...  ...          ...   \n",
       "11563                                                NaN  ...          NaN   \n",
       "11564                                                NaN  ...          NaN   \n",
       "11565                                                NaN  ...          NaN   \n",
       "11566  #3,381 in Computers & Accessories ( See Top 10...  ...          NaN   \n",
       "11567  #2,976 in Computers & Accessories ( See Top 10...  ...          NaN   \n",
       "\n",
       "       speicher-art is discontinued by manufacturer     produktabmessungen  \\\n",
       "0               NaN                             NaN                    NaN   \n",
       "1               NaN                             NaN                    NaN   \n",
       "2               NaN                             NaN                    NaN   \n",
       "3               NaN                             NaN                    NaN   \n",
       "4               NaN                             NaN                    NaN   \n",
       "...             ...                             ...                    ...   \n",
       "11563           NaN                             NaN                    NaN   \n",
       "11564           NaN                             NaN                    NaN   \n",
       "11565           NaN                             NaN  0.39 x 0.39 x 0.39 cm   \n",
       "11566           NaN                             NaN                    NaN   \n",
       "11567           NaN                             NaN                    NaN   \n",
       "\n",
       "      hardware plattform modellnummer internationaler versand  \\\n",
       "0                    NaN          NaN                     NaN   \n",
       "1                    NaN          NaN                     NaN   \n",
       "2                    NaN          NaN                     NaN   \n",
       "3                    NaN          NaN                     NaN   \n",
       "4                    NaN          NaN                     NaN   \n",
       "...                  ...          ...                     ...   \n",
       "11563                NaN    atb-OB826                     NaN   \n",
       "11564                NaN          NaN                     NaN   \n",
       "11565                NaN   000227grey                     NaN   \n",
       "11566                NaN          NaN                     NaN   \n",
       "11567                NaN          NaN                     NaN   \n",
       "\n",
       "      item model number manufacturer  stilrichtung  \n",
       "0          Herobook Pro          NaN           NaN  \n",
       "1          Herobook Pro          NaN           NaN  \n",
       "2           L210MA-DB01          NaN           NaN  \n",
       "3           9MV74UA#ABA          NaN           NaN  \n",
       "4            81W10094US          NaN           NaN  \n",
       "...                 ...          ...           ...  \n",
       "11563               NaN          NaN           NaN  \n",
       "11564               NaN          NaN           NaN  \n",
       "11565               NaN          NaN           NaN  \n",
       "11566              7420          NaN           NaN  \n",
       "11567        CoreBook X          NaN           NaN  \n",
       "\n",
       "[11568 rows x 179 columns]"
      ],
      "text/html": "<div>\n<style scoped>\n    .dataframe tbody tr th:only-of-type {\n        vertical-align: middle;\n    }\n\n    .dataframe tbody tr th {\n        vertical-align: top;\n    }\n\n    .dataframe thead th {\n        text-align: right;\n    }\n</style>\n<table border=\"1\" class=\"dataframe\">\n  <thead>\n    <tr style=\"text-align: right;\">\n      <th></th>\n      <th>Unnamed: 0</th>\n      <th>name</th>\n      <th>seller</th>\n      <th>seller_link</th>\n      <th>freq_bought</th>\n      <th>freq_bought_link</th>\n      <th>link_to_all_reviews</th>\n      <th>anzahl der leuchtmittel</th>\n      <th>benötigt batterien</th>\n      <th>best sellers rank</th>\n      <th>...</th>\n      <th>modell/serie</th>\n      <th>speicher-art</th>\n      <th>is discontinued by manufacturer</th>\n      <th>produktabmessungen</th>\n      <th>hardware plattform</th>\n      <th>modellnummer</th>\n      <th>internationaler versand</th>\n      <th>item model number</th>\n      <th>manufacturer</th>\n      <th>stilrichtung</th>\n    </tr>\n  </thead>\n  <tbody>\n    <tr>\n      <th>0</th>\n      <td>0</td>\n      <td>CHUWI Herobook Pro 14.1 inch Windows 10 Intel ...</td>\n      <td>CHUWI</td>\n      <td>https://www.amazon.com/gp/help/seller/at-a-gla...</td>\n      <td>VicTsing MM057 2.4G Wireless Portable Mobile M...</td>\n      <td>https://www.amazon.com/VicTsing-Wireless-Porta...</td>\n      <td>https://www.amazon.com//CHUWI-Herobook-Pro-Not...</td>\n      <td>NaN</td>\n      <td>NaN</td>\n      <td>#4,405 in Computers &amp; Accessories ( See Top 10...</td>\n      <td>...</td>\n      <td>NaN</td>\n      <td>NaN</td>\n      <td>NaN</td>\n      <td>NaN</td>\n      <td>NaN</td>\n      <td>NaN</td>\n      <td>NaN</td>\n      <td>Herobook Pro</td>\n      <td>NaN</td>\n      <td>NaN</td>\n    </tr>\n    <tr>\n      <th>1</th>\n      <td>1</td>\n      <td>CHUWI HeroBook Pro 14.1 inch Windows 10 Laptop...</td>\n      <td>ChuwiDirect</td>\n      <td>https://www.amazon.com/gp/help/seller/at-a-gla...</td>\n      <td>VicTsing MM057 2.4G Wireless Portable Mobile M...</td>\n      <td>https://www.amazon.com/VicTsing-Wireless-Porta...</td>\n      <td>https://www.amazon.com//CHUWI-HeroBook-Pro-Not...</td>\n      <td>NaN</td>\n      <td>NaN</td>\n      <td>#1,136 in Computers &amp; Accessories ( See Top 10...</td>\n      <td>...</td>\n      <td>NaN</td>\n      <td>NaN</td>\n      <td>NaN</td>\n      <td>NaN</td>\n      <td>NaN</td>\n      <td>NaN</td>\n      <td>NaN</td>\n      <td>Herobook Pro</td>\n      <td>NaN</td>\n      <td>NaN</td>\n    </tr>\n    <tr>\n      <th>2</th>\n      <td>2</td>\n      <td>ASUS Laptop L210 Ultra Thin Laptop, 11.6” HD D...</td>\n      <td>AJay Sales</td>\n      <td>https://www.amazon.com/gp/help/seller/at-a-gla...</td>\n      <td>NaN</td>\n      <td>NaN</td>\n      <td>https://www.amazon.com//ASUS-Processor-NumberP...</td>\n      <td>NaN</td>\n      <td>NaN</td>\n      <td>#13 in Computers &amp; Accessories ( See Top 100 i...</td>\n      <td>...</td>\n      <td>NaN</td>\n      <td>NaN</td>\n      <td>NaN</td>\n      <td>NaN</td>\n      <td>NaN</td>\n      <td>NaN</td>\n      <td>NaN</td>\n      <td>L210MA-DB01</td>\n      <td>NaN</td>\n      <td>NaN</td>\n    </tr>\n    <tr>\n      <th>3</th>\n      <td>3</td>\n      <td>HP Stream 14-inch Laptop, Intel Celeron N4000,...</td>\n      <td>Kailone Tech</td>\n      <td>https://www.amazon.com/gp/help/seller/at-a-gla...</td>\n      <td>VicTsing 2.4G Slim Wireless Mouse with Nano Re...</td>\n      <td>https://www.amazon.com/VicTsing-Wireless-Recei...</td>\n      <td>https://www.amazon.com//HP-14-cb186nr-Brillian...</td>\n      <td>NaN</td>\n      <td>NaN</td>\n      <td>#992 in Computers &amp; Accessories ( See Top 100 ...</td>\n      <td>...</td>\n      <td>NaN</td>\n      <td>NaN</td>\n      <td>NaN</td>\n      <td>NaN</td>\n      <td>NaN</td>\n      <td>NaN</td>\n      <td>NaN</td>\n      <td>9MV74UA#ABA</td>\n      <td>NaN</td>\n      <td>NaN</td>\n    </tr>\n    <tr>\n      <th>4</th>\n      <td>4</td>\n      <td>Lenovo IdeaPad 3 15inch Laptop, 15.6inch HD (1...</td>\n      <td>NaN</td>\n      <td>NaN</td>\n      <td>VicTsing MM057 2.4G Wireless Portable Mobile M...</td>\n      <td>/VicTsing-Wireless-Portable-Receiver-Adjustabl...</td>\n      <td>https://www.amazon.com//Lenovo-Processor-Graph...</td>\n      <td>NaN</td>\n      <td>NaN</td>\n      <td>#205 in Computers &amp; Accessories ( See Top 100 ...</td>\n      <td>...</td>\n      <td>NaN</td>\n      <td>NaN</td>\n      <td>NaN</td>\n      <td>NaN</td>\n      <td>NaN</td>\n      <td>NaN</td>\n      <td>NaN</td>\n      <td>81W10094US</td>\n      <td>NaN</td>\n      <td>NaN</td>\n    </tr>\n    <tr>\n      <th>...</th>\n      <td>...</td>\n      <td>...</td>\n      <td>...</td>\n      <td>...</td>\n      <td>...</td>\n      <td>...</td>\n      <td>...</td>\n      <td>...</td>\n      <td>...</td>\n      <td>...</td>\n      <td>...</td>\n      <td>...</td>\n      <td>...</td>\n      <td>...</td>\n      <td>...</td>\n      <td>...</td>\n      <td>...</td>\n      <td>...</td>\n      <td>...</td>\n      <td>...</td>\n      <td>...</td>\n    </tr>\n    <tr>\n      <th>11563</th>\n      <td>11574</td>\n      <td>Schreibtisch Fan Tragbare USB-Mini Air Cooling...</td>\n      <td>Deals by Dennis Jr</td>\n      <td>https://www.amazon.com/-/de/gp/help/seller/at-...</td>\n      <td>NaN</td>\n      <td>NaN</td>\n      <td>https://www.amazon.com//-/de/Portable-Cooling-...</td>\n      <td>NaN</td>\n      <td>NaN</td>\n      <td>NaN</td>\n      <td>...</td>\n      <td>NaN</td>\n      <td>NaN</td>\n      <td>NaN</td>\n      <td>NaN</td>\n      <td>NaN</td>\n      <td>atb-OB826</td>\n      <td>NaN</td>\n      <td>NaN</td>\n      <td>NaN</td>\n      <td>NaN</td>\n    </tr>\n    <tr>\n      <th>11564</th>\n      <td>11575</td>\n      <td>[3-Pack] Webcam Cover, Camera Cover Slide, Lap...</td>\n      <td>Rukina Int</td>\n      <td>https://www.amazon.com/-/de/gp/help/seller/at-...</td>\n      <td>NaN</td>\n      <td>NaN</td>\n      <td>https://www.amazon.com//-/de/3-Pack-Laptops-Co...</td>\n      <td>NaN</td>\n      <td>NaN</td>\n      <td>NaN</td>\n      <td>...</td>\n      <td>NaN</td>\n      <td>NaN</td>\n      <td>NaN</td>\n      <td>NaN</td>\n      <td>NaN</td>\n      <td>NaN</td>\n      <td>NaN</td>\n      <td>NaN</td>\n      <td>NaN</td>\n      <td>NaN</td>\n    </tr>\n    <tr>\n      <th>11565</th>\n      <td>11576</td>\n      <td>Benfei DisplayPort auf VGA, Adapter Stecker au...</td>\n      <td>BenfeiDirect</td>\n      <td>https://www.amazon.com/-/de/gp/help/seller/at-...</td>\n      <td>Benfei DisplayPort auf VGA-Adapter, 90 cm lang...</td>\n      <td>https://www.amazon.com/-/de/dp/B082DH5K3L/ref=...</td>\n      <td>https://www.amazon.com//-/de/DisplayPort-Benfe...</td>\n      <td>NaN</td>\n      <td>NaN</td>\n      <td>NaN</td>\n      <td>...</td>\n      <td>NaN</td>\n      <td>NaN</td>\n      <td>NaN</td>\n      <td>0.39 x 0.39 x 0.39 cm</td>\n      <td>NaN</td>\n      <td>000227grey</td>\n      <td>NaN</td>\n      <td>NaN</td>\n      <td>NaN</td>\n      <td>NaN</td>\n    </tr>\n    <tr>\n      <th>11566</th>\n      <td>11577</td>\n      <td>Used Like New Ultrabook Latitude E7240 Busines...</td>\n      <td>NaN</td>\n      <td>NaN</td>\n      <td>NaN</td>\n      <td>NaN</td>\n      <td>https://www.amazon.com//Ultrabook-Latitude-Bus...</td>\n      <td>NaN</td>\n      <td>NaN</td>\n      <td>#3,381 in Computers &amp; Accessories ( See Top 10...</td>\n      <td>...</td>\n      <td>NaN</td>\n      <td>NaN</td>\n      <td>NaN</td>\n      <td>NaN</td>\n      <td>NaN</td>\n      <td>NaN</td>\n      <td>NaN</td>\n      <td>7420</td>\n      <td>NaN</td>\n      <td>NaN</td>\n    </tr>\n    <tr>\n      <th>11567</th>\n      <td>11578</td>\n      <td>CHUWI CoreBook X 14inch Laptop, Intel Core i5 ...</td>\n      <td>SmartValley</td>\n      <td>https://www.amazon.com/gp/help/seller/at-a-gla...</td>\n      <td>NaN</td>\n      <td>NaN</td>\n      <td>https://www.amazon.com//CHUWI-CoreBook-Process...</td>\n      <td>NaN</td>\n      <td>NaN</td>\n      <td>#2,976 in Computers &amp; Accessories ( See Top 10...</td>\n      <td>...</td>\n      <td>NaN</td>\n      <td>NaN</td>\n      <td>NaN</td>\n      <td>NaN</td>\n      <td>NaN</td>\n      <td>NaN</td>\n      <td>NaN</td>\n      <td>CoreBook X</td>\n      <td>NaN</td>\n      <td>NaN</td>\n    </tr>\n  </tbody>\n</table>\n<p>11568 rows × 179 columns</p>\n</div>"
     },
     "metadata": {},
     "execution_count": 22
    }
   ],
   "source": [
    "df2 = pd.read_csv(csv_filename)\n",
    "df2"
   ]
  },
  {
   "cell_type": "code",
   "execution_count": 101,
   "metadata": {},
   "outputs": [
    {
     "output_type": "execute_result",
     "data": {
      "text/plain": [
       "Empty DataFrame\n",
       "Columns: [Unnamed: 0, name, seller, seller_link, freq_bought, freq_bought_link, link_to_all_reviews, brand name, color, rating, batteries required?, best sellers rank, style, standing screen display size, hardware platform, shade color, head style, screen resolution, voltage, hard drive interface, wattage, rear webcam resolution, flash memory size, wireless type, material, colour, material type, assembled height, optical drive type, measurement system, light direction, national stock number, power source, part number, specific uses, item package quantity, specification met, expansion, operating system, average life, type of bulb, display style, cover included, release date, item dimensions  lxwxh, number of lights, contains, computer memory type, hard drive rotational speed, graphics card ram size, batteries required, switch installation type, product dimensions, number of pieces, item weight, department, pricing, is discontinued by manufacturer, package dimensions, model, memory speed, display type, included components, shade material, other display features, manufacturer, average battery life (in hours), weight, max screen resolution, chipset brand, ram, shape, color screen, item display height, item model number, finish types, is assembly required?, display technology, date first available, certification, international shipping, graphics coprocessor, warranty description, folding, processor count, number of usb 3.0 ports, plug profile, batteries included?, compatible devices, processor brand, color temperature, number of items, switch style, number of usb 2.0 ports, material care instructions, bulb features, batteries, brand, size, additional features, ...]\n",
       "Index: []\n",
       "\n",
       "[0 rows x 116 columns]"
      ],
      "text/html": "<div>\n<style scoped>\n    .dataframe tbody tr th:only-of-type {\n        vertical-align: middle;\n    }\n\n    .dataframe tbody tr th {\n        vertical-align: top;\n    }\n\n    .dataframe thead th {\n        text-align: right;\n    }\n</style>\n<table border=\"1\" class=\"dataframe\">\n  <thead>\n    <tr style=\"text-align: right;\">\n      <th></th>\n      <th>Unnamed: 0</th>\n      <th>name</th>\n      <th>seller</th>\n      <th>seller_link</th>\n      <th>freq_bought</th>\n      <th>freq_bought_link</th>\n      <th>link_to_all_reviews</th>\n      <th>brand name</th>\n      <th>color</th>\n      <th>rating</th>\n      <th>...</th>\n      <th>color name</th>\n      <th>ASIN</th>\n      <th>manufacturer part number</th>\n      <th>connectivity technologies</th>\n      <th>assembled width</th>\n      <th>special features</th>\n      <th>domestic shipping</th>\n      <th>os</th>\n      <th>assembled length</th>\n      <th>language</th>\n    </tr>\n  </thead>\n  <tbody>\n  </tbody>\n</table>\n<p>0 rows × 116 columns</p>\n</div>"
     },
     "metadata": {},
     "execution_count": 101
    }
   ],
   "source": [
    "df2[df2.rating == 0]"
   ]
  }
 ]
}