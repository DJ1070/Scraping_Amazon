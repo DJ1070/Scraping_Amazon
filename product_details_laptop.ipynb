{
 "metadata": {
  "language_info": {
   "codemirror_mode": {
    "name": "ipython",
    "version": 3
   },
   "file_extension": ".py",
   "mimetype": "text/x-python",
   "name": "python",
   "nbconvert_exporter": "python",
   "pygments_lexer": "ipython3",
   "version": "3.8.5-final"
  },
  "orig_nbformat": 2,
  "kernelspec": {
   "name": "python3",
   "display_name": "Python 3.8.5 64-bit (conda)",
   "metadata": {
    "interpreter": {
     "hash": "b3ba2566441a7c06988d0923437866b63cedc61552a5af99d1f4fb67d367b25f"
    }
   }
  }
 },
 "nbformat": 4,
 "nbformat_minor": 2,
 "cells": [
  {
   "cell_type": "code",
   "execution_count": 1,
   "metadata": {},
   "outputs": [],
   "source": [
    "import pandas as pd\n",
    "import numpy as np\n",
    "import re\n",
    "from pandas.io.json import json_normalize\n",
    "\n",
    "csv_filename = 'product_details_laptop.csv'\n",
    "csv_bought_together = 'items_bought_together_laptop.csv'\n",
    "csv_customer_reviews = 'links_to_customer_reviews_laptop.csv'\n",
    "txt_customer_reviews = 'links_to_customer_reviews_laptop.txt'"
   ]
  },
  {
   "cell_type": "code",
   "execution_count": 2,
   "metadata": {},
   "outputs": [
    {
     "output_type": "execute_result",
     "data": {
      "text/plain": [
       "                                                name  \\\n",
       "0  CHUWI HeroBook Plus 15.6 inch Windows 10 Lapto...   \n",
       "1  LG Gram Thin & Light Laptop - 17\" IPS WQXGA (2...   \n",
       "2  ASUS Laptop L210 Ultra Thin Laptop, 11.6” HD D...   \n",
       "3  Acer Nitro 5 Gaming Laptop, 10th Gen Intel Cor...   \n",
       "4  HP 15 Laptop, AMD Ryzen 3 3250U Processor, 8 G...   \n",
       "\n",
       "                                     product_summary  \\\n",
       "0  [{'info': 'Brand', 'value': 'CHUWI'}, {'info':...   \n",
       "1  [{'info': 'Brand', 'value': 'LG'}, {'info': 'S...   \n",
       "2  [{'info': 'Brand', 'value': 'ASUS'}, {'info': ...   \n",
       "3  [{'info': 'Brand', 'value': 'Acer'}, {'info': ...   \n",
       "4  [{'info': 'Brand', 'value': 'HP'}, {'info': 'S...   \n",
       "\n",
       "                                   product_tech_spec  \\\n",
       "0  [{'info': 'Standing screen display size', 'val...   \n",
       "1  [{'info': 'Standing screen display size', 'val...   \n",
       "2  [{'info': 'Standing screen display size', 'val...   \n",
       "3  [{'info': 'Standing screen display size', 'val...   \n",
       "4  [{'info': 'Standing screen display size', 'val...   \n",
       "\n",
       "                                   product_addl_info       seller  \\\n",
       "0  [{'info': 'ASIN', 'value': 'B08HZ4KWJW'}, {'in...  ChuwiDirect   \n",
       "1  [{'info': 'ASIN', 'value': 'B08SW1LTST'}, {'in...         None   \n",
       "2  [{'info': 'ASIN', 'value': 'B081V6W99V'}, {'in...         None   \n",
       "3  [{'info': 'ASIN', 'value': 'B08H2H89K1'}, {'in...         None   \n",
       "4  [{'info': 'ASIN', 'value': 'B08N38VPL7'}, {'in...         None   \n",
       "\n",
       "                                         seller_link  \\\n",
       "0  https://www.amazon.com/gp/help/seller/at-a-gla...   \n",
       "1                                               None   \n",
       "2                                               None   \n",
       "3                                               None   \n",
       "4                                               None   \n",
       "\n",
       "                                         freq_bought  \\\n",
       "0                                               None   \n",
       "1                                               None   \n",
       "2                                               None   \n",
       "3  VicTsing Mouse Pad with Stitched Edge, Premium...   \n",
       "4                                               None   \n",
       "\n",
       "                                    freq_bought_link  \\\n",
       "0                                               None   \n",
       "1                                               None   \n",
       "2                                               None   \n",
       "3  /VicTsing-Stitched-Premium-Textured-Non-Slip-1...   \n",
       "4                                               None   \n",
       "\n",
       "                                 link_to_all_reviews  \n",
       "0  /CHUWI-HeroBook-Plus-Computer-Ethernet/product...  \n",
       "1                                               None  \n",
       "2  /ASUS-Processor-NumberPad-Microsoft-L210MA-DB0...  \n",
       "3  /Acer-i5-10300H-GeForce-Keyboard-AN515-55-59KS...  \n",
       "4  /HP-Processor-Micro-Edge-Long-Lasting-15-ef102...  "
      ],
      "text/html": "<div>\n<style scoped>\n    .dataframe tbody tr th:only-of-type {\n        vertical-align: middle;\n    }\n\n    .dataframe tbody tr th {\n        vertical-align: top;\n    }\n\n    .dataframe thead th {\n        text-align: right;\n    }\n</style>\n<table border=\"1\" class=\"dataframe\">\n  <thead>\n    <tr style=\"text-align: right;\">\n      <th></th>\n      <th>name</th>\n      <th>product_summary</th>\n      <th>product_tech_spec</th>\n      <th>product_addl_info</th>\n      <th>seller</th>\n      <th>seller_link</th>\n      <th>freq_bought</th>\n      <th>freq_bought_link</th>\n      <th>link_to_all_reviews</th>\n    </tr>\n  </thead>\n  <tbody>\n    <tr>\n      <th>0</th>\n      <td>CHUWI HeroBook Plus 15.6 inch Windows 10 Lapto...</td>\n      <td>[{'info': 'Brand', 'value': 'CHUWI'}, {'info':...</td>\n      <td>[{'info': 'Standing screen display size', 'val...</td>\n      <td>[{'info': 'ASIN', 'value': 'B08HZ4KWJW'}, {'in...</td>\n      <td>ChuwiDirect</td>\n      <td>https://www.amazon.com/gp/help/seller/at-a-gla...</td>\n      <td>None</td>\n      <td>None</td>\n      <td>/CHUWI-HeroBook-Plus-Computer-Ethernet/product...</td>\n    </tr>\n    <tr>\n      <th>1</th>\n      <td>LG Gram Thin &amp; Light Laptop - 17\" IPS WQXGA (2...</td>\n      <td>[{'info': 'Brand', 'value': 'LG'}, {'info': 'S...</td>\n      <td>[{'info': 'Standing screen display size', 'val...</td>\n      <td>[{'info': 'ASIN', 'value': 'B08SW1LTST'}, {'in...</td>\n      <td>None</td>\n      <td>None</td>\n      <td>None</td>\n      <td>None</td>\n      <td>None</td>\n    </tr>\n    <tr>\n      <th>2</th>\n      <td>ASUS Laptop L210 Ultra Thin Laptop, 11.6” HD D...</td>\n      <td>[{'info': 'Brand', 'value': 'ASUS'}, {'info': ...</td>\n      <td>[{'info': 'Standing screen display size', 'val...</td>\n      <td>[{'info': 'ASIN', 'value': 'B081V6W99V'}, {'in...</td>\n      <td>None</td>\n      <td>None</td>\n      <td>None</td>\n      <td>None</td>\n      <td>/ASUS-Processor-NumberPad-Microsoft-L210MA-DB0...</td>\n    </tr>\n    <tr>\n      <th>3</th>\n      <td>Acer Nitro 5 Gaming Laptop, 10th Gen Intel Cor...</td>\n      <td>[{'info': 'Brand', 'value': 'Acer'}, {'info': ...</td>\n      <td>[{'info': 'Standing screen display size', 'val...</td>\n      <td>[{'info': 'ASIN', 'value': 'B08H2H89K1'}, {'in...</td>\n      <td>None</td>\n      <td>None</td>\n      <td>VicTsing Mouse Pad with Stitched Edge, Premium...</td>\n      <td>/VicTsing-Stitched-Premium-Textured-Non-Slip-1...</td>\n      <td>/Acer-i5-10300H-GeForce-Keyboard-AN515-55-59KS...</td>\n    </tr>\n    <tr>\n      <th>4</th>\n      <td>HP 15 Laptop, AMD Ryzen 3 3250U Processor, 8 G...</td>\n      <td>[{'info': 'Brand', 'value': 'HP'}, {'info': 'S...</td>\n      <td>[{'info': 'Standing screen display size', 'val...</td>\n      <td>[{'info': 'ASIN', 'value': 'B08N38VPL7'}, {'in...</td>\n      <td>None</td>\n      <td>None</td>\n      <td>None</td>\n      <td>None</td>\n      <td>/HP-Processor-Micro-Edge-Long-Lasting-15-ef102...</td>\n    </tr>\n  </tbody>\n</table>\n</div>"
     },
     "metadata": {},
     "execution_count": 2
    }
   ],
   "source": [
    "df = pd.read_json('laptop_product_output.jsonl')\n",
    "df.head()"
   ]
  },
  {
   "cell_type": "code",
   "execution_count": 44,
   "metadata": {},
   "outputs": [],
   "source": [
    "df.name = df.name.str.replace('\"','inch')"
   ]
  },
  {
   "cell_type": "code",
   "execution_count": 3,
   "metadata": {},
   "outputs": [],
   "source": [
    "df = df.dropna(axis=0, how='all')"
   ]
  },
  {
   "cell_type": "code",
   "execution_count": 4,
   "metadata": {},
   "outputs": [],
   "source": [
    "df.link_to_all_reviews = 'https://www.amazon.com/' + df.link_to_all_reviews"
   ]
  },
  {
   "cell_type": "code",
   "execution_count": 5,
   "metadata": {},
   "outputs": [],
   "source": [
    "df.reset_index(drop=True, inplace = True)"
   ]
  },
  {
   "cell_type": "code",
   "execution_count": 6,
   "metadata": {},
   "outputs": [],
   "source": [
    "# Extraction of all specifications in nested JSON-dicts to be used for building additional columns \n",
    "  \n",
    "new_columns = []\n",
    "for i in range(len(df)):\n",
    "    if df.product_summary[i] is not None:\n",
    "        product_sum = df.product_summary[i]\n",
    "        x = len(product_sum)  \n",
    "        for j in range(x):\n",
    "            new_columns.append(product_sum[j]['info'])\n",
    "    if df.product_tech_spec[i] is not None:\n",
    "        product_tech = df.product_tech_spec[i]\n",
    "        y = len(product_tech)  \n",
    "        for j in range(y):\n",
    "            new_columns.append(product_tech[j]['info'])\n",
    "    if df.product_addl_info[i] is not None:\n",
    "        product_add = df.product_addl_info[i]\n",
    "        z = len(product_add)  \n",
    "        for j in range(z):\n",
    "            new_columns.append(product_add[j]['info'])"
   ]
  },
  {
   "cell_type": "code",
   "execution_count": 7,
   "metadata": {},
   "outputs": [],
   "source": [
    "for i in range(len(new_columns)):\n",
    "    if new_columns[i] is not None:\n",
    "        new_columns[i] = new_columns[i].lower()\n",
    "new_columns = set(new_columns) "
   ]
  },
  {
   "cell_type": "code",
   "execution_count": 8,
   "metadata": {},
   "outputs": [],
   "source": [
    "new_columns = list(new_columns)"
   ]
  },
  {
   "cell_type": "code",
   "execution_count": 16,
   "metadata": {},
   "outputs": [],
   "source": [
    "try:\n",
    "    new_columns.remove(None)\n",
    "except:\n",
    "    pass"
   ]
  },
  {
   "cell_type": "code",
   "execution_count": 17,
   "metadata": {},
   "outputs": [],
   "source": [
    "for i in new_columns:\n",
    "    df[i] = i\n",
    "    df[i] = ''"
   ]
  },
  {
   "cell_type": "code",
   "execution_count": 18,
   "metadata": {},
   "outputs": [],
   "source": [
    "new_columns.sort()"
   ]
  },
  {
   "cell_type": "code",
   "execution_count": 24,
   "metadata": {},
   "outputs": [
    {
     "output_type": "execute_result",
     "data": {
      "text/plain": [
       "93"
      ]
     },
     "metadata": {},
     "execution_count": 24
    }
   ],
   "source": [
    "len(new_columns)"
   ]
  },
  {
   "cell_type": "code",
   "execution_count": 25,
   "metadata": {},
   "outputs": [],
   "source": [
    "for i in range(len(df)):\n",
    "    if df.product_summary[i] is not None:\n",
    "        psc = []\n",
    "        product_sum = df.product_summary[i]\n",
    "        product_sum = pd.DataFrame(product_sum)\n",
    "        product_sum = product_sum.transpose()\n",
    "        psc_len = len(product_sum.columns)  # collecting number of columns in product_sum / items in df.product_summary\n",
    "        for j in range(psc_len):            # getting item / column names\n",
    "            psc.append(product_sum[j][0])\n",
    "        for k in range(len(psc)):           # setting item / column names in lower cases for transfer of values into correct df columns\n",
    "            if psc[k] is not None:\n",
    "                psc[k] = psc[k].lower()\n",
    "        product_sum.columns = product_sum.iloc[0] # Turns row 1 into column names\n",
    "        product_sum = product_sum.drop('info') # Drops row 1\n",
    "        product_sum.columns = psc\n",
    "        for l in psc: \n",
    "            try:\n",
    "                df[l][i] = product_sum[l]['value']\n",
    "            except:\n",
    "                continue\n",
    "    if df.product_tech_spec[i] is not None:\n",
    "        ptc = []\n",
    "        product_tec = df.product_tech_spec[i]\n",
    "        product_tec = pd.DataFrame(product_tec)\n",
    "        product_tec = product_tec.transpose()\n",
    "        ptc_len = len(product_tec.columns)  # collecting number of columns in product_tec / items in df.product_tech_spec\n",
    "        for j in range(ptc_len):            # getting item / column names\n",
    "            ptc.append(product_tec[j][0])\n",
    "        for k in range(len(ptc)):           # setting item / column names in lower cases for transfer of values into correct df columns\n",
    "            if ptc[k] is not None:\n",
    "                ptc[k] = ptc[k].lower()\n",
    "        product_tec.columns = product_tec.iloc[0] # Turns row 1 into column names\n",
    "        product_tec = product_tec.drop('info') # Drops row 1\n",
    "        product_tec.columns = ptc\n",
    "        for l in ptc:   ## What does this loop through??? I need the column name, but I have to stay within one row!!!\n",
    "            try:\n",
    "                df[l][i] = product_tec[l]['value']\n",
    "            except:\n",
    "                continue\n",
    "    if df.product_addl_info[i] is not None:\n",
    "        pac = []\n",
    "        product_add = df.product_addl_info[i]\n",
    "        product_add = pd.DataFrame(product_add)\n",
    "        product_add = product_add.transpose()\n",
    "        pac_len = len(product_add.columns)  # collecting number of columns in product_tec / items in df.product_tech_spec\n",
    "        for j in range(pac_len):            # getting item / column names\n",
    "            pac.append(product_add[j][0])\n",
    "        for k in range(len(pac)):           # setting item / column names in lower cases for transfer of values into correct df columns\n",
    "            if pac[k] is not None:\n",
    "                pac[k] = pac[k].lower()\n",
    "        product_add.columns = product_add.iloc[0] # Turns row 1 into column names\n",
    "        product_add = product_add.drop('info') # Drops row 1\n",
    "        product_add.columns = pac\n",
    "        for l in pac:   ## What does this loop through??? I need the column name, but I have to stay within one row!!!\n",
    "            try:\n",
    "                df[l][i] = product_add[l]['value']\n",
    "            except:\n",
    "                continue"
   ]
  },
  {
   "cell_type": "code",
   "execution_count": 26,
   "metadata": {},
   "outputs": [],
   "source": [
    "df.rename(columns = {'asin' : 'ASIN'}, inplace = True)"
   ]
  },
  {
   "cell_type": "code",
   "execution_count": 29,
   "metadata": {},
   "outputs": [],
   "source": [
    "df['customer reviews'] = df['customer reviews'].str.split('{\\ntext-decoration: none;\\n} ').str[1]\n",
    "# df['customer reviews'] = df['customer reviews'].str.split(' out of 5 stars').str[0]\n",
    "# df['customer reviews'] = df['customer reviews'].str.split(' von 5 Sternen').str[0]\n",
    "\n",
    "# df['ASIN'] = df.url.str.split('/dp/').str[-1]\n",
    "# df['ASIN'] = df.ASIN.str.split('%2Fdp%2F').str[-1]\n",
    "# df['ASIN'] = df.ASIN.str.split('/').str[0]\n",
    "# df['ASIN'] = df.ASIN.str.split('%2F').str[0]"
   ]
  },
  {
   "cell_type": "code",
   "execution_count": 33,
   "metadata": {},
   "outputs": [
    {
     "output_type": "error",
     "ename": "KeyError",
     "evalue": "'customer reviews'",
     "traceback": [
      "\u001b[1;31m---------------------------------------------------------------------------\u001b[0m",
      "\u001b[1;31mKeyError\u001b[0m                                  Traceback (most recent call last)",
      "\u001b[1;32mC:\\ProgramData\\Anaconda3\\lib\\site-packages\\pandas\\core\\indexes\\base.py\u001b[0m in \u001b[0;36mget_loc\u001b[1;34m(self, key, method, tolerance)\u001b[0m\n\u001b[0;32m   2894\u001b[0m             \u001b[1;32mtry\u001b[0m\u001b[1;33m:\u001b[0m\u001b[1;33m\u001b[0m\u001b[1;33m\u001b[0m\u001b[0m\n\u001b[1;32m-> 2895\u001b[1;33m                 \u001b[1;32mreturn\u001b[0m \u001b[0mself\u001b[0m\u001b[1;33m.\u001b[0m\u001b[0m_engine\u001b[0m\u001b[1;33m.\u001b[0m\u001b[0mget_loc\u001b[0m\u001b[1;33m(\u001b[0m\u001b[0mcasted_key\u001b[0m\u001b[1;33m)\u001b[0m\u001b[1;33m\u001b[0m\u001b[1;33m\u001b[0m\u001b[0m\n\u001b[0m\u001b[0;32m   2896\u001b[0m             \u001b[1;32mexcept\u001b[0m \u001b[0mKeyError\u001b[0m \u001b[1;32mas\u001b[0m \u001b[0merr\u001b[0m\u001b[1;33m:\u001b[0m\u001b[1;33m\u001b[0m\u001b[1;33m\u001b[0m\u001b[0m\n",
      "\u001b[1;32mpandas\\_libs\\index.pyx\u001b[0m in \u001b[0;36mpandas._libs.index.IndexEngine.get_loc\u001b[1;34m()\u001b[0m\n",
      "\u001b[1;32mpandas\\_libs\\index.pyx\u001b[0m in \u001b[0;36mpandas._libs.index.IndexEngine.get_loc\u001b[1;34m()\u001b[0m\n",
      "\u001b[1;32mpandas\\_libs\\hashtable_class_helper.pxi\u001b[0m in \u001b[0;36mpandas._libs.hashtable.PyObjectHashTable.get_item\u001b[1;34m()\u001b[0m\n",
      "\u001b[1;32mpandas\\_libs\\hashtable_class_helper.pxi\u001b[0m in \u001b[0;36mpandas._libs.hashtable.PyObjectHashTable.get_item\u001b[1;34m()\u001b[0m\n",
      "\u001b[1;31mKeyError\u001b[0m: 'customer reviews'",
      "\nThe above exception was the direct cause of the following exception:\n",
      "\u001b[1;31mKeyError\u001b[0m                                  Traceback (most recent call last)",
      "\u001b[1;32m<ipython-input-33-0d5c71902c96>\u001b[0m in \u001b[0;36m<module>\u001b[1;34m\u001b[0m\n\u001b[0;32m      1\u001b[0m \u001b[0mpd\u001b[0m\u001b[1;33m.\u001b[0m\u001b[0moptions\u001b[0m\u001b[1;33m.\u001b[0m\u001b[0mdisplay\u001b[0m\u001b[1;33m.\u001b[0m\u001b[0mmax_colwidth\u001b[0m \u001b[1;33m=\u001b[0m \u001b[1;36m500\u001b[0m\u001b[1;33m\u001b[0m\u001b[1;33m\u001b[0m\u001b[0m\n\u001b[1;32m----> 2\u001b[1;33m \u001b[0mdf\u001b[0m\u001b[1;33m[\u001b[0m\u001b[1;34m'customer reviews'\u001b[0m\u001b[1;33m]\u001b[0m\u001b[1;33m\u001b[0m\u001b[1;33m\u001b[0m\u001b[0m\n\u001b[0m",
      "\u001b[1;32mC:\\ProgramData\\Anaconda3\\lib\\site-packages\\pandas\\core\\frame.py\u001b[0m in \u001b[0;36m__getitem__\u001b[1;34m(self, key)\u001b[0m\n\u001b[0;32m   2900\u001b[0m             \u001b[1;32mif\u001b[0m \u001b[0mself\u001b[0m\u001b[1;33m.\u001b[0m\u001b[0mcolumns\u001b[0m\u001b[1;33m.\u001b[0m\u001b[0mnlevels\u001b[0m \u001b[1;33m>\u001b[0m \u001b[1;36m1\u001b[0m\u001b[1;33m:\u001b[0m\u001b[1;33m\u001b[0m\u001b[1;33m\u001b[0m\u001b[0m\n\u001b[0;32m   2901\u001b[0m                 \u001b[1;32mreturn\u001b[0m \u001b[0mself\u001b[0m\u001b[1;33m.\u001b[0m\u001b[0m_getitem_multilevel\u001b[0m\u001b[1;33m(\u001b[0m\u001b[0mkey\u001b[0m\u001b[1;33m)\u001b[0m\u001b[1;33m\u001b[0m\u001b[1;33m\u001b[0m\u001b[0m\n\u001b[1;32m-> 2902\u001b[1;33m             \u001b[0mindexer\u001b[0m \u001b[1;33m=\u001b[0m \u001b[0mself\u001b[0m\u001b[1;33m.\u001b[0m\u001b[0mcolumns\u001b[0m\u001b[1;33m.\u001b[0m\u001b[0mget_loc\u001b[0m\u001b[1;33m(\u001b[0m\u001b[0mkey\u001b[0m\u001b[1;33m)\u001b[0m\u001b[1;33m\u001b[0m\u001b[1;33m\u001b[0m\u001b[0m\n\u001b[0m\u001b[0;32m   2903\u001b[0m             \u001b[1;32mif\u001b[0m \u001b[0mis_integer\u001b[0m\u001b[1;33m(\u001b[0m\u001b[0mindexer\u001b[0m\u001b[1;33m)\u001b[0m\u001b[1;33m:\u001b[0m\u001b[1;33m\u001b[0m\u001b[1;33m\u001b[0m\u001b[0m\n\u001b[0;32m   2904\u001b[0m                 \u001b[0mindexer\u001b[0m \u001b[1;33m=\u001b[0m \u001b[1;33m[\u001b[0m\u001b[0mindexer\u001b[0m\u001b[1;33m]\u001b[0m\u001b[1;33m\u001b[0m\u001b[1;33m\u001b[0m\u001b[0m\n",
      "\u001b[1;32mC:\\ProgramData\\Anaconda3\\lib\\site-packages\\pandas\\core\\indexes\\base.py\u001b[0m in \u001b[0;36mget_loc\u001b[1;34m(self, key, method, tolerance)\u001b[0m\n\u001b[0;32m   2895\u001b[0m                 \u001b[1;32mreturn\u001b[0m \u001b[0mself\u001b[0m\u001b[1;33m.\u001b[0m\u001b[0m_engine\u001b[0m\u001b[1;33m.\u001b[0m\u001b[0mget_loc\u001b[0m\u001b[1;33m(\u001b[0m\u001b[0mcasted_key\u001b[0m\u001b[1;33m)\u001b[0m\u001b[1;33m\u001b[0m\u001b[1;33m\u001b[0m\u001b[0m\n\u001b[0;32m   2896\u001b[0m             \u001b[1;32mexcept\u001b[0m \u001b[0mKeyError\u001b[0m \u001b[1;32mas\u001b[0m \u001b[0merr\u001b[0m\u001b[1;33m:\u001b[0m\u001b[1;33m\u001b[0m\u001b[1;33m\u001b[0m\u001b[0m\n\u001b[1;32m-> 2897\u001b[1;33m                 \u001b[1;32mraise\u001b[0m \u001b[0mKeyError\u001b[0m\u001b[1;33m(\u001b[0m\u001b[0mkey\u001b[0m\u001b[1;33m)\u001b[0m \u001b[1;32mfrom\u001b[0m \u001b[0merr\u001b[0m\u001b[1;33m\u001b[0m\u001b[1;33m\u001b[0m\u001b[0m\n\u001b[0m\u001b[0;32m   2898\u001b[0m \u001b[1;33m\u001b[0m\u001b[0m\n\u001b[0;32m   2899\u001b[0m         \u001b[1;32mif\u001b[0m \u001b[0mtolerance\u001b[0m \u001b[1;32mis\u001b[0m \u001b[1;32mnot\u001b[0m \u001b[1;32mNone\u001b[0m\u001b[1;33m:\u001b[0m\u001b[1;33m\u001b[0m\u001b[1;33m\u001b[0m\u001b[0m\n",
      "\u001b[1;31mKeyError\u001b[0m: 'customer reviews'"
     ]
    }
   ],
   "source": [
    "pd.options.display.max_colwidth = 500\n",
    "df['customer reviews']"
   ]
  },
  {
   "cell_type": "code",
   "execution_count": 31,
   "metadata": {},
   "outputs": [],
   "source": [
    "for i in range(len(df)):\n",
    "    if df['customer reviews'][i] is not None:\n",
    "        try:\n",
    "            res = [re.findall(r'(\\d+).(\\d+) out of 5 stars', df['customer reviews'][i])[0] ]\n",
    "            a = res[0][0]\n",
    "            b = res[0][1]\n",
    "            c = float(a+'.'+b)\n",
    "            df['customer reviews'][i] = c\n",
    "        except:\n",
    "            pass\n",
    "    else:\n",
    "        df['customer reviews'][i] = 0\n",
    "df.rename(columns = {'customer reviews' : 'rating'}, inplace = True)"
   ]
  },
  {
   "cell_type": "code",
   "execution_count": 34,
   "metadata": {},
   "outputs": [
    {
     "output_type": "execute_result",
     "data": {
      "text/plain": [
       "0       3.4\n",
       "1       NaN\n",
       "2       4.3\n",
       "3       4.6\n",
       "4       4.7\n",
       "       ... \n",
       "3580    4.4\n",
       "3581    4.4\n",
       "3582    4.5\n",
       "3583    4.6\n",
       "3584    4.3\n",
       "Name: rating, Length: 3585, dtype: object"
      ]
     },
     "metadata": {},
     "execution_count": 34
    }
   ],
   "source": [
    "df.rating"
   ]
  },
  {
   "cell_type": "code",
   "execution_count": 35,
   "metadata": {},
   "outputs": [],
   "source": [
    "df = df.drop(['product_summary', 'product_tech_spec', 'product_addl_info'], axis = 1)"
   ]
  },
  {
   "cell_type": "code",
   "execution_count": 36,
   "metadata": {},
   "outputs": [],
   "source": [
    "for i in range(len(df)):\n",
    "    if df.name[i] is None:\n",
    "        df = df.drop([i], axis = 0)"
   ]
  },
  {
   "cell_type": "code",
   "execution_count": 37,
   "metadata": {},
   "outputs": [],
   "source": [
    "# Creating dataframe with links to all customer reviews for saving in additional CSV-file\n",
    "\n",
    "df_laptop_customer_reviews_link = df.link_to_all_reviews\n",
    "df_laptop_customer_reviews_link = df_laptop_customer_reviews_link.dropna()\n",
    "df_laptop_customer_reviews_link.reset_index(drop=True, inplace = True)"
   ]
  },
  {
   "cell_type": "code",
   "execution_count": 38,
   "metadata": {},
   "outputs": [],
   "source": [
    "df_laptop_bought_together = df[['ASIN', 'name', 'freq_bought', 'freq_bought_link']]"
   ]
  },
  {
   "cell_type": "code",
   "execution_count": 47,
   "metadata": {},
   "outputs": [],
   "source": [
    "df.to_csv(csv_filename)\n",
    "#df.to_csv(csv_filename, sep=';')\n",
    "df_laptop_customer_reviews_link.to_csv(csv_customer_reviews) # actually not necessary anymore since there's being a txt-file created\n",
    "df_laptop_bought_together.to_csv(csv_bought_together)"
   ]
  },
  {
   "cell_type": "code",
   "execution_count": 40,
   "metadata": {},
   "outputs": [],
   "source": [
    "f = open(txt_customer_reviews, 'w+')\n",
    "\n",
    "for i in range(len(df_laptop_customer_reviews_link)):\n",
    "    f.write(df_laptop_customer_reviews_link[i])\n",
    "    f.write('\\n')\n",
    "\n",
    "f.close()"
   ]
  },
  {
   "cell_type": "code",
   "execution_count": 41,
   "metadata": {},
   "outputs": [
    {
     "output_type": "execute_result",
     "data": {
      "text/plain": [
       "      Unnamed: 0  \\\n",
       "0              0   \n",
       "1              1   \n",
       "2              2   \n",
       "3              3   \n",
       "4              4   \n",
       "...          ...   \n",
       "3577        3580   \n",
       "3578        3581   \n",
       "3579        3582   \n",
       "3580        3583   \n",
       "3581        3584   \n",
       "\n",
       "                                                                                                                                                                                                       name  \\\n",
       "0                                         CHUWI HeroBook Plus 15.6 inch Windows 10 Laptop, 1080P Laptop Computer with Intel J4125 and 12GB RAM / 256GB SSD, Support RJ45 Gigabit Ethernet, BT5.1, Dual WiFi   \n",
       "1         LG Gram Thin & Light Laptop - 17\" IPS WQXGA (2560 x 1600), 11th Gen Intel Core i7 1165G7 CPU, Intel Iris Xe Graphics, 16GB RAM, 1TB NVMe SSD, 19.5 Hour Battery, - 17Z90P-K.AAB8U1 - Black (2021)   \n",
       "2     ASUS Laptop L210 Ultra Thin Laptop, 11.6” HD Display, Intel Celeron N4020 Processor, 4GB RAM, 64GB Storage, NumberPad, Windows 10 Home in S Mode with One Year of Microsoft 365 Personal, L210MA-DB01   \n",
       "3         Acer Nitro 5 Gaming Laptop, 10th Gen Intel Core i5-10300H,NVIDIA GeForce GTX 1650 Ti, 15.6\" Full HD IPS 144Hz Display, 8GB DDR4,256GB NVMe SSD,WiFi 6, DTS X Ultra,Backlit Keyboard,AN515-55-59KS   \n",
       "4          HP 15 Laptop, AMD Ryzen 3 3250U Processor, 8 GB RAM, 256 GB SSD Storage, 15.6-inch HD Micro-Edge Display, Windows 10 Home, Long-Lasting Battery, HP Fast Charge, 720p Webcam (15-ef1021nr, 2020)   \n",
       "...                                                                                                                                                                                                     ...   \n",
       "3577                                                                     100Pcs Band Stickers Pack Rock Roll Stickers Decals Laptop Cars Guitar Bumper Punk Classic Vinyl Waterproof Graffiti Music Sticker   \n",
       "3578                                                                                                                                               Microsoft Surface Go (Intel Pentium Gold, 4GB RAM, 64GB)   \n",
       "3579                                                   Laptop Stand, Vansky Adjustable Height Ergonomic Laptop Holder Compatible with MacBook Dell HP Acer Notebook 10-17.3\" Computer Stand for Desk Bed DJ   \n",
       "3580                                                      TABcare Locking Anti-Theft Metal Case for Samsung Galaxy TAB A7 10.4\" Tablet for Kiosk, POS, Store, Show Display, Time Clock (TAB A7 10.4, Black)   \n",
       "3581           14''W Inch Anti Blue Light Screen Protector for Widescreen Laptop - Upgrade Laptop Screen Protector Filter Out Blue Light Relief with Aspect Ratio 16:9 - Reduce Eye Fatigue Strain (2 Pack)   \n",
       "\n",
       "                seller  \\\n",
       "0          ChuwiDirect   \n",
       "1                  NaN   \n",
       "2                  NaN   \n",
       "3                  NaN   \n",
       "4                  NaN   \n",
       "...                ...   \n",
       "3577         Amdi Rouu   \n",
       "3578               NaN   \n",
       "3579  Vanskytek Direct   \n",
       "3580           TABcare   \n",
       "3581           MokDelg   \n",
       "\n",
       "                                                                                                                        seller_link  \\\n",
       "0     https://www.amazon.com/gp/help/seller/at-a-glance.html/ref=dp_merchant_link?ie=UTF8&seller=A33LF4MGG0Q0UV&isAmazonFulfilled=1   \n",
       "1                                                                                                                               NaN   \n",
       "2                                                                                                                               NaN   \n",
       "3                                                                                                                               NaN   \n",
       "4                                                                                                                               NaN   \n",
       "...                                                                                                                             ...   \n",
       "3577  https://www.amazon.com/gp/help/seller/at-a-glance.html/ref=dp_merchant_link?ie=UTF8&seller=A17FP619EZACVL&isAmazonFulfilled=1   \n",
       "3578                                                                                                                            NaN   \n",
       "3579  https://www.amazon.com/gp/help/seller/at-a-glance.html/ref=dp_merchant_link?ie=UTF8&seller=A2UVTQA9DMW37E&isAmazonFulfilled=1   \n",
       "3580  https://www.amazon.com/gp/help/seller/at-a-glance.html/ref=dp_merchant_link?ie=UTF8&seller=A1GNCZX833Y9DU&isAmazonFulfilled=1   \n",
       "3581  https://www.amazon.com/gp/help/seller/at-a-glance.html/ref=dp_merchant_link?ie=UTF8&seller=A2LADTOG5HBOFM&isAmazonFulfilled=1   \n",
       "\n",
       "                                                                                                freq_bought  \\\n",
       "0                                                                                                       NaN   \n",
       "1                                                                                                       NaN   \n",
       "2                                                                                                       NaN   \n",
       "3     VicTsing Mouse Pad with Stitched Edge, Premium-Textured Mouse Mat, Non-Slip Rubber Base Mousepad for…   \n",
       "4                                                                                                       NaN   \n",
       "...                                                                                                     ...   \n",
       "3577  Rock Band Music Vinyl Stickers Pack 50pcs, Black and White Stickers Decals Laptop Cars Guitar Bumper…   \n",
       "3578                                                                Microsoft Surface Go Type Cover (Black)   \n",
       "3579    Anker 4-Port USB 3.0 Hub, Ultra-Slim Data USB Hub with 2 ft Extended Cable [Charging Not Supported…   \n",
       "3580                                          Samsung Galaxy Tab A7 10.4 Wi-Fi 32GB Silver (SM-T500NZSAXAR)   \n",
       "3581                                                                                                    NaN   \n",
       "\n",
       "                                                                                                                                                                                                                                                                                                                                  freq_bought_link  \\\n",
       "0                                                                                                                                                                                                                                                                                                                                              NaN   \n",
       "1                                                                                                                                                                                                                                                                                                                                              NaN   \n",
       "2                                                                                                                                                                                                                                                                                                                                              NaN   \n",
       "3     /VicTsing-Stitched-Premium-Textured-Non-Slip-10-2%C3%978-3%C3%970-08/dp/B075WW7V6W/ref=pd_bxgy_2/131-0207570-2629776?_encoding=UTF8&pd_rd_i=B075WW7V6W&pd_rd_r=893c1d12-7777-49b0-98bb-9e1986776c22&pd_rd_w=7umrO&pd_rd_wg=qrUoG&pf_rd_p=f325d01c-4658-4593-be83-3e12ca663f0e&pf_rd_r=490AC3WY0QBY0FNXM175&psc=1&refRID=490AC3WY0QBY0FNXM175   \n",
       "4                                                                                                                                                                                                                                                                                                                                              NaN   \n",
       "...                                                                                                                                                                                                                                                                                                                                            ...   \n",
       "3577    https://www.amazon.com/Stickers-Decals-Classic-Waterproof-Graffiti/dp/B083YY2J63/ref=pd_bxgy_2/145-9855460-2861356?_encoding=UTF8&pd_rd_i=B083YY2J63&pd_rd_r=ca5f59cc-06bb-42fc-a3d6-bcafc8a2b42e&pd_rd_w=6m9BA&pd_rd_wg=HJ6zi&pf_rd_p=f325d01c-4658-4593-be83-3e12ca663f0e&pf_rd_r=4CV4NQNA71QJH9N5WZ08&psc=1&refRID=4CV4NQNA71QJH9N5WZ08   \n",
       "3578                                   /Microsoft-Surface-Type-Cover-Black/dp/B07FDHK5NW/ref=pd_bxgy_2/134-0598617-7085429?_encoding=UTF8&pd_rd_i=B07FDHK5NW&pd_rd_r=958cedd1-5707-4045-8fac-9b2711a20888&pd_rd_w=fiFUF&pd_rd_wg=eN2Bg&pf_rd_p=f325d01c-4658-4593-be83-3e12ca663f0e&pf_rd_r=HN9SQ5YQ06BWPXQNSGGH&psc=1&refRID=HN9SQ5YQ06BWPXQNSGGH   \n",
       "3579        https://www.amazon.com/Anker-Extended-MacBook-Surface-Notebook/dp/B07L32B9C2/ref=pd_bxgy_2/142-6130428-7760450?_encoding=UTF8&pd_rd_i=B07L32B9C2&pd_rd_r=50b2a5d6-431d-4588-8fa3-7a3114620ab6&pd_rd_w=RZYgA&pd_rd_wg=puxs5&pf_rd_p=f325d01c-4658-4593-be83-3e12ca663f0e&pf_rd_r=Y12XRVRDXEQRA2KH3624&psc=1&refRID=Y12XRVRDXEQRA2KH3624   \n",
       "3580     https://www.amazon.com/Samsung-Galaxy-Wi-Fi-Silver-SM-T500NZSAXAR/dp/B08GHVSGMQ/ref=pd_bxgy_2/144-4669993-3123824?_encoding=UTF8&pd_rd_i=B08GHVSGMQ&pd_rd_r=478df1c7-8a52-4bd2-a1bb-149917f820f6&pd_rd_w=HCGEk&pd_rd_wg=8qoEX&pf_rd_p=f325d01c-4658-4593-be83-3e12ca663f0e&pf_rd_r=PTPCM473MKVF4HGGEB19&psc=1&refRID=PTPCM473MKVF4HGGEB19   \n",
       "3581                                                                                                                                                                                                                                                                                                                                           NaN   \n",
       "\n",
       "                                                                                                                                                   link_to_all_reviews  \\\n",
       "0                https://www.amazon.com//CHUWI-HeroBook-Plus-Computer-Ethernet/product-reviews/B08HZ4KWJW/ref=cm_cr_dp_d_show_all_btm?ie=UTF8&reviewerType=all_reviews   \n",
       "1                                                                                                                                                                  NaN   \n",
       "2       https://www.amazon.com//ASUS-Processor-NumberPad-Microsoft-L210MA-DB01/product-reviews/B081V6W99V/ref=cm_cr_dp_d_show_all_btm?ie=UTF8&reviewerType=all_reviews   \n",
       "3        https://www.amazon.com//Acer-i5-10300H-GeForce-Keyboard-AN515-55-59KS/product-reviews/B08H2H89K1/ref=cm_cr_dp_d_show_all_btm?ie=UTF8&reviewerType=all_reviews   \n",
       "4     https://www.amazon.com//HP-Processor-Micro-Edge-Long-Lasting-15-ef1021nr/product-reviews/B08N38VPL7/ref=cm_cr_dp_d_show_all_btm?ie=UTF8&reviewerType=all_reviews   \n",
       "...                                                                                                                                                                ...   \n",
       "3577                                                                                                                                                               NaN   \n",
       "3578              https://www.amazon.com//Microsoft-Surface-Intel-Pentium-Gold/product-reviews/B07FKVTPC2/ref=cm_cr_dp_d_show_all_btm?ie=UTF8&reviewerType=all_reviews   \n",
       "3579   https://www.amazon.com//Vansky-Adjustable-Ergonomic-Compatible-Notebook/product-reviews/B086TXHVSG/ref=cm_cr_dp_d_show_all_btm?ie=UTF8&reviewerType=all_reviews   \n",
       "3580        https://www.amazon.com//TABcare-Locking-Anti-Theft-Samsung-Display/product-reviews/B08NFLSQ3J/ref=cm_cr_dp_d_show_all_btm?ie=UTF8&reviewerType=all_reviews   \n",
       "3581          https://www.amazon.com//14-0W-Screen-Protector-Widescreen-Laptop/product-reviews/B08B8L3TYY/ref=cm_cr_dp_d_show_all_btm?ie=UTF8&reviewerType=all_reviews   \n",
       "\n",
       "     manufacturer part number memory speed  processor count  ...  \\\n",
       "0                         NaN        2 GHz              4.0  ...   \n",
       "1                         NaN          NaN              4.0  ...   \n",
       "2                         NaN      2.8 GHz              2.0  ...   \n",
       "3                         NaN      4.5 GHz              4.0  ...   \n",
       "4                         NaN          NaN              2.0  ...   \n",
       "...                       ...          ...              ...  ...   \n",
       "3577                      NaN          NaN              NaN  ...   \n",
       "3578                      NaN          NaN              2.0  ...   \n",
       "3579                      NaN          NaN              NaN  ...   \n",
       "3580                      NaN          NaN              NaN  ...   \n",
       "3581                      NaN          NaN              NaN  ...   \n",
       "\n",
       "     battery description part number         package dimensions line size  \\\n",
       "0                    NaN         NaN                        NaN       NaN   \n",
       "1                    NaN         NaN                        NaN       NaN   \n",
       "2                    NaN         NaN                        NaN       NaN   \n",
       "3                    NaN         NaN                        NaN       NaN   \n",
       "4                    NaN         NaN                        NaN       NaN   \n",
       "...                  ...         ...                        ...       ...   \n",
       "3577                 NaN         NaN  5.63 x 5.24 x 0.55 inches       NaN   \n",
       "3578                 NaN         NaN                        NaN       NaN   \n",
       "3579                 NaN         NaN  10.47 x 9.69 x 2.6 inches       NaN   \n",
       "3580                 NaN         NaN                        NaN       NaN   \n",
       "3581                 NaN         NaN    14.7 x 9.9 x 0.3 inches       NaN   \n",
       "\n",
       "     included components manufacturer recommended age folding  \\\n",
       "0                    NaN                          NaN     NaN   \n",
       "1                    NaN                          NaN     NaN   \n",
       "2                    NaN                          NaN     NaN   \n",
       "3                    NaN                          NaN     NaN   \n",
       "4                    NaN                          NaN     NaN   \n",
       "...                  ...                          ...     ...   \n",
       "3577                 NaN                          NaN     NaN   \n",
       "3578                 NaN                          NaN     NaN   \n",
       "3579                 NaN                          NaN     NaN   \n",
       "3580                 NaN                          NaN     NaN   \n",
       "3581                 NaN                          NaN     NaN   \n",
       "\n",
       "                       wireless type domestic shipping color screen  \n",
       "0     Bluetooth, 802.11bgn, 802.11ac               NaN          NaN  \n",
       "1                           802.11ax               NaN          NaN  \n",
       "2                Bluetooth, 802.11ac               NaN          NaN  \n",
       "3                           802.11ax               NaN          NaN  \n",
       "4                Bluetooth, 802.11ax               NaN          NaN  \n",
       "...                              ...               ...          ...  \n",
       "3577                             NaN               NaN          NaN  \n",
       "3578                       802.11abg               NaN          NaN  \n",
       "3579                             NaN               NaN          NaN  \n",
       "3580                             NaN               NaN          NaN  \n",
       "3581                             NaN               NaN          NaN  \n",
       "\n",
       "[3582 rows x 100 columns]"
      ],
      "text/html": "<div>\n<style scoped>\n    .dataframe tbody tr th:only-of-type {\n        vertical-align: middle;\n    }\n\n    .dataframe tbody tr th {\n        vertical-align: top;\n    }\n\n    .dataframe thead th {\n        text-align: right;\n    }\n</style>\n<table border=\"1\" class=\"dataframe\">\n  <thead>\n    <tr style=\"text-align: right;\">\n      <th></th>\n      <th>Unnamed: 0</th>\n      <th>name</th>\n      <th>seller</th>\n      <th>seller_link</th>\n      <th>freq_bought</th>\n      <th>freq_bought_link</th>\n      <th>link_to_all_reviews</th>\n      <th>manufacturer part number</th>\n      <th>memory speed</th>\n      <th>processor count</th>\n      <th>...</th>\n      <th>battery description</th>\n      <th>part number</th>\n      <th>package dimensions</th>\n      <th>line size</th>\n      <th>included components</th>\n      <th>manufacturer recommended age</th>\n      <th>folding</th>\n      <th>wireless type</th>\n      <th>domestic shipping</th>\n      <th>color screen</th>\n    </tr>\n  </thead>\n  <tbody>\n    <tr>\n      <th>0</th>\n      <td>0</td>\n      <td>CHUWI HeroBook Plus 15.6 inch Windows 10 Laptop, 1080P Laptop Computer with Intel J4125 and 12GB RAM / 256GB SSD, Support RJ45 Gigabit Ethernet, BT5.1, Dual WiFi</td>\n      <td>ChuwiDirect</td>\n      <td>https://www.amazon.com/gp/help/seller/at-a-glance.html/ref=dp_merchant_link?ie=UTF8&amp;seller=A33LF4MGG0Q0UV&amp;isAmazonFulfilled=1</td>\n      <td>NaN</td>\n      <td>NaN</td>\n      <td>https://www.amazon.com//CHUWI-HeroBook-Plus-Computer-Ethernet/product-reviews/B08HZ4KWJW/ref=cm_cr_dp_d_show_all_btm?ie=UTF8&amp;reviewerType=all_reviews</td>\n      <td>NaN</td>\n      <td>2 GHz</td>\n      <td>4.0</td>\n      <td>...</td>\n      <td>NaN</td>\n      <td>NaN</td>\n      <td>NaN</td>\n      <td>NaN</td>\n      <td>NaN</td>\n      <td>NaN</td>\n      <td>NaN</td>\n      <td>Bluetooth, 802.11bgn, 802.11ac</td>\n      <td>NaN</td>\n      <td>NaN</td>\n    </tr>\n    <tr>\n      <th>1</th>\n      <td>1</td>\n      <td>LG Gram Thin &amp; Light Laptop - 17\" IPS WQXGA (2560 x 1600), 11th Gen Intel Core i7 1165G7 CPU, Intel Iris Xe Graphics, 16GB RAM, 1TB NVMe SSD, 19.5 Hour Battery, - 17Z90P-K.AAB8U1 - Black (2021)</td>\n      <td>NaN</td>\n      <td>NaN</td>\n      <td>NaN</td>\n      <td>NaN</td>\n      <td>NaN</td>\n      <td>NaN</td>\n      <td>NaN</td>\n      <td>4.0</td>\n      <td>...</td>\n      <td>NaN</td>\n      <td>NaN</td>\n      <td>NaN</td>\n      <td>NaN</td>\n      <td>NaN</td>\n      <td>NaN</td>\n      <td>NaN</td>\n      <td>802.11ax</td>\n      <td>NaN</td>\n      <td>NaN</td>\n    </tr>\n    <tr>\n      <th>2</th>\n      <td>2</td>\n      <td>ASUS Laptop L210 Ultra Thin Laptop, 11.6” HD Display, Intel Celeron N4020 Processor, 4GB RAM, 64GB Storage, NumberPad, Windows 10 Home in S Mode with One Year of Microsoft 365 Personal, L210MA-DB01</td>\n      <td>NaN</td>\n      <td>NaN</td>\n      <td>NaN</td>\n      <td>NaN</td>\n      <td>https://www.amazon.com//ASUS-Processor-NumberPad-Microsoft-L210MA-DB01/product-reviews/B081V6W99V/ref=cm_cr_dp_d_show_all_btm?ie=UTF8&amp;reviewerType=all_reviews</td>\n      <td>NaN</td>\n      <td>2.8 GHz</td>\n      <td>2.0</td>\n      <td>...</td>\n      <td>NaN</td>\n      <td>NaN</td>\n      <td>NaN</td>\n      <td>NaN</td>\n      <td>NaN</td>\n      <td>NaN</td>\n      <td>NaN</td>\n      <td>Bluetooth, 802.11ac</td>\n      <td>NaN</td>\n      <td>NaN</td>\n    </tr>\n    <tr>\n      <th>3</th>\n      <td>3</td>\n      <td>Acer Nitro 5 Gaming Laptop, 10th Gen Intel Core i5-10300H,NVIDIA GeForce GTX 1650 Ti, 15.6\" Full HD IPS 144Hz Display, 8GB DDR4,256GB NVMe SSD,WiFi 6, DTS X Ultra,Backlit Keyboard,AN515-55-59KS</td>\n      <td>NaN</td>\n      <td>NaN</td>\n      <td>VicTsing Mouse Pad with Stitched Edge, Premium-Textured Mouse Mat, Non-Slip Rubber Base Mousepad for…</td>\n      <td>/VicTsing-Stitched-Premium-Textured-Non-Slip-10-2%C3%978-3%C3%970-08/dp/B075WW7V6W/ref=pd_bxgy_2/131-0207570-2629776?_encoding=UTF8&amp;pd_rd_i=B075WW7V6W&amp;pd_rd_r=893c1d12-7777-49b0-98bb-9e1986776c22&amp;pd_rd_w=7umrO&amp;pd_rd_wg=qrUoG&amp;pf_rd_p=f325d01c-4658-4593-be83-3e12ca663f0e&amp;pf_rd_r=490AC3WY0QBY0FNXM175&amp;psc=1&amp;refRID=490AC3WY0QBY0FNXM175</td>\n      <td>https://www.amazon.com//Acer-i5-10300H-GeForce-Keyboard-AN515-55-59KS/product-reviews/B08H2H89K1/ref=cm_cr_dp_d_show_all_btm?ie=UTF8&amp;reviewerType=all_reviews</td>\n      <td>NaN</td>\n      <td>4.5 GHz</td>\n      <td>4.0</td>\n      <td>...</td>\n      <td>NaN</td>\n      <td>NaN</td>\n      <td>NaN</td>\n      <td>NaN</td>\n      <td>NaN</td>\n      <td>NaN</td>\n      <td>NaN</td>\n      <td>802.11ax</td>\n      <td>NaN</td>\n      <td>NaN</td>\n    </tr>\n    <tr>\n      <th>4</th>\n      <td>4</td>\n      <td>HP 15 Laptop, AMD Ryzen 3 3250U Processor, 8 GB RAM, 256 GB SSD Storage, 15.6-inch HD Micro-Edge Display, Windows 10 Home, Long-Lasting Battery, HP Fast Charge, 720p Webcam (15-ef1021nr, 2020)</td>\n      <td>NaN</td>\n      <td>NaN</td>\n      <td>NaN</td>\n      <td>NaN</td>\n      <td>https://www.amazon.com//HP-Processor-Micro-Edge-Long-Lasting-15-ef1021nr/product-reviews/B08N38VPL7/ref=cm_cr_dp_d_show_all_btm?ie=UTF8&amp;reviewerType=all_reviews</td>\n      <td>NaN</td>\n      <td>NaN</td>\n      <td>2.0</td>\n      <td>...</td>\n      <td>NaN</td>\n      <td>NaN</td>\n      <td>NaN</td>\n      <td>NaN</td>\n      <td>NaN</td>\n      <td>NaN</td>\n      <td>NaN</td>\n      <td>Bluetooth, 802.11ax</td>\n      <td>NaN</td>\n      <td>NaN</td>\n    </tr>\n    <tr>\n      <th>...</th>\n      <td>...</td>\n      <td>...</td>\n      <td>...</td>\n      <td>...</td>\n      <td>...</td>\n      <td>...</td>\n      <td>...</td>\n      <td>...</td>\n      <td>...</td>\n      <td>...</td>\n      <td>...</td>\n      <td>...</td>\n      <td>...</td>\n      <td>...</td>\n      <td>...</td>\n      <td>...</td>\n      <td>...</td>\n      <td>...</td>\n      <td>...</td>\n      <td>...</td>\n      <td>...</td>\n    </tr>\n    <tr>\n      <th>3577</th>\n      <td>3580</td>\n      <td>100Pcs Band Stickers Pack Rock Roll Stickers Decals Laptop Cars Guitar Bumper Punk Classic Vinyl Waterproof Graffiti Music Sticker</td>\n      <td>Amdi Rouu</td>\n      <td>https://www.amazon.com/gp/help/seller/at-a-glance.html/ref=dp_merchant_link?ie=UTF8&amp;seller=A17FP619EZACVL&amp;isAmazonFulfilled=1</td>\n      <td>Rock Band Music Vinyl Stickers Pack 50pcs, Black and White Stickers Decals Laptop Cars Guitar Bumper…</td>\n      <td>https://www.amazon.com/Stickers-Decals-Classic-Waterproof-Graffiti/dp/B083YY2J63/ref=pd_bxgy_2/145-9855460-2861356?_encoding=UTF8&amp;pd_rd_i=B083YY2J63&amp;pd_rd_r=ca5f59cc-06bb-42fc-a3d6-bcafc8a2b42e&amp;pd_rd_w=6m9BA&amp;pd_rd_wg=HJ6zi&amp;pf_rd_p=f325d01c-4658-4593-be83-3e12ca663f0e&amp;pf_rd_r=4CV4NQNA71QJH9N5WZ08&amp;psc=1&amp;refRID=4CV4NQNA71QJH9N5WZ08</td>\n      <td>NaN</td>\n      <td>NaN</td>\n      <td>NaN</td>\n      <td>NaN</td>\n      <td>...</td>\n      <td>NaN</td>\n      <td>NaN</td>\n      <td>5.63 x 5.24 x 0.55 inches</td>\n      <td>NaN</td>\n      <td>NaN</td>\n      <td>NaN</td>\n      <td>NaN</td>\n      <td>NaN</td>\n      <td>NaN</td>\n      <td>NaN</td>\n    </tr>\n    <tr>\n      <th>3578</th>\n      <td>3581</td>\n      <td>Microsoft Surface Go (Intel Pentium Gold, 4GB RAM, 64GB)</td>\n      <td>NaN</td>\n      <td>NaN</td>\n      <td>Microsoft Surface Go Type Cover (Black)</td>\n      <td>/Microsoft-Surface-Type-Cover-Black/dp/B07FDHK5NW/ref=pd_bxgy_2/134-0598617-7085429?_encoding=UTF8&amp;pd_rd_i=B07FDHK5NW&amp;pd_rd_r=958cedd1-5707-4045-8fac-9b2711a20888&amp;pd_rd_w=fiFUF&amp;pd_rd_wg=eN2Bg&amp;pf_rd_p=f325d01c-4658-4593-be83-3e12ca663f0e&amp;pf_rd_r=HN9SQ5YQ06BWPXQNSGGH&amp;psc=1&amp;refRID=HN9SQ5YQ06BWPXQNSGGH</td>\n      <td>https://www.amazon.com//Microsoft-Surface-Intel-Pentium-Gold/product-reviews/B07FKVTPC2/ref=cm_cr_dp_d_show_all_btm?ie=UTF8&amp;reviewerType=all_reviews</td>\n      <td>NaN</td>\n      <td>NaN</td>\n      <td>2.0</td>\n      <td>...</td>\n      <td>NaN</td>\n      <td>NaN</td>\n      <td>NaN</td>\n      <td>NaN</td>\n      <td>NaN</td>\n      <td>NaN</td>\n      <td>NaN</td>\n      <td>802.11abg</td>\n      <td>NaN</td>\n      <td>NaN</td>\n    </tr>\n    <tr>\n      <th>3579</th>\n      <td>3582</td>\n      <td>Laptop Stand, Vansky Adjustable Height Ergonomic Laptop Holder Compatible with MacBook Dell HP Acer Notebook 10-17.3\" Computer Stand for Desk Bed DJ</td>\n      <td>Vanskytek Direct</td>\n      <td>https://www.amazon.com/gp/help/seller/at-a-glance.html/ref=dp_merchant_link?ie=UTF8&amp;seller=A2UVTQA9DMW37E&amp;isAmazonFulfilled=1</td>\n      <td>Anker 4-Port USB 3.0 Hub, Ultra-Slim Data USB Hub with 2 ft Extended Cable [Charging Not Supported…</td>\n      <td>https://www.amazon.com/Anker-Extended-MacBook-Surface-Notebook/dp/B07L32B9C2/ref=pd_bxgy_2/142-6130428-7760450?_encoding=UTF8&amp;pd_rd_i=B07L32B9C2&amp;pd_rd_r=50b2a5d6-431d-4588-8fa3-7a3114620ab6&amp;pd_rd_w=RZYgA&amp;pd_rd_wg=puxs5&amp;pf_rd_p=f325d01c-4658-4593-be83-3e12ca663f0e&amp;pf_rd_r=Y12XRVRDXEQRA2KH3624&amp;psc=1&amp;refRID=Y12XRVRDXEQRA2KH3624</td>\n      <td>https://www.amazon.com//Vansky-Adjustable-Ergonomic-Compatible-Notebook/product-reviews/B086TXHVSG/ref=cm_cr_dp_d_show_all_btm?ie=UTF8&amp;reviewerType=all_reviews</td>\n      <td>NaN</td>\n      <td>NaN</td>\n      <td>NaN</td>\n      <td>...</td>\n      <td>NaN</td>\n      <td>NaN</td>\n      <td>10.47 x 9.69 x 2.6 inches</td>\n      <td>NaN</td>\n      <td>NaN</td>\n      <td>NaN</td>\n      <td>NaN</td>\n      <td>NaN</td>\n      <td>NaN</td>\n      <td>NaN</td>\n    </tr>\n    <tr>\n      <th>3580</th>\n      <td>3583</td>\n      <td>TABcare Locking Anti-Theft Metal Case for Samsung Galaxy TAB A7 10.4\" Tablet for Kiosk, POS, Store, Show Display, Time Clock (TAB A7 10.4, Black)</td>\n      <td>TABcare</td>\n      <td>https://www.amazon.com/gp/help/seller/at-a-glance.html/ref=dp_merchant_link?ie=UTF8&amp;seller=A1GNCZX833Y9DU&amp;isAmazonFulfilled=1</td>\n      <td>Samsung Galaxy Tab A7 10.4 Wi-Fi 32GB Silver (SM-T500NZSAXAR)</td>\n      <td>https://www.amazon.com/Samsung-Galaxy-Wi-Fi-Silver-SM-T500NZSAXAR/dp/B08GHVSGMQ/ref=pd_bxgy_2/144-4669993-3123824?_encoding=UTF8&amp;pd_rd_i=B08GHVSGMQ&amp;pd_rd_r=478df1c7-8a52-4bd2-a1bb-149917f820f6&amp;pd_rd_w=HCGEk&amp;pd_rd_wg=8qoEX&amp;pf_rd_p=f325d01c-4658-4593-be83-3e12ca663f0e&amp;pf_rd_r=PTPCM473MKVF4HGGEB19&amp;psc=1&amp;refRID=PTPCM473MKVF4HGGEB19</td>\n      <td>https://www.amazon.com//TABcare-Locking-Anti-Theft-Samsung-Display/product-reviews/B08NFLSQ3J/ref=cm_cr_dp_d_show_all_btm?ie=UTF8&amp;reviewerType=all_reviews</td>\n      <td>NaN</td>\n      <td>NaN</td>\n      <td>NaN</td>\n      <td>...</td>\n      <td>NaN</td>\n      <td>NaN</td>\n      <td>NaN</td>\n      <td>NaN</td>\n      <td>NaN</td>\n      <td>NaN</td>\n      <td>NaN</td>\n      <td>NaN</td>\n      <td>NaN</td>\n      <td>NaN</td>\n    </tr>\n    <tr>\n      <th>3581</th>\n      <td>3584</td>\n      <td>14''W Inch Anti Blue Light Screen Protector for Widescreen Laptop - Upgrade Laptop Screen Protector Filter Out Blue Light Relief with Aspect Ratio 16:9 - Reduce Eye Fatigue Strain (2 Pack)</td>\n      <td>MokDelg</td>\n      <td>https://www.amazon.com/gp/help/seller/at-a-glance.html/ref=dp_merchant_link?ie=UTF8&amp;seller=A2LADTOG5HBOFM&amp;isAmazonFulfilled=1</td>\n      <td>NaN</td>\n      <td>NaN</td>\n      <td>https://www.amazon.com//14-0W-Screen-Protector-Widescreen-Laptop/product-reviews/B08B8L3TYY/ref=cm_cr_dp_d_show_all_btm?ie=UTF8&amp;reviewerType=all_reviews</td>\n      <td>NaN</td>\n      <td>NaN</td>\n      <td>NaN</td>\n      <td>...</td>\n      <td>NaN</td>\n      <td>NaN</td>\n      <td>14.7 x 9.9 x 0.3 inches</td>\n      <td>NaN</td>\n      <td>NaN</td>\n      <td>NaN</td>\n      <td>NaN</td>\n      <td>NaN</td>\n      <td>NaN</td>\n      <td>NaN</td>\n    </tr>\n  </tbody>\n</table>\n<p>3582 rows × 100 columns</p>\n</div>"
     },
     "metadata": {},
     "execution_count": 41
    }
   ],
   "source": [
    "df2 = pd.read_csv(csv_filename)\n",
    "df2"
   ]
  },
  {
   "cell_type": "code",
   "execution_count": 101,
   "metadata": {},
   "outputs": [
    {
     "output_type": "execute_result",
     "data": {
      "text/plain": [
       "Empty DataFrame\n",
       "Columns: [Unnamed: 0, name, seller, seller_link, freq_bought, freq_bought_link, link_to_all_reviews, brand name, color, rating, batteries required?, best sellers rank, style, standing screen display size, hardware platform, shade color, head style, screen resolution, voltage, hard drive interface, wattage, rear webcam resolution, flash memory size, wireless type, material, colour, material type, assembled height, optical drive type, measurement system, light direction, national stock number, power source, part number, specific uses, item package quantity, specification met, expansion, operating system, average life, type of bulb, display style, cover included, release date, item dimensions  lxwxh, number of lights, contains, computer memory type, hard drive rotational speed, graphics card ram size, batteries required, switch installation type, product dimensions, number of pieces, item weight, department, pricing, is discontinued by manufacturer, package dimensions, model, memory speed, display type, included components, shade material, other display features, manufacturer, average battery life (in hours), weight, max screen resolution, chipset brand, ram, shape, color screen, item display height, item model number, finish types, is assembly required?, display technology, date first available, certification, international shipping, graphics coprocessor, warranty description, folding, processor count, number of usb 3.0 ports, plug profile, batteries included?, compatible devices, processor brand, color temperature, number of items, switch style, number of usb 2.0 ports, material care instructions, bulb features, batteries, brand, size, additional features, ...]\n",
       "Index: []\n",
       "\n",
       "[0 rows x 116 columns]"
      ],
      "text/html": "<div>\n<style scoped>\n    .dataframe tbody tr th:only-of-type {\n        vertical-align: middle;\n    }\n\n    .dataframe tbody tr th {\n        vertical-align: top;\n    }\n\n    .dataframe thead th {\n        text-align: right;\n    }\n</style>\n<table border=\"1\" class=\"dataframe\">\n  <thead>\n    <tr style=\"text-align: right;\">\n      <th></th>\n      <th>Unnamed: 0</th>\n      <th>name</th>\n      <th>seller</th>\n      <th>seller_link</th>\n      <th>freq_bought</th>\n      <th>freq_bought_link</th>\n      <th>link_to_all_reviews</th>\n      <th>brand name</th>\n      <th>color</th>\n      <th>rating</th>\n      <th>...</th>\n      <th>color name</th>\n      <th>ASIN</th>\n      <th>manufacturer part number</th>\n      <th>connectivity technologies</th>\n      <th>assembled width</th>\n      <th>special features</th>\n      <th>domestic shipping</th>\n      <th>os</th>\n      <th>assembled length</th>\n      <th>language</th>\n    </tr>\n  </thead>\n  <tbody>\n  </tbody>\n</table>\n<p>0 rows × 116 columns</p>\n</div>"
     },
     "metadata": {},
     "execution_count": 101
    }
   ],
   "source": [
    "df2[df2.rating == 0]"
   ]
  },
  {
   "cell_type": "code",
   "execution_count": 43,
   "metadata": {},
   "outputs": [
    {
     "output_type": "execute_result",
     "data": {
      "text/plain": [
       "Index(['Unnamed: 0', 'name', 'seller', 'seller_link', 'freq_bought',\n",
       "       'freq_bought_link', 'link_to_all_reviews', 'manufacturer part number',\n",
       "       'memory speed', 'processor count', 'voltage', 'card description',\n",
       "       'screen resolution', 'type of bulb', 'sheet size',\n",
       "       'average battery life (in hours)', 'colour', 'department', 'language',\n",
       "       'item thickness', 'style', 'audio jack', 'series', 'brand',\n",
       "       'brand name', 'additional features', 'item package quantity',\n",
       "       'finish types', 'material type', 'chipset brand', 'best sellers rank',\n",
       "       'os', 'batteries required?', 'computer memory type',\n",
       "       'item model number', 'color', 'operating system',\n",
       "       'total recycled content percentage', 'weight', 'item weight',\n",
       "       'warranty description', 'closure', 'import designation', 'ASIN',\n",
       "       'rating', 'mfg recommended age', 'graphics card ram size',\n",
       "       'hard drive interface', 'batteries required', 'number of usb 2.0 ports',\n",
       "       'batteries', 'hardware platform', 'assembled length',\n",
       "       'optical drive type', 'processor brand', 'power source', 'color name',\n",
       "       'specific uses for product', 'shape', 'model number',\n",
       "       'special features', 'hard drive rotational speed',\n",
       "       'audio-out ports (#)', 'is discontinued by manufacturer',\n",
       "       'connectivity technologies', 'size', 'assembled height',\n",
       "       'compatible devices', 'assembled width', 'manufacturer',\n",
       "       'graphics coprocessor', 'max weight recommendation',\n",
       "       'data transfer rate', 'max screen resolution',\n",
       "       'standing screen display size', 'international shipping',\n",
       "       'product dimensions', 'rear webcam resolution', 'batteries included?',\n",
       "       'national stock number', 'expansion', 'connectivity technology',\n",
       "       'connector type', 'flash memory size', 'number of usb 3.0 ports',\n",
       "       'date first available', 'material', 'number of items',\n",
       "       'item dimensions  lxwxh', 'other display features',\n",
       "       'battery description', 'part number', 'package dimensions', 'line size',\n",
       "       'included components', 'manufacturer recommended age', 'folding',\n",
       "       'wireless type', 'domestic shipping', 'color screen'],\n",
       "      dtype='object')"
      ]
     },
     "metadata": {},
     "execution_count": 43
    }
   ],
   "source": [
    "df2.columns"
   ]
  }
 ]
}