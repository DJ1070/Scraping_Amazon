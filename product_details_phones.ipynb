{
 "metadata": {
  "language_info": {
   "codemirror_mode": {
    "name": "ipython",
    "version": 3
   },
   "file_extension": ".py",
   "mimetype": "text/x-python",
   "name": "python",
   "nbconvert_exporter": "python",
   "pygments_lexer": "ipython3",
   "version": "3.8.5-final"
  },
  "orig_nbformat": 2,
  "kernelspec": {
   "name": "python3",
   "display_name": "Python 3.8.5 64-bit (conda)",
   "metadata": {
    "interpreter": {
     "hash": "b3ba2566441a7c06988d0923437866b63cedc61552a5af99d1f4fb67d367b25f"
    }
   }
  }
 },
 "nbformat": 4,
 "nbformat_minor": 2,
 "cells": [
  {
   "cell_type": "code",
   "execution_count": 54,
   "metadata": {},
   "outputs": [],
   "source": [
    "import pandas as pd\n",
    "import numpy as np\n",
    "import re\n",
    "from pandas.io.json import json_normalize\n",
    "\n",
    "csv_filename = 'product_details_phone.csv'\n",
    "csv_bought_together = 'items_bought_together.csv'\n",
    "csv_customer_reviews = 'links_to_customer_reviews_phone.csv'\n",
    "txt_customer_reviews = 'links_to_customer_reviews_phone.txt'"
   ]
  },
  {
   "cell_type": "code",
   "execution_count": 55,
   "metadata": {},
   "outputs": [
    {
     "output_type": "execute_result",
     "data": {
      "text/plain": [
       "                                                name product_summary  \\\n",
       "0  Net10 Samsung Galaxy A01 4G LTE Prepaid Smartp...            None   \n",
       "1  Net10 Samsung Galaxy A10e 4G LTE Prepaid Smart...            None   \n",
       "2  Samsung Galaxy S21+ Plus 5G | Factory Unlocked...            None   \n",
       "3  Moto G Power | 3-Day Battery1 | Unlocked | Mad...            None   \n",
       "4  Google Pixel 4a - New Unlocked Android Smartph...            None   \n",
       "\n",
       "  product_tech_spec                                  product_addl_info  \\\n",
       "0              None  [{'info': 'Product Dimensions', 'value': '6.75...   \n",
       "1              None  [{'info': 'Product Dimensions', 'value': '6.75...   \n",
       "2              None  [{'info': 'Product Dimensions', 'value': '7.1 ...   \n",
       "3              None  [{'info': 'Product Dimensions', 'value': '6.29...   \n",
       "4              None  [{'info': 'Product Dimensions', 'value': '5.7 ...   \n",
       "\n",
       "       seller                                        seller_link  \\\n",
       "0        None                                               None   \n",
       "1        None                                               None   \n",
       "2        None                                               None   \n",
       "3  CellTastic  https://www.amazon.com/gp/help/seller/at-a-gla...   \n",
       "4        None                                               None   \n",
       "\n",
       "                                         freq_bought  \\\n",
       "0  Galaxy A01 Case, with HD Screen Protector, SKT...   \n",
       "1  Simple Mobile Samsung Galaxy A10e 4G LTE Prepa...   \n",
       "2                                               None   \n",
       "3  Moto G Power case,Motorola G Power case,with H...   \n",
       "4                                               None   \n",
       "\n",
       "                                    freq_bought_link  \\\n",
       "0  /Protector-SKTGSLAMY-Shockproof-Protective-Kic...   \n",
       "1  /Simple-Mobile-Samsung-Prepaid-Smartphone/dp/B...   \n",
       "2                                               None   \n",
       "3  https://www.amazon.com/Motorola-Protector-MAIK...   \n",
       "4                                               None   \n",
       "\n",
       "                                 link_to_all_reviews  \n",
       "0  /Net10-Samsung-Galaxy-Prepaid-Smartphone/produ...  \n",
       "1  /Net10-Samsung-Galaxy-Prepaid-Smartphone/produ...  \n",
       "2  /Samsung-Unlocked-Smartphone-Pro-Grade-SM-G996...  \n",
       "3  /Power-Battery1-Unlocked-Motorola-Camera/produ...  \n",
       "4  /Google-Pixel-4a-Unlocked-Smartphone/product-r...  "
      ],
      "text/html": "<div>\n<style scoped>\n    .dataframe tbody tr th:only-of-type {\n        vertical-align: middle;\n    }\n\n    .dataframe tbody tr th {\n        vertical-align: top;\n    }\n\n    .dataframe thead th {\n        text-align: right;\n    }\n</style>\n<table border=\"1\" class=\"dataframe\">\n  <thead>\n    <tr style=\"text-align: right;\">\n      <th></th>\n      <th>name</th>\n      <th>product_summary</th>\n      <th>product_tech_spec</th>\n      <th>product_addl_info</th>\n      <th>seller</th>\n      <th>seller_link</th>\n      <th>freq_bought</th>\n      <th>freq_bought_link</th>\n      <th>link_to_all_reviews</th>\n    </tr>\n  </thead>\n  <tbody>\n    <tr>\n      <th>0</th>\n      <td>Net10 Samsung Galaxy A01 4G LTE Prepaid Smartp...</td>\n      <td>None</td>\n      <td>None</td>\n      <td>[{'info': 'Product Dimensions', 'value': '6.75...</td>\n      <td>None</td>\n      <td>None</td>\n      <td>Galaxy A01 Case, with HD Screen Protector, SKT...</td>\n      <td>/Protector-SKTGSLAMY-Shockproof-Protective-Kic...</td>\n      <td>/Net10-Samsung-Galaxy-Prepaid-Smartphone/produ...</td>\n    </tr>\n    <tr>\n      <th>1</th>\n      <td>Net10 Samsung Galaxy A10e 4G LTE Prepaid Smart...</td>\n      <td>None</td>\n      <td>None</td>\n      <td>[{'info': 'Product Dimensions', 'value': '6.75...</td>\n      <td>None</td>\n      <td>None</td>\n      <td>Simple Mobile Samsung Galaxy A10e 4G LTE Prepa...</td>\n      <td>/Simple-Mobile-Samsung-Prepaid-Smartphone/dp/B...</td>\n      <td>/Net10-Samsung-Galaxy-Prepaid-Smartphone/produ...</td>\n    </tr>\n    <tr>\n      <th>2</th>\n      <td>Samsung Galaxy S21+ Plus 5G | Factory Unlocked...</td>\n      <td>None</td>\n      <td>None</td>\n      <td>[{'info': 'Product Dimensions', 'value': '7.1 ...</td>\n      <td>None</td>\n      <td>None</td>\n      <td>None</td>\n      <td>None</td>\n      <td>/Samsung-Unlocked-Smartphone-Pro-Grade-SM-G996...</td>\n    </tr>\n    <tr>\n      <th>3</th>\n      <td>Moto G Power | 3-Day Battery1 | Unlocked | Mad...</td>\n      <td>None</td>\n      <td>None</td>\n      <td>[{'info': 'Product Dimensions', 'value': '6.29...</td>\n      <td>CellTastic</td>\n      <td>https://www.amazon.com/gp/help/seller/at-a-gla...</td>\n      <td>Moto G Power case,Motorola G Power case,with H...</td>\n      <td>https://www.amazon.com/Motorola-Protector-MAIK...</td>\n      <td>/Power-Battery1-Unlocked-Motorola-Camera/produ...</td>\n    </tr>\n    <tr>\n      <th>4</th>\n      <td>Google Pixel 4a - New Unlocked Android Smartph...</td>\n      <td>None</td>\n      <td>None</td>\n      <td>[{'info': 'Product Dimensions', 'value': '5.7 ...</td>\n      <td>None</td>\n      <td>None</td>\n      <td>None</td>\n      <td>None</td>\n      <td>/Google-Pixel-4a-Unlocked-Smartphone/product-r...</td>\n    </tr>\n  </tbody>\n</table>\n</div>"
     },
     "metadata": {},
     "execution_count": 55
    }
   ],
   "source": [
    "df = pd.read_json('smartphone_product_output.jsonl')\n",
    "df.head()"
   ]
  },
  {
   "cell_type": "code",
   "execution_count": 56,
   "metadata": {},
   "outputs": [
    {
     "output_type": "execute_result",
     "data": {
      "text/plain": [
       "                                                name  product_summary  \\\n",
       "0                                               None              NaN   \n",
       "1                                               None              NaN   \n",
       "2                                               None              NaN   \n",
       "3  Apple iPhone 8, 64GB, Space Gray - Fully Unloc...              NaN   \n",
       "4  Apple iPhone XR, 64GB, White - Fully Unlocked ...              NaN   \n",
       "\n",
       "  product_tech_spec                                  product_addl_info seller  \\\n",
       "0              None                                               None   None   \n",
       "1              None                                               None   None   \n",
       "2              None                                               None   None   \n",
       "3              None  [{'info': 'Product Dimensions', 'value': '5.45...   None   \n",
       "4              None  [{'info': 'Product Dimensions', 'value': '7 x ...   None   \n",
       "\n",
       "  seller_link                                        freq_bought  \\\n",
       "0        None                                               None   \n",
       "1        None                                               None   \n",
       "2        None                                               None   \n",
       "3        None  JETech Screen Protector for iPhone 7/8, 4.7-In...   \n",
       "4        None                                               None   \n",
       "\n",
       "                                    freq_bought_link  \\\n",
       "0                                               None   \n",
       "1                                               None   \n",
       "2                                               None   \n",
       "3  /JETech-Screen-Protector-4-7-Inch-Tempered/dp/...   \n",
       "4                                               None   \n",
       "\n",
       "                                 link_to_all_reviews  \n",
       "0  /Apple-iPhone-Product-Carrier-Subscription/pro...  \n",
       "1  /Apple-Carrier-Subscription-Cricket-Wireless/p...  \n",
       "2  /Apple-iPhone-XR-64GB-Black/product-reviews/B0...  \n",
       "3  /Apple-iPhone-GSM-Unlocked-64GB/product-review...  \n",
       "4  /Apple-iPhone-XR-Fully-Unlocked/product-review...  "
      ],
      "text/html": "<div>\n<style scoped>\n    .dataframe tbody tr th:only-of-type {\n        vertical-align: middle;\n    }\n\n    .dataframe tbody tr th {\n        vertical-align: top;\n    }\n\n    .dataframe thead th {\n        text-align: right;\n    }\n</style>\n<table border=\"1\" class=\"dataframe\">\n  <thead>\n    <tr style=\"text-align: right;\">\n      <th></th>\n      <th>name</th>\n      <th>product_summary</th>\n      <th>product_tech_spec</th>\n      <th>product_addl_info</th>\n      <th>seller</th>\n      <th>seller_link</th>\n      <th>freq_bought</th>\n      <th>freq_bought_link</th>\n      <th>link_to_all_reviews</th>\n    </tr>\n  </thead>\n  <tbody>\n    <tr>\n      <th>0</th>\n      <td>None</td>\n      <td>NaN</td>\n      <td>None</td>\n      <td>None</td>\n      <td>None</td>\n      <td>None</td>\n      <td>None</td>\n      <td>None</td>\n      <td>/Apple-iPhone-Product-Carrier-Subscription/pro...</td>\n    </tr>\n    <tr>\n      <th>1</th>\n      <td>None</td>\n      <td>NaN</td>\n      <td>None</td>\n      <td>None</td>\n      <td>None</td>\n      <td>None</td>\n      <td>None</td>\n      <td>None</td>\n      <td>/Apple-Carrier-Subscription-Cricket-Wireless/p...</td>\n    </tr>\n    <tr>\n      <th>2</th>\n      <td>None</td>\n      <td>NaN</td>\n      <td>None</td>\n      <td>None</td>\n      <td>None</td>\n      <td>None</td>\n      <td>None</td>\n      <td>None</td>\n      <td>/Apple-iPhone-XR-64GB-Black/product-reviews/B0...</td>\n    </tr>\n    <tr>\n      <th>3</th>\n      <td>Apple iPhone 8, 64GB, Space Gray - Fully Unloc...</td>\n      <td>NaN</td>\n      <td>None</td>\n      <td>[{'info': 'Product Dimensions', 'value': '5.45...</td>\n      <td>None</td>\n      <td>None</td>\n      <td>JETech Screen Protector for iPhone 7/8, 4.7-In...</td>\n      <td>/JETech-Screen-Protector-4-7-Inch-Tempered/dp/...</td>\n      <td>/Apple-iPhone-GSM-Unlocked-64GB/product-review...</td>\n    </tr>\n    <tr>\n      <th>4</th>\n      <td>Apple iPhone XR, 64GB, White - Fully Unlocked ...</td>\n      <td>NaN</td>\n      <td>None</td>\n      <td>[{'info': 'Product Dimensions', 'value': '7 x ...</td>\n      <td>None</td>\n      <td>None</td>\n      <td>None</td>\n      <td>None</td>\n      <td>/Apple-iPhone-XR-Fully-Unlocked/product-review...</td>\n    </tr>\n  </tbody>\n</table>\n</div>"
     },
     "metadata": {},
     "execution_count": 56
    }
   ],
   "source": [
    "dfi = pd.read_json('iphone_product_output.jsonl')\n",
    "dfi.head()"
   ]
  },
  {
   "cell_type": "code",
   "execution_count": 57,
   "metadata": {},
   "outputs": [],
   "source": [
    "df = pd.concat([df,dfi], axis=0)"
   ]
  },
  {
   "cell_type": "code",
   "execution_count": 58,
   "metadata": {},
   "outputs": [],
   "source": [
    "df = df.dropna(axis=0, how='all')\n",
    "#df = df.name.dropna(axis=0)"
   ]
  },
  {
   "cell_type": "code",
   "execution_count": 59,
   "metadata": {},
   "outputs": [],
   "source": [
    "df.reset_index(drop=True, inplace = True)"
   ]
  },
  {
   "cell_type": "code",
   "execution_count": 60,
   "metadata": {},
   "outputs": [],
   "source": [
    "df.link_to_all_reviews = 'https://www.amazon.com/' + df.link_to_all_reviews"
   ]
  },
  {
   "cell_type": "code",
   "execution_count": 61,
   "metadata": {},
   "outputs": [
    {
     "output_type": "execute_result",
     "data": {
      "text/plain": [
       "                                                   name product_summary  \\\n",
       "0     Net10 Samsung Galaxy A01 4G LTE Prepaid Smartp...            None   \n",
       "1     Net10 Samsung Galaxy A10e 4G LTE Prepaid Smart...            None   \n",
       "2     Samsung Galaxy S21+ Plus 5G | Factory Unlocked...            None   \n",
       "3     Moto G Power | 3-Day Battery1 | Unlocked | Mad...            None   \n",
       "4     Google Pixel 4a - New Unlocked Android Smartph...            None   \n",
       "...                                                 ...             ...   \n",
       "3064  Honor View 20 PCT-L29 Dual-SIM (256GB ROM/8GB ...             NaN   \n",
       "3065             LG K30 16GB Unlocked GSM Phone - Black             NaN   \n",
       "3066  A70 Pro Smartphone, Dual SIM Unlocked Mobile P...             NaN   \n",
       "3067  Unlocked Cell Phones(8GB/128GB), CUBOT Note 20...             NaN   \n",
       "3068  JR TECHNIK iPhone Charger, Lightning Cable MFi...             NaN   \n",
       "\n",
       "     product_tech_spec                                  product_addl_info  \\\n",
       "0                 None  [{'info': 'Product Dimensions', 'value': '6.75...   \n",
       "1                 None  [{'info': 'Product Dimensions', 'value': '6.75...   \n",
       "2                 None  [{'info': 'Product Dimensions', 'value': '7.1 ...   \n",
       "3                 None  [{'info': 'Product Dimensions', 'value': '6.29...   \n",
       "4                 None  [{'info': 'Product Dimensions', 'value': '5.7 ...   \n",
       "...                ...                                                ...   \n",
       "3064              None  [{'info': 'Product Dimensions', 'value': '0.32...   \n",
       "3065              None  [{'info': 'Package Dimensions', 'value': '6.26...   \n",
       "3066              None  [{'info': 'Item Weight', 'value': '1.1 pounds'...   \n",
       "3067              None  [{'info': 'Product Dimensions', 'value': '6.14...   \n",
       "3068              None  [{'info': 'Package Dimensions', 'value': '8.66...   \n",
       "\n",
       "             seller                                        seller_link  \\\n",
       "0              None                                               None   \n",
       "1              None                                               None   \n",
       "2              None                                               None   \n",
       "3        CellTastic  https://www.amazon.com/gp/help/seller/at-a-gla...   \n",
       "4              None                                               None   \n",
       "...             ...                                                ...   \n",
       "3064           None                                               None   \n",
       "3065           None                                               None   \n",
       "3066           None                                               None   \n",
       "3067     Ju2mei USA  https://www.amazon.com/gp/help/seller/at-a-gla...   \n",
       "3068  Eleacces Tech  https://www.amazon.com/gp/help/seller/at-a-gla...   \n",
       "\n",
       "                                            freq_bought  \\\n",
       "0     Galaxy A01 Case, with HD Screen Protector, SKT...   \n",
       "1     Simple Mobile Samsung Galaxy A10e 4G LTE Prepa...   \n",
       "2                                                  None   \n",
       "3     Moto G Power case,Motorola G Power case,with H...   \n",
       "4                                                  None   \n",
       "...                                                 ...   \n",
       "3064                                               None   \n",
       "3065                                               None   \n",
       "3066                                               None   \n",
       "3067                                               None   \n",
       "3068  USB Wall Charger, LUOATIP 3-Pack 2.1A/5V Dual ...   \n",
       "\n",
       "                                       freq_bought_link  \\\n",
       "0     /Protector-SKTGSLAMY-Shockproof-Protective-Kic...   \n",
       "1     /Simple-Mobile-Samsung-Prepaid-Smartphone/dp/B...   \n",
       "2                                                  None   \n",
       "3     https://www.amazon.com/Motorola-Protector-MAIK...   \n",
       "4                                                  None   \n",
       "...                                                 ...   \n",
       "3064                                               None   \n",
       "3065                                               None   \n",
       "3066                                               None   \n",
       "3067                                               None   \n",
       "3068  https://www.amazon.com/Charger-LUOATIP-Adapter...   \n",
       "\n",
       "                                    link_to_all_reviews  \n",
       "0     https://www.amazon.com//Net10-Samsung-Galaxy-P...  \n",
       "1     https://www.amazon.com//Net10-Samsung-Galaxy-P...  \n",
       "2     https://www.amazon.com//Samsung-Unlocked-Smart...  \n",
       "3     https://www.amazon.com//Power-Battery1-Unlocke...  \n",
       "4     https://www.amazon.com//Google-Pixel-4a-Unlock...  \n",
       "...                                                 ...  \n",
       "3064  https://www.amazon.com//Honor-PCT-L29-Dual-SIM...  \n",
       "3065  https://www.amazon.com//LG-K30-16GB-Unlocked-P...  \n",
       "3066                                                NaN  \n",
       "3067  https://www.amazon.com//Unlocked-CUBOT-Smartph...  \n",
       "3068  https://www.amazon.com//JR-TECHNIK-Lightning-C...  \n",
       "\n",
       "[3069 rows x 9 columns]"
      ],
      "text/html": "<div>\n<style scoped>\n    .dataframe tbody tr th:only-of-type {\n        vertical-align: middle;\n    }\n\n    .dataframe tbody tr th {\n        vertical-align: top;\n    }\n\n    .dataframe thead th {\n        text-align: right;\n    }\n</style>\n<table border=\"1\" class=\"dataframe\">\n  <thead>\n    <tr style=\"text-align: right;\">\n      <th></th>\n      <th>name</th>\n      <th>product_summary</th>\n      <th>product_tech_spec</th>\n      <th>product_addl_info</th>\n      <th>seller</th>\n      <th>seller_link</th>\n      <th>freq_bought</th>\n      <th>freq_bought_link</th>\n      <th>link_to_all_reviews</th>\n    </tr>\n  </thead>\n  <tbody>\n    <tr>\n      <th>0</th>\n      <td>Net10 Samsung Galaxy A01 4G LTE Prepaid Smartp...</td>\n      <td>None</td>\n      <td>None</td>\n      <td>[{'info': 'Product Dimensions', 'value': '6.75...</td>\n      <td>None</td>\n      <td>None</td>\n      <td>Galaxy A01 Case, with HD Screen Protector, SKT...</td>\n      <td>/Protector-SKTGSLAMY-Shockproof-Protective-Kic...</td>\n      <td>https://www.amazon.com//Net10-Samsung-Galaxy-P...</td>\n    </tr>\n    <tr>\n      <th>1</th>\n      <td>Net10 Samsung Galaxy A10e 4G LTE Prepaid Smart...</td>\n      <td>None</td>\n      <td>None</td>\n      <td>[{'info': 'Product Dimensions', 'value': '6.75...</td>\n      <td>None</td>\n      <td>None</td>\n      <td>Simple Mobile Samsung Galaxy A10e 4G LTE Prepa...</td>\n      <td>/Simple-Mobile-Samsung-Prepaid-Smartphone/dp/B...</td>\n      <td>https://www.amazon.com//Net10-Samsung-Galaxy-P...</td>\n    </tr>\n    <tr>\n      <th>2</th>\n      <td>Samsung Galaxy S21+ Plus 5G | Factory Unlocked...</td>\n      <td>None</td>\n      <td>None</td>\n      <td>[{'info': 'Product Dimensions', 'value': '7.1 ...</td>\n      <td>None</td>\n      <td>None</td>\n      <td>None</td>\n      <td>None</td>\n      <td>https://www.amazon.com//Samsung-Unlocked-Smart...</td>\n    </tr>\n    <tr>\n      <th>3</th>\n      <td>Moto G Power | 3-Day Battery1 | Unlocked | Mad...</td>\n      <td>None</td>\n      <td>None</td>\n      <td>[{'info': 'Product Dimensions', 'value': '6.29...</td>\n      <td>CellTastic</td>\n      <td>https://www.amazon.com/gp/help/seller/at-a-gla...</td>\n      <td>Moto G Power case,Motorola G Power case,with H...</td>\n      <td>https://www.amazon.com/Motorola-Protector-MAIK...</td>\n      <td>https://www.amazon.com//Power-Battery1-Unlocke...</td>\n    </tr>\n    <tr>\n      <th>4</th>\n      <td>Google Pixel 4a - New Unlocked Android Smartph...</td>\n      <td>None</td>\n      <td>None</td>\n      <td>[{'info': 'Product Dimensions', 'value': '5.7 ...</td>\n      <td>None</td>\n      <td>None</td>\n      <td>None</td>\n      <td>None</td>\n      <td>https://www.amazon.com//Google-Pixel-4a-Unlock...</td>\n    </tr>\n    <tr>\n      <th>...</th>\n      <td>...</td>\n      <td>...</td>\n      <td>...</td>\n      <td>...</td>\n      <td>...</td>\n      <td>...</td>\n      <td>...</td>\n      <td>...</td>\n      <td>...</td>\n    </tr>\n    <tr>\n      <th>3064</th>\n      <td>Honor View 20 PCT-L29 Dual-SIM (256GB ROM/8GB ...</td>\n      <td>NaN</td>\n      <td>None</td>\n      <td>[{'info': 'Product Dimensions', 'value': '0.32...</td>\n      <td>None</td>\n      <td>None</td>\n      <td>None</td>\n      <td>None</td>\n      <td>https://www.amazon.com//Honor-PCT-L29-Dual-SIM...</td>\n    </tr>\n    <tr>\n      <th>3065</th>\n      <td>LG K30 16GB Unlocked GSM Phone - Black</td>\n      <td>NaN</td>\n      <td>None</td>\n      <td>[{'info': 'Package Dimensions', 'value': '6.26...</td>\n      <td>None</td>\n      <td>None</td>\n      <td>None</td>\n      <td>None</td>\n      <td>https://www.amazon.com//LG-K30-16GB-Unlocked-P...</td>\n    </tr>\n    <tr>\n      <th>3066</th>\n      <td>A70 Pro Smartphone, Dual SIM Unlocked Mobile P...</td>\n      <td>NaN</td>\n      <td>None</td>\n      <td>[{'info': 'Item Weight', 'value': '1.1 pounds'...</td>\n      <td>None</td>\n      <td>None</td>\n      <td>None</td>\n      <td>None</td>\n      <td>NaN</td>\n    </tr>\n    <tr>\n      <th>3067</th>\n      <td>Unlocked Cell Phones(8GB/128GB), CUBOT Note 20...</td>\n      <td>NaN</td>\n      <td>None</td>\n      <td>[{'info': 'Product Dimensions', 'value': '6.14...</td>\n      <td>Ju2mei USA</td>\n      <td>https://www.amazon.com/gp/help/seller/at-a-gla...</td>\n      <td>None</td>\n      <td>None</td>\n      <td>https://www.amazon.com//Unlocked-CUBOT-Smartph...</td>\n    </tr>\n    <tr>\n      <th>3068</th>\n      <td>JR TECHNIK iPhone Charger, Lightning Cable MFi...</td>\n      <td>NaN</td>\n      <td>None</td>\n      <td>[{'info': 'Package Dimensions', 'value': '8.66...</td>\n      <td>Eleacces Tech</td>\n      <td>https://www.amazon.com/gp/help/seller/at-a-gla...</td>\n      <td>USB Wall Charger, LUOATIP 3-Pack 2.1A/5V Dual ...</td>\n      <td>https://www.amazon.com/Charger-LUOATIP-Adapter...</td>\n      <td>https://www.amazon.com//JR-TECHNIK-Lightning-C...</td>\n    </tr>\n  </tbody>\n</table>\n<p>3069 rows × 9 columns</p>\n</div>"
     },
     "metadata": {},
     "execution_count": 61
    }
   ],
   "source": [
    "df"
   ]
  },
  {
   "cell_type": "code",
   "execution_count": 62,
   "metadata": {},
   "outputs": [],
   "source": [
    "# Extraction of all specifications in nested JSON-dicts to be used for building additional columns \n",
    "  \n",
    "new_columns = []\n",
    "for i in range(len(df)):\n",
    "    if df.product_summary[i] is not None:\n",
    "        try:\n",
    "            product_sum = df.product_summary[i]\n",
    "            x = len(product_sum)  \n",
    "            for j in range(x):\n",
    "                new_columns.append(product_sum[j]['info'])\n",
    "        except:\n",
    "            pass\n",
    "    if df.product_tech_spec[i] is not None:\n",
    "        product_tech = df.product_tech_spec[i]\n",
    "        y = len(product_tech)  \n",
    "        for j in range(y):\n",
    "            new_columns.append(product_tech[j]['info'])\n",
    "    if df.product_addl_info[i] is not None:\n",
    "        product_add = df.product_addl_info[i]\n",
    "        z = len(product_add)  \n",
    "        for j in range(z):\n",
    "            new_columns.append(product_add[j]['info'])"
   ]
  },
  {
   "cell_type": "code",
   "execution_count": 63,
   "metadata": {},
   "outputs": [],
   "source": [
    "for i in range(len(new_columns)):\n",
    "    if new_columns[i] is not None:\n",
    "        new_columns[i] = new_columns[i].lower()\n",
    "new_columns = set(new_columns) "
   ]
  },
  {
   "cell_type": "code",
   "execution_count": 64,
   "metadata": {},
   "outputs": [],
   "source": [
    "new_columns = list(new_columns)"
   ]
  },
  {
   "cell_type": "code",
   "execution_count": 65,
   "metadata": {},
   "outputs": [],
   "source": [
    "try:\n",
    "    new_columns.remove(None)\n",
    "except:\n",
    "    pass"
   ]
  },
  {
   "cell_type": "code",
   "execution_count": 66,
   "metadata": {},
   "outputs": [],
   "source": [
    "for i in new_columns:\n",
    "    df[i] = i\n",
    "    df[i] = ''"
   ]
  },
  {
   "cell_type": "code",
   "execution_count": 67,
   "metadata": {},
   "outputs": [],
   "source": [
    "for i in range(len(df)):\n",
    "    if df.product_summary[i] is not None:\n",
    "        try:\n",
    "            psc = []\n",
    "            product_sum = df.product_summary[i]\n",
    "            product_sum = pd.DataFrame(product_sum)\n",
    "            product_sum = product_sum.transpose()\n",
    "            psc_len = len(product_sum.columns)  # collecting number of columns in product_sum / items in df.product_summary\n",
    "            for j in range(psc_len):            # getting item / column names\n",
    "                psc.append(product_sum[j][0])\n",
    "            for k in range(len(psc)):           # setting item / column names in lower cases for transfer of values into correct df columns\n",
    "                if psc[k] is not None:\n",
    "                    psc[k] = psc[k].lower()\n",
    "            product_sum.columns = product_sum.iloc[0] # Turns row 1 into column names\n",
    "            product_sum = product_sum.drop('info') # Drops row 1\n",
    "            product_sum.columns = psc\n",
    "            for l in psc: \n",
    "                try:\n",
    "                    df[l][i] = product_sum[l]['value']\n",
    "                except:\n",
    "                    continue\n",
    "        except:\n",
    "            pass\n",
    "    if df.product_tech_spec[i] is not None:\n",
    "        ptc = []\n",
    "        product_tec = df.product_tech_spec[i]\n",
    "        product_tec = pd.DataFrame(product_tec)\n",
    "        product_tec = product_tec.transpose()\n",
    "        ptc_len = len(product_tec.columns)  # collecting number of columns in product_tec / items in df.product_tech_spec\n",
    "        for j in range(ptc_len):            # getting item / column names\n",
    "            ptc.append(product_tec[j][0])\n",
    "        for k in range(len(ptc)):           # setting item / column names in lower cases for transfer of values into correct df columns\n",
    "            if ptc[k] is not None:\n",
    "                ptc[k] = ptc[k].lower()\n",
    "        product_tec.columns = product_tec.iloc[0] # Turns row 1 into column names\n",
    "        product_tec = product_tec.drop('info') # Drops row 1\n",
    "        product_tec.columns = ptc\n",
    "        for l in ptc:   ## What does this loop through??? I need the column name, but I have to stay within one row!!!\n",
    "            try:\n",
    "                df[l][i] = product_tec[l]['value']\n",
    "            except:\n",
    "                continue\n",
    "    if df.product_addl_info[i] is not None:\n",
    "        pac = []\n",
    "        product_add = df.product_addl_info[i]\n",
    "        product_add = pd.DataFrame(product_add)\n",
    "        product_add = product_add.transpose()\n",
    "        pac_len = len(product_add.columns)  # collecting number of columns in product_tec / items in df.product_tech_spec\n",
    "        for j in range(pac_len):            # getting item / column names\n",
    "            pac.append(product_add[j][0])\n",
    "        for k in range(len(pac)):           # setting item / column names in lower cases for transfer of values into correct df columns\n",
    "            if pac[k] is not None:\n",
    "                pac[k] = pac[k].lower()\n",
    "        product_add.columns = product_add.iloc[0] # Turns row 1 into column names\n",
    "        product_add = product_add.drop('info') # Drops row 1\n",
    "        product_add.columns = pac\n",
    "        for l in pac:   ## What does this loop through??? I need the column name, but I have to stay within one row!!!\n",
    "            try:\n",
    "                df[l][i] = product_add[l]['value']\n",
    "            except:\n",
    "                continue"
   ]
  },
  {
   "cell_type": "code",
   "execution_count": 68,
   "metadata": {},
   "outputs": [],
   "source": [
    "df.rename(columns = {'asin' : 'ASIN'}, inplace = True)"
   ]
  },
  {
   "cell_type": "code",
   "execution_count": 69,
   "metadata": {},
   "outputs": [],
   "source": [
    "for i in range(len(df)):\n",
    "    if df['customer reviews'][i] is not None:\n",
    "        try:\n",
    "            res = [re.findall(r'(\\d+).(\\d+) out of 5 stars', df['customer reviews'][i])[0] ]\n",
    "            a = res[0][0]\n",
    "            b = res[0][1]\n",
    "            c = float(a+'.'+b)\n",
    "            df['customer reviews'][i] = c\n",
    "        except:\n",
    "            pass\n",
    "df.rename(columns = {'customer reviews' : 'rating'}, inplace = True)"
   ]
  },
  {
   "cell_type": "code",
   "execution_count": 70,
   "metadata": {},
   "outputs": [],
   "source": [
    "df = df.drop(['product_summary', 'product_tech_spec', 'product_addl_info'], axis = 1)"
   ]
  },
  {
   "cell_type": "code",
   "execution_count": 71,
   "metadata": {},
   "outputs": [],
   "source": [
    "for i in range(len(df)):\n",
    "    if df.name[i] is None:\n",
    "        df = df.drop([i], axis = 0)"
   ]
  },
  {
   "cell_type": "code",
   "execution_count": 72,
   "metadata": {},
   "outputs": [],
   "source": [
    "# Creating dataframe with links to all customer reviews for saving in additional CSV-file\n",
    "\n",
    "df_phone_customer_reviews_link = df.link_to_all_reviews\n",
    "df_phone_customer_reviews_link = df_phone_customer_reviews_link.dropna()\n",
    "df_phone_customer_reviews_link.reset_index(drop=True, inplace = True)"
   ]
  },
  {
   "cell_type": "code",
   "execution_count": 73,
   "metadata": {},
   "outputs": [],
   "source": [
    "df_phone_bought_together = df[['ASIN', 'name', 'freq_bought', 'freq_bought_link']]"
   ]
  },
  {
   "cell_type": "code",
   "execution_count": 74,
   "metadata": {},
   "outputs": [],
   "source": [
    "df.to_csv(csv_filename)\n",
    "df_phone_customer_reviews_link.to_csv(csv_customer_reviews) # actually not necessary anymore since there's being a txt-file created\n",
    "df_phone_bought_together.to_csv(csv_bought_together)"
   ]
  },
  {
   "cell_type": "code",
   "execution_count": 75,
   "metadata": {},
   "outputs": [],
   "source": [
    "f = open(txt_customer_reviews, 'w+')\n",
    "\n",
    "for i in range(len(df_phone_customer_reviews_link)):\n",
    "    f.write(df_phone_customer_reviews_link[i])\n",
    "    f.write('\\n')\n",
    "\n",
    "f.close()"
   ]
  },
  {
   "cell_type": "code",
   "execution_count": 76,
   "metadata": {},
   "outputs": [
    {
     "output_type": "execute_result",
     "data": {
      "text/plain": [
       "      Unnamed: 0                                               name  \\\n",
       "0              0  Net10 Samsung Galaxy A01 4G LTE Prepaid Smartp...   \n",
       "1              1  Net10 Samsung Galaxy A10e 4G LTE Prepaid Smart...   \n",
       "2              2  Samsung Galaxy S21+ Plus 5G | Factory Unlocked...   \n",
       "3              3  Moto G Power | 3-Day Battery1 | Unlocked | Mad...   \n",
       "4              4  Google Pixel 4a - New Unlocked Android Smartph...   \n",
       "...          ...                                                ...   \n",
       "3054        3064  Honor View 20 PCT-L29 Dual-SIM (256GB ROM/8GB ...   \n",
       "3055        3065             LG K30 16GB Unlocked GSM Phone - Black   \n",
       "3056        3066  A70 Pro Smartphone, Dual SIM Unlocked Mobile P...   \n",
       "3057        3067  Unlocked Cell Phones(8GB/128GB), CUBOT Note 20...   \n",
       "3058        3068  JR TECHNIK iPhone Charger, Lightning Cable MFi...   \n",
       "\n",
       "             seller                                        seller_link  \\\n",
       "0               NaN                                                NaN   \n",
       "1               NaN                                                NaN   \n",
       "2               NaN                                                NaN   \n",
       "3        CellTastic  https://www.amazon.com/gp/help/seller/at-a-gla...   \n",
       "4               NaN                                                NaN   \n",
       "...             ...                                                ...   \n",
       "3054            NaN                                                NaN   \n",
       "3055            NaN                                                NaN   \n",
       "3056            NaN                                                NaN   \n",
       "3057     Ju2mei USA  https://www.amazon.com/gp/help/seller/at-a-gla...   \n",
       "3058  Eleacces Tech  https://www.amazon.com/gp/help/seller/at-a-gla...   \n",
       "\n",
       "                                            freq_bought  \\\n",
       "0     Galaxy A01 Case, with HD Screen Protector, SKT...   \n",
       "1     Simple Mobile Samsung Galaxy A10e 4G LTE Prepa...   \n",
       "2                                                   NaN   \n",
       "3     Moto G Power case,Motorola G Power case,with H...   \n",
       "4                                                   NaN   \n",
       "...                                                 ...   \n",
       "3054                                                NaN   \n",
       "3055                                                NaN   \n",
       "3056                                                NaN   \n",
       "3057                                                NaN   \n",
       "3058  USB Wall Charger, LUOATIP 3-Pack 2.1A/5V Dual ...   \n",
       "\n",
       "                                       freq_bought_link  \\\n",
       "0     /Protector-SKTGSLAMY-Shockproof-Protective-Kic...   \n",
       "1     /Simple-Mobile-Samsung-Prepaid-Smartphone/dp/B...   \n",
       "2                                                   NaN   \n",
       "3     https://www.amazon.com/Motorola-Protector-MAIK...   \n",
       "4                                                   NaN   \n",
       "...                                                 ...   \n",
       "3054                                                NaN   \n",
       "3055                                                NaN   \n",
       "3056                                                NaN   \n",
       "3057                                                NaN   \n",
       "3058  https://www.amazon.com/Charger-LUOATIP-Adapter...   \n",
       "\n",
       "                                    link_to_all_reviews  gpu        ASIN  \\\n",
       "0     https://www.amazon.com//Net10-Samsung-Galaxy-P...  NaN  B08CL51X7Y   \n",
       "1     https://www.amazon.com//Net10-Samsung-Galaxy-P...  NaN  B07Y5R4PWV   \n",
       "2     https://www.amazon.com//Samsung-Unlocked-Smart...  NaN  B08N387GNG   \n",
       "3     https://www.amazon.com//Power-Battery1-Unlocke...  NaN  B084D89DBF   \n",
       "4     https://www.amazon.com//Google-Pixel-4a-Unlock...  NaN  B08CFSZLQ4   \n",
       "...                                                 ...  ...         ...   \n",
       "3054  https://www.amazon.com//Honor-PCT-L29-Dual-SIM...  NaN  B07MHQXR6F   \n",
       "3055  https://www.amazon.com//LG-K30-16GB-Unlocked-P...  NaN  B07XCNS3SZ   \n",
       "3056                                                NaN  NaN  B08G8KDMQC   \n",
       "3057  https://www.amazon.com//Unlocked-CUBOT-Smartph...  NaN  B08QZHQWLJ   \n",
       "3058  https://www.amazon.com//JR-TECHNIK-Lightning-C...  NaN  B07YDMYM1L   \n",
       "\n",
       "     department  ... phone standy time (with data)  item weight   ram  \\\n",
       "0           NaN  ...                           NaN  12.8 ounces   NaN   \n",
       "1           NaN  ...                           NaN  1.61 pounds   NaN   \n",
       "2           NaN  ...                           NaN   8.1 ounces   NaN   \n",
       "3           NaN  ...                           NaN     7 ounces  4 GB   \n",
       "4           NaN  ...                           NaN   4.9 ounces  6 GB   \n",
       "...         ...  ...                           ...          ...   ...   \n",
       "3054        NaN  ...                           NaN   6.3 ounces  8 GB   \n",
       "3055        NaN  ...                           NaN  11.5 ounces   NaN   \n",
       "3056        NaN  ...                           NaN   1.1 pounds   NaN   \n",
       "3057        NaN  ...                           NaN   7.1 ounces  8 GB   \n",
       "3058        NaN  ...                           NaN   6.1 ounces   NaN   \n",
       "\n",
       "      standing screen display size         product dimensions  \\\n",
       "0                              NaN  6.75 x 2.5 x 10.38 inches   \n",
       "1                              NaN  6.75 x 2.5 x 10.38 inches   \n",
       "2                              NaN    7.1 x 3.6 x 2.44 inches   \n",
       "3                              NaN  6.29 x 2.99 x 0.38 inches   \n",
       "4                              NaN     5.7 x 2.7 x 0.3 inches   \n",
       "...                            ...                        ...   \n",
       "3054                           NaN  0.32 x 2.97 x 6.18 inches   \n",
       "3055                           NaN                        NaN   \n",
       "3056                           NaN                        NaN   \n",
       "3057                           NaN  6.14 x 3.03 x 0.36 inches   \n",
       "3058                           NaN                        NaN   \n",
       "\n",
       "              form factor graphics coprocessor  \\\n",
       "0              Smartphone                  NaN   \n",
       "1              Smartphone                  NaN   \n",
       "2                     NaN                  NaN   \n",
       "3              Smartphone                  NaN   \n",
       "4              Smartphone                  NaN   \n",
       "...                   ...                  ...   \n",
       "3054           Smartphone                  NaN   \n",
       "3055           Smartphone                  NaN   \n",
       "3056           Smartphone                  NaN   \n",
       "3057  6.13*3.03*0.36 inch                  NaN   \n",
       "3058                  NaN                  NaN   \n",
       "\n",
       "     wireless communication technologies            os   gps  \n",
       "0             Cellular, Bluetooth, Wi-Fi       Android  True  \n",
       "1                                    NaN       Android  True  \n",
       "2                                    NaN           NaN   NaN  \n",
       "3                                  Wi-Fi       Android   NaN  \n",
       "4               4G, Bluetooth, Wifi, NFC       Android   NaN  \n",
       "...                                  ...           ...   ...  \n",
       "3054                            Cellular       Android   NaN  \n",
       "3055                            Cellular           NaN   NaN  \n",
       "3056                            Cellular       Android   NaN  \n",
       "3057     Cellular, Bluetooth, Wi-Fi, NFC  Android 10.0  True  \n",
       "3058                                 NaN           NaN   NaN  \n",
       "\n",
       "[3059 rows x 69 columns]"
      ],
      "text/html": "<div>\n<style scoped>\n    .dataframe tbody tr th:only-of-type {\n        vertical-align: middle;\n    }\n\n    .dataframe tbody tr th {\n        vertical-align: top;\n    }\n\n    .dataframe thead th {\n        text-align: right;\n    }\n</style>\n<table border=\"1\" class=\"dataframe\">\n  <thead>\n    <tr style=\"text-align: right;\">\n      <th></th>\n      <th>Unnamed: 0</th>\n      <th>name</th>\n      <th>seller</th>\n      <th>seller_link</th>\n      <th>freq_bought</th>\n      <th>freq_bought_link</th>\n      <th>link_to_all_reviews</th>\n      <th>gpu</th>\n      <th>ASIN</th>\n      <th>department</th>\n      <th>...</th>\n      <th>phone standy time (with data)</th>\n      <th>item weight</th>\n      <th>ram</th>\n      <th>standing screen display size</th>\n      <th>product dimensions</th>\n      <th>form factor</th>\n      <th>graphics coprocessor</th>\n      <th>wireless communication technologies</th>\n      <th>os</th>\n      <th>gps</th>\n    </tr>\n  </thead>\n  <tbody>\n    <tr>\n      <th>0</th>\n      <td>0</td>\n      <td>Net10 Samsung Galaxy A01 4G LTE Prepaid Smartp...</td>\n      <td>NaN</td>\n      <td>NaN</td>\n      <td>Galaxy A01 Case, with HD Screen Protector, SKT...</td>\n      <td>/Protector-SKTGSLAMY-Shockproof-Protective-Kic...</td>\n      <td>https://www.amazon.com//Net10-Samsung-Galaxy-P...</td>\n      <td>NaN</td>\n      <td>B08CL51X7Y</td>\n      <td>NaN</td>\n      <td>...</td>\n      <td>NaN</td>\n      <td>12.8 ounces</td>\n      <td>NaN</td>\n      <td>NaN</td>\n      <td>6.75 x 2.5 x 10.38 inches</td>\n      <td>Smartphone</td>\n      <td>NaN</td>\n      <td>Cellular, Bluetooth, Wi-Fi</td>\n      <td>Android</td>\n      <td>True</td>\n    </tr>\n    <tr>\n      <th>1</th>\n      <td>1</td>\n      <td>Net10 Samsung Galaxy A10e 4G LTE Prepaid Smart...</td>\n      <td>NaN</td>\n      <td>NaN</td>\n      <td>Simple Mobile Samsung Galaxy A10e 4G LTE Prepa...</td>\n      <td>/Simple-Mobile-Samsung-Prepaid-Smartphone/dp/B...</td>\n      <td>https://www.amazon.com//Net10-Samsung-Galaxy-P...</td>\n      <td>NaN</td>\n      <td>B07Y5R4PWV</td>\n      <td>NaN</td>\n      <td>...</td>\n      <td>NaN</td>\n      <td>1.61 pounds</td>\n      <td>NaN</td>\n      <td>NaN</td>\n      <td>6.75 x 2.5 x 10.38 inches</td>\n      <td>Smartphone</td>\n      <td>NaN</td>\n      <td>NaN</td>\n      <td>Android</td>\n      <td>True</td>\n    </tr>\n    <tr>\n      <th>2</th>\n      <td>2</td>\n      <td>Samsung Galaxy S21+ Plus 5G | Factory Unlocked...</td>\n      <td>NaN</td>\n      <td>NaN</td>\n      <td>NaN</td>\n      <td>NaN</td>\n      <td>https://www.amazon.com//Samsung-Unlocked-Smart...</td>\n      <td>NaN</td>\n      <td>B08N387GNG</td>\n      <td>NaN</td>\n      <td>...</td>\n      <td>NaN</td>\n      <td>8.1 ounces</td>\n      <td>NaN</td>\n      <td>NaN</td>\n      <td>7.1 x 3.6 x 2.44 inches</td>\n      <td>NaN</td>\n      <td>NaN</td>\n      <td>NaN</td>\n      <td>NaN</td>\n      <td>NaN</td>\n    </tr>\n    <tr>\n      <th>3</th>\n      <td>3</td>\n      <td>Moto G Power | 3-Day Battery1 | Unlocked | Mad...</td>\n      <td>CellTastic</td>\n      <td>https://www.amazon.com/gp/help/seller/at-a-gla...</td>\n      <td>Moto G Power case,Motorola G Power case,with H...</td>\n      <td>https://www.amazon.com/Motorola-Protector-MAIK...</td>\n      <td>https://www.amazon.com//Power-Battery1-Unlocke...</td>\n      <td>NaN</td>\n      <td>B084D89DBF</td>\n      <td>NaN</td>\n      <td>...</td>\n      <td>NaN</td>\n      <td>7 ounces</td>\n      <td>4 GB</td>\n      <td>NaN</td>\n      <td>6.29 x 2.99 x 0.38 inches</td>\n      <td>Smartphone</td>\n      <td>NaN</td>\n      <td>Wi-Fi</td>\n      <td>Android</td>\n      <td>NaN</td>\n    </tr>\n    <tr>\n      <th>4</th>\n      <td>4</td>\n      <td>Google Pixel 4a - New Unlocked Android Smartph...</td>\n      <td>NaN</td>\n      <td>NaN</td>\n      <td>NaN</td>\n      <td>NaN</td>\n      <td>https://www.amazon.com//Google-Pixel-4a-Unlock...</td>\n      <td>NaN</td>\n      <td>B08CFSZLQ4</td>\n      <td>NaN</td>\n      <td>...</td>\n      <td>NaN</td>\n      <td>4.9 ounces</td>\n      <td>6 GB</td>\n      <td>NaN</td>\n      <td>5.7 x 2.7 x 0.3 inches</td>\n      <td>Smartphone</td>\n      <td>NaN</td>\n      <td>4G, Bluetooth, Wifi, NFC</td>\n      <td>Android</td>\n      <td>NaN</td>\n    </tr>\n    <tr>\n      <th>...</th>\n      <td>...</td>\n      <td>...</td>\n      <td>...</td>\n      <td>...</td>\n      <td>...</td>\n      <td>...</td>\n      <td>...</td>\n      <td>...</td>\n      <td>...</td>\n      <td>...</td>\n      <td>...</td>\n      <td>...</td>\n      <td>...</td>\n      <td>...</td>\n      <td>...</td>\n      <td>...</td>\n      <td>...</td>\n      <td>...</td>\n      <td>...</td>\n      <td>...</td>\n      <td>...</td>\n    </tr>\n    <tr>\n      <th>3054</th>\n      <td>3064</td>\n      <td>Honor View 20 PCT-L29 Dual-SIM (256GB ROM/8GB ...</td>\n      <td>NaN</td>\n      <td>NaN</td>\n      <td>NaN</td>\n      <td>NaN</td>\n      <td>https://www.amazon.com//Honor-PCT-L29-Dual-SIM...</td>\n      <td>NaN</td>\n      <td>B07MHQXR6F</td>\n      <td>NaN</td>\n      <td>...</td>\n      <td>NaN</td>\n      <td>6.3 ounces</td>\n      <td>8 GB</td>\n      <td>NaN</td>\n      <td>0.32 x 2.97 x 6.18 inches</td>\n      <td>Smartphone</td>\n      <td>NaN</td>\n      <td>Cellular</td>\n      <td>Android</td>\n      <td>NaN</td>\n    </tr>\n    <tr>\n      <th>3055</th>\n      <td>3065</td>\n      <td>LG K30 16GB Unlocked GSM Phone - Black</td>\n      <td>NaN</td>\n      <td>NaN</td>\n      <td>NaN</td>\n      <td>NaN</td>\n      <td>https://www.amazon.com//LG-K30-16GB-Unlocked-P...</td>\n      <td>NaN</td>\n      <td>B07XCNS3SZ</td>\n      <td>NaN</td>\n      <td>...</td>\n      <td>NaN</td>\n      <td>11.5 ounces</td>\n      <td>NaN</td>\n      <td>NaN</td>\n      <td>NaN</td>\n      <td>Smartphone</td>\n      <td>NaN</td>\n      <td>Cellular</td>\n      <td>NaN</td>\n      <td>NaN</td>\n    </tr>\n    <tr>\n      <th>3056</th>\n      <td>3066</td>\n      <td>A70 Pro Smartphone, Dual SIM Unlocked Mobile P...</td>\n      <td>NaN</td>\n      <td>NaN</td>\n      <td>NaN</td>\n      <td>NaN</td>\n      <td>NaN</td>\n      <td>NaN</td>\n      <td>B08G8KDMQC</td>\n      <td>NaN</td>\n      <td>...</td>\n      <td>NaN</td>\n      <td>1.1 pounds</td>\n      <td>NaN</td>\n      <td>NaN</td>\n      <td>NaN</td>\n      <td>Smartphone</td>\n      <td>NaN</td>\n      <td>Cellular</td>\n      <td>Android</td>\n      <td>NaN</td>\n    </tr>\n    <tr>\n      <th>3057</th>\n      <td>3067</td>\n      <td>Unlocked Cell Phones(8GB/128GB), CUBOT Note 20...</td>\n      <td>Ju2mei USA</td>\n      <td>https://www.amazon.com/gp/help/seller/at-a-gla...</td>\n      <td>NaN</td>\n      <td>NaN</td>\n      <td>https://www.amazon.com//Unlocked-CUBOT-Smartph...</td>\n      <td>NaN</td>\n      <td>B08QZHQWLJ</td>\n      <td>NaN</td>\n      <td>...</td>\n      <td>NaN</td>\n      <td>7.1 ounces</td>\n      <td>8 GB</td>\n      <td>NaN</td>\n      <td>6.14 x 3.03 x 0.36 inches</td>\n      <td>6.13*3.03*0.36 inch</td>\n      <td>NaN</td>\n      <td>Cellular, Bluetooth, Wi-Fi, NFC</td>\n      <td>Android 10.0</td>\n      <td>True</td>\n    </tr>\n    <tr>\n      <th>3058</th>\n      <td>3068</td>\n      <td>JR TECHNIK iPhone Charger, Lightning Cable MFi...</td>\n      <td>Eleacces Tech</td>\n      <td>https://www.amazon.com/gp/help/seller/at-a-gla...</td>\n      <td>USB Wall Charger, LUOATIP 3-Pack 2.1A/5V Dual ...</td>\n      <td>https://www.amazon.com/Charger-LUOATIP-Adapter...</td>\n      <td>https://www.amazon.com//JR-TECHNIK-Lightning-C...</td>\n      <td>NaN</td>\n      <td>B07YDMYM1L</td>\n      <td>NaN</td>\n      <td>...</td>\n      <td>NaN</td>\n      <td>6.1 ounces</td>\n      <td>NaN</td>\n      <td>NaN</td>\n      <td>NaN</td>\n      <td>NaN</td>\n      <td>NaN</td>\n      <td>NaN</td>\n      <td>NaN</td>\n      <td>NaN</td>\n    </tr>\n  </tbody>\n</table>\n<p>3059 rows × 69 columns</p>\n</div>"
     },
     "metadata": {},
     "execution_count": 76
    }
   ],
   "source": [
    "df2 = pd.read_csv(csv_filename)\n",
    "df2"
   ]
  },
  {
   "cell_type": "code",
   "execution_count": 82,
   "metadata": {},
   "outputs": [],
   "source": [
    "iPhone = df[df['name'].str.contains('Apple iPhone')]"
   ]
  },
  {
   "cell_type": "code",
   "execution_count": 83,
   "metadata": {},
   "outputs": [
    {
     "output_type": "execute_result",
     "data": {
      "text/plain": [
       "67"
      ]
     },
     "metadata": {},
     "execution_count": 83
    }
   ],
   "source": [
    "len(iPhone)"
   ]
  },
  {
   "cell_type": "code",
   "execution_count": 87,
   "metadata": {},
   "outputs": [
    {
     "output_type": "execute_result",
     "data": {
      "text/plain": [
       "(3059, 69)"
      ]
     },
     "metadata": {},
     "execution_count": 87
    }
   ],
   "source": [
    "df.shape"
   ]
  },
  {
   "cell_type": "code",
   "execution_count": 86,
   "metadata": {},
   "outputs": [],
   "source": [
    "df = df.drop_duplicates()"
   ]
  }
 ]
}