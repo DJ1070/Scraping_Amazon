{
 "metadata": {
  "language_info": {
   "codemirror_mode": {
    "name": "ipython",
    "version": 3
   },
   "file_extension": ".py",
   "mimetype": "text/x-python",
   "name": "python",
   "nbconvert_exporter": "python",
   "pygments_lexer": "ipython3",
   "version": "3.8.5-final"
  },
  "orig_nbformat": 2,
  "kernelspec": {
   "name": "python3",
   "display_name": "Python 3.8.5 64-bit (conda)",
   "metadata": {
    "interpreter": {
     "hash": "b3ba2566441a7c06988d0923437866b63cedc61552a5af99d1f4fb67d367b25f"
    }
   }
  }
 },
 "nbformat": 4,
 "nbformat_minor": 2,
 "cells": [
  {
   "cell_type": "code",
   "execution_count": 2,
   "metadata": {},
   "outputs": [],
   "source": [
    "import pandas as pd\n",
    "import numpy as np"
   ]
  },
  {
   "cell_type": "code",
   "execution_count": 151,
   "metadata": {},
   "outputs": [],
   "source": [
    "filename = \"summary_all.csv\"\n",
    "df = pd.read_csv(filename)"
   ]
  },
  {
   "cell_type": "code",
   "execution_count": 175,
   "metadata": {},
   "outputs": [
    {
     "output_type": "execute_result",
     "data": {
      "text/plain": [
       "B0043T7FXE     True\n",
       "B003L62T7W     True\n",
       "B08C9T1SJ9     True\n",
       "B07XY5HLLR     True\n",
       "B07T541PXC     True\n",
       "              ...  \n",
       "B07JNBCJ77    False\n",
       "B08PTND3BR    False\n",
       "B00JFOFJT4    False\n",
       "B078ZCMVN6    False\n",
       "B00FEMYST8    False\n",
       "Name: ASIN, Length: 32536, dtype: bool"
      ]
     },
     "metadata": {},
     "execution_count": 175
    }
   ],
   "source": [
    "ser1 = df.ASIN.value_counts() > 1\n",
    "\n",
    "ser1"
   ]
  },
  {
   "cell_type": "code",
   "execution_count": 189,
   "metadata": {},
   "outputs": [
    {
     "output_type": "execute_result",
     "data": {
      "text/plain": [
       "998"
      ]
     },
     "metadata": {},
     "execution_count": 189
    }
   ],
   "source": [
    "len(ser1.index[ser1.values])"
   ]
  },
  {
   "cell_type": "code",
   "execution_count": 193,
   "metadata": {},
   "outputs": [
    {
     "output_type": "execute_result",
     "data": {
      "text/plain": [
       "(1996, 6)"
      ]
     },
     "metadata": {},
     "execution_count": 193
    }
   ],
   "source": [
    "to_drop = ser1.index[ser1.values].to_numpy().tolist()\n",
    "len(to_drop)\n",
    "df[df['ASIN'].isin(to_drop)].shape"
   ]
  },
  {
   "cell_type": "code",
   "execution_count": 194,
   "metadata": {},
   "outputs": [
    {
     "output_type": "execute_result",
     "data": {
      "text/plain": [
       "(943, 6)"
      ]
     },
     "metadata": {},
     "execution_count": 194
    }
   ],
   "source": [
    "df[df['ASIN'].isin(to_drop)].dropna(subset = ['price']).shape"
   ]
  },
  {
   "cell_type": "code",
   "execution_count": 195,
   "metadata": {},
   "outputs": [
    {
     "output_type": "execute_result",
     "data": {
      "text/plain": [
       "       Unnamed: 0        ASIN  \\\n",
       "1214         1214  B087FFFP62   \n",
       "1679         1679  B07MK99R14   \n",
       "1789         1789  B07TYXS7KJ   \n",
       "2225         2225  B01MDUI2U1   \n",
       "3197         3197  B08CDT76X6   \n",
       "...           ...         ...   \n",
       "33256       33256  B075NLM1TD   \n",
       "33265       33265  B08CD4CM8G   \n",
       "33273       33273  B004AX6L2Y   \n",
       "33279       33279  B07QC4GZCC   \n",
       "33399       33399  B0174AUAWG   \n",
       "\n",
       "                                                   title    price  rating  \\\n",
       "1214   1080P Webcam with Microphone, PC Laptop Deskto...    19.19     3.8   \n",
       "1679   USB 3.0 SD Card Reader for PC, Laptop, Mac, Wi...     6.59     4.6   \n",
       "1789   SD Card Reader, Tvird - 4 in 1 SD/TF Memory Ca...     9.99     4.2   \n",
       "2225              Fila Vertex Tablet and Laptop Backpack    38.15     4.6   \n",
       "3197   Full HD 1080P PC Camera with Microphone, Video...    19.38     4.6   \n",
       "...                                                  ...      ...     ...   \n",
       "33256  20V 3.25A 65W(20V 2.25A 45W) Replacement Ac Ad...    19.99     4.4   \n",
       "33265  New 15.6inch Laptop - Intel Quad-CPU Intel Cel...   339.99     3.9   \n",
       "33273  Pwr+ Charger for Samsung Laptop Computer Power...    22.90     4.5   \n",
       "33279  MSI GE75 Raider-287 17.3inch Gaming Laptop, 14...  1389.99     4.5   \n",
       "33399  RCA Viking Pro 10inch 2-in-1 Tablet 32GB Quad ...   179.00     4.0   \n",
       "\n",
       "       review_count  \n",
       "1214             35  \n",
       "1679           2096  \n",
       "1789            571  \n",
       "2225             54  \n",
       "3197             16  \n",
       "...             ...  \n",
       "33256           262  \n",
       "33265            73  \n",
       "33273           173  \n",
       "33279            55  \n",
       "33399           876  \n",
       "\n",
       "[943 rows x 6 columns]"
      ],
      "text/html": "<div>\n<style scoped>\n    .dataframe tbody tr th:only-of-type {\n        vertical-align: middle;\n    }\n\n    .dataframe tbody tr th {\n        vertical-align: top;\n    }\n\n    .dataframe thead th {\n        text-align: right;\n    }\n</style>\n<table border=\"1\" class=\"dataframe\">\n  <thead>\n    <tr style=\"text-align: right;\">\n      <th></th>\n      <th>Unnamed: 0</th>\n      <th>ASIN</th>\n      <th>title</th>\n      <th>price</th>\n      <th>rating</th>\n      <th>review_count</th>\n    </tr>\n  </thead>\n  <tbody>\n    <tr>\n      <th>1214</th>\n      <td>1214</td>\n      <td>B087FFFP62</td>\n      <td>1080P Webcam with Microphone, PC Laptop Deskto...</td>\n      <td>19.19</td>\n      <td>3.8</td>\n      <td>35</td>\n    </tr>\n    <tr>\n      <th>1679</th>\n      <td>1679</td>\n      <td>B07MK99R14</td>\n      <td>USB 3.0 SD Card Reader for PC, Laptop, Mac, Wi...</td>\n      <td>6.59</td>\n      <td>4.6</td>\n      <td>2096</td>\n    </tr>\n    <tr>\n      <th>1789</th>\n      <td>1789</td>\n      <td>B07TYXS7KJ</td>\n      <td>SD Card Reader, Tvird - 4 in 1 SD/TF Memory Ca...</td>\n      <td>9.99</td>\n      <td>4.2</td>\n      <td>571</td>\n    </tr>\n    <tr>\n      <th>2225</th>\n      <td>2225</td>\n      <td>B01MDUI2U1</td>\n      <td>Fila Vertex Tablet and Laptop Backpack</td>\n      <td>38.15</td>\n      <td>4.6</td>\n      <td>54</td>\n    </tr>\n    <tr>\n      <th>3197</th>\n      <td>3197</td>\n      <td>B08CDT76X6</td>\n      <td>Full HD 1080P PC Camera with Microphone, Video...</td>\n      <td>19.38</td>\n      <td>4.6</td>\n      <td>16</td>\n    </tr>\n    <tr>\n      <th>...</th>\n      <td>...</td>\n      <td>...</td>\n      <td>...</td>\n      <td>...</td>\n      <td>...</td>\n      <td>...</td>\n    </tr>\n    <tr>\n      <th>33256</th>\n      <td>33256</td>\n      <td>B075NLM1TD</td>\n      <td>20V 3.25A 65W(20V 2.25A 45W) Replacement Ac Ad...</td>\n      <td>19.99</td>\n      <td>4.4</td>\n      <td>262</td>\n    </tr>\n    <tr>\n      <th>33265</th>\n      <td>33265</td>\n      <td>B08CD4CM8G</td>\n      <td>New 15.6inch Laptop - Intel Quad-CPU Intel Cel...</td>\n      <td>339.99</td>\n      <td>3.9</td>\n      <td>73</td>\n    </tr>\n    <tr>\n      <th>33273</th>\n      <td>33273</td>\n      <td>B004AX6L2Y</td>\n      <td>Pwr+ Charger for Samsung Laptop Computer Power...</td>\n      <td>22.90</td>\n      <td>4.5</td>\n      <td>173</td>\n    </tr>\n    <tr>\n      <th>33279</th>\n      <td>33279</td>\n      <td>B07QC4GZCC</td>\n      <td>MSI GE75 Raider-287 17.3inch Gaming Laptop, 14...</td>\n      <td>1389.99</td>\n      <td>4.5</td>\n      <td>55</td>\n    </tr>\n    <tr>\n      <th>33399</th>\n      <td>33399</td>\n      <td>B0174AUAWG</td>\n      <td>RCA Viking Pro 10inch 2-in-1 Tablet 32GB Quad ...</td>\n      <td>179.00</td>\n      <td>4.0</td>\n      <td>876</td>\n    </tr>\n  </tbody>\n</table>\n<p>943 rows × 6 columns</p>\n</div>"
     },
     "metadata": {},
     "execution_count": 195
    }
   ],
   "source": [
    "# duplicates with price \n",
    "df[df['ASIN'].isin(to_drop)].dropna(subset = ['price'])"
   ]
  },
  {
   "cell_type": "code",
   "execution_count": null,
   "metadata": {},
   "outputs": [],
   "source": [
    "df[df['ASIN'].isin(to_drop)]"
   ]
  },
  {
   "cell_type": "code",
   "execution_count": 186,
   "metadata": {},
   "outputs": [
    {
     "output_type": "execute_result",
     "data": {
      "text/plain": [
       "(31538, 6)"
      ]
     },
     "metadata": {},
     "execution_count": 186
    }
   ],
   "source": [
    "df[~df['ASIN'].isin(to_drop)].shape"
   ]
  },
  {
   "cell_type": "code",
   "execution_count": 148,
   "metadata": {},
   "outputs": [],
   "source": [
    "list1 = df.ASIN.value_counts(ascending = False)"
   ]
  },
  {
   "cell_type": "code",
   "execution_count": 149,
   "metadata": {},
   "outputs": [],
   "source": [
    "list1 = pd.DataFrame(list)"
   ]
  },
  {
   "cell_type": "code",
   "execution_count": 150,
   "metadata": {},
   "outputs": [
    {
     "output_type": "execute_result",
     "data": {
      "text/plain": [
       "            ASIN\n",
       "B0043T7FXE     2\n",
       "B003L62T7W     2\n",
       "B08C9T1SJ9     2\n",
       "B07XY5HLLR     2\n",
       "B07T541PXC     2\n",
       "...          ...\n",
       "B07JNBCJ77     1\n",
       "B08PTND3BR     1\n",
       "B00JFOFJT4     1\n",
       "B078ZCMVN6     1\n",
       "B00FEMYST8     1\n",
       "\n",
       "[32536 rows x 1 columns]"
      ],
      "text/html": "<div>\n<style scoped>\n    .dataframe tbody tr th:only-of-type {\n        vertical-align: middle;\n    }\n\n    .dataframe tbody tr th {\n        vertical-align: top;\n    }\n\n    .dataframe thead th {\n        text-align: right;\n    }\n</style>\n<table border=\"1\" class=\"dataframe\">\n  <thead>\n    <tr style=\"text-align: right;\">\n      <th></th>\n      <th>ASIN</th>\n    </tr>\n  </thead>\n  <tbody>\n    <tr>\n      <th>B0043T7FXE</th>\n      <td>2</td>\n    </tr>\n    <tr>\n      <th>B003L62T7W</th>\n      <td>2</td>\n    </tr>\n    <tr>\n      <th>B08C9T1SJ9</th>\n      <td>2</td>\n    </tr>\n    <tr>\n      <th>B07XY5HLLR</th>\n      <td>2</td>\n    </tr>\n    <tr>\n      <th>B07T541PXC</th>\n      <td>2</td>\n    </tr>\n    <tr>\n      <th>...</th>\n      <td>...</td>\n    </tr>\n    <tr>\n      <th>B07JNBCJ77</th>\n      <td>1</td>\n    </tr>\n    <tr>\n      <th>B08PTND3BR</th>\n      <td>1</td>\n    </tr>\n    <tr>\n      <th>B00JFOFJT4</th>\n      <td>1</td>\n    </tr>\n    <tr>\n      <th>B078ZCMVN6</th>\n      <td>1</td>\n    </tr>\n    <tr>\n      <th>B00FEMYST8</th>\n      <td>1</td>\n    </tr>\n  </tbody>\n</table>\n<p>32536 rows × 1 columns</p>\n</div>"
     },
     "metadata": {},
     "execution_count": 150
    }
   ],
   "source": [
    "list1"
   ]
  },
  {
   "cell_type": "code",
   "execution_count": 134,
   "metadata": {},
   "outputs": [],
   "source": [
    "list.reset_index(inplace=True)"
   ]
  },
  {
   "cell_type": "code",
   "execution_count": 135,
   "metadata": {},
   "outputs": [],
   "source": [
    "list.columns = ['ASIN', 'number']"
   ]
  },
  {
   "cell_type": "code",
   "execution_count": 136,
   "metadata": {},
   "outputs": [],
   "source": [
    "list = list.ASIN.iloc[0:998]"
   ]
  },
  {
   "cell_type": "code",
   "execution_count": 137,
   "metadata": {},
   "outputs": [
    {
     "output_type": "execute_result",
     "data": {
      "text/plain": [
       "0      B0043T7FXE\n",
       "1      B003L62T7W\n",
       "2      B08C9T1SJ9\n",
       "3      B07XY5HLLR\n",
       "4      B07T541PXC\n",
       "          ...    \n",
       "993    B08GZMXP7P\n",
       "994    B071G5KX3X\n",
       "995    B07W5YFM4D\n",
       "996    B07MJVCP63\n",
       "997    B08MF6H1RD\n",
       "Name: ASIN, Length: 998, dtype: object"
      ]
     },
     "metadata": {},
     "execution_count": 137
    }
   ],
   "source": [
    "list"
   ]
  },
  {
   "cell_type": "code",
   "execution_count": 139,
   "metadata": {},
   "outputs": [],
   "source": [
    "for i in range(len(df)):\n",
    "    for j in list:\n",
    "        if df.ASIN[i] == j:\n",
    "            try:\n",
    "                df[i].dropna(subset=['price'])\n",
    "            except:\n",
    "                pass"
   ]
  },
  {
   "cell_type": "code",
   "execution_count": 40,
   "metadata": {},
   "outputs": [
    {
     "output_type": "execute_result",
     "data": {
      "text/plain": [
       "B07RNGKWYB    1\n",
       "B08J5DC12Y    1\n",
       "B00AIGZ72C    1\n",
       "B00ZWR13D4    1\n",
       "B08MJRGV52    1\n",
       "             ..\n",
       "B08GG4F66S    1\n",
       "B07KG6TR7X    1\n",
       "B072QXK79J    1\n",
       "B08GZ159FJ    1\n",
       "B08R5F9X8Y    1\n",
       "Name: ASIN, Length: 23792, dtype: int64"
      ]
     },
     "metadata": {},
     "execution_count": 40
    }
   ],
   "source": [
    "#.ASIN.value_counts()"
   ]
  },
  {
   "cell_type": "code",
   "execution_count": 187,
   "metadata": {},
   "outputs": [
    {
     "output_type": "execute_result",
     "data": {
      "text/plain": [
       "9742"
      ]
     },
     "metadata": {},
     "execution_count": 187
    }
   ],
   "source": [
    "sum(df.price.isna())"
   ]
  },
  {
   "cell_type": "code",
   "execution_count": 141,
   "metadata": {},
   "outputs": [
    {
     "output_type": "execute_result",
     "data": {
      "text/plain": [
       "998"
      ]
     },
     "metadata": {},
     "execution_count": 141
    }
   ],
   "source": [
    "sum(df.ASIN.value_counts() == 2)"
   ]
  },
  {
   "cell_type": "code",
   "execution_count": 142,
   "metadata": {},
   "outputs": [
    {
     "output_type": "execute_result",
     "data": {
      "text/plain": [
       "(23792,)"
      ]
     },
     "metadata": {},
     "execution_count": 142
    }
   ],
   "source": [
    "df2.shape"
   ]
  },
  {
   "cell_type": "code",
   "execution_count": 143,
   "metadata": {},
   "outputs": [
    {
     "output_type": "execute_result",
     "data": {
      "text/plain": [
       "B0043T7FXE    2\n",
       "B003L62T7W    2\n",
       "B08C9T1SJ9    2\n",
       "B07XY5HLLR    2\n",
       "B07T541PXC    2\n",
       "             ..\n",
       "B07JNBCJ77    1\n",
       "B08PTND3BR    1\n",
       "B00JFOFJT4    1\n",
       "B078ZCMVN6    1\n",
       "B00FEMYST8    1\n",
       "Name: ASIN, Length: 32536, dtype: int64"
      ]
     },
     "metadata": {},
     "execution_count": 143
    }
   ],
   "source": [
    "df.ASIN.value_counts(ascending = False)"
   ]
  },
  {
   "cell_type": "code",
   "execution_count": 21,
   "metadata": {},
   "outputs": [],
   "source": [
    "df.drop_duplicates(subset =\"ASIN\", \n",
    "                     keep = False, inplace = True) "
   ]
  },
  {
   "cell_type": "code",
   "execution_count": 22,
   "metadata": {},
   "outputs": [
    {
     "output_type": "execute_result",
     "data": {
      "text/plain": [
       "0       B087T9B6X5\n",
       "1       B0868VLMWK\n",
       "2       B08DQ4QQ6R\n",
       "3       B011PKJI2Y\n",
       "4       B06XNTPN8C\n",
       "           ...    \n",
       "3372    B07PMHHX6S\n",
       "3373    B071Z66DRC\n",
       "3374    B07NWZGCZ9\n",
       "3375    B07QL1XR3B\n",
       "3376    B000KL7J3A\n",
       "Name: ASIN, Length: 3246, dtype: object"
      ]
     },
     "metadata": {},
     "execution_count": 22
    }
   ],
   "source": [
    "df.ASIN"
   ]
  },
  {
   "cell_type": "code",
   "execution_count": 33,
   "metadata": {},
   "outputs": [
    {
     "output_type": "execute_result",
     "data": {
      "text/plain": [
       "(33534, 6)"
      ]
     },
     "metadata": {},
     "execution_count": 33
    }
   ],
   "source": [
    "df.shape"
   ]
  },
  {
   "cell_type": "code",
   "execution_count": null,
   "metadata": {},
   "outputs": [],
   "source": []
  }
 ]
}