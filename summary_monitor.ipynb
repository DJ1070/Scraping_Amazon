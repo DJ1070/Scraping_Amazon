{
 "metadata": {
  "language_info": {
   "codemirror_mode": {
    "name": "ipython",
    "version": 3
   },
   "file_extension": ".py",
   "mimetype": "text/x-python",
   "name": "python",
   "nbconvert_exporter": "python",
   "pygments_lexer": "ipython3",
   "version": "3.8.5"
  },
  "orig_nbformat": 2,
  "kernelspec": {
   "name": "python3",
   "display_name": "Python 3.8.5 64-bit ('base': conda)",
   "metadata": {
    "interpreter": {
     "hash": "b3ba2566441a7c06988d0923437866b63cedc61552a5af99d1f4fb67d367b25f"
    }
   }
  }
 },
 "nbformat": 4,
 "nbformat_minor": 2,
 "cells": [
  {
   "cell_type": "code",
   "execution_count": 186,
   "metadata": {},
   "outputs": [],
   "source": [
    "import pandas as pd\n",
    "import numpy as np\n",
    "\n",
    "csv_filename = 'summary_monitor.csv'"
   ]
  },
  {
   "cell_type": "code",
   "execution_count": 187,
   "metadata": {},
   "outputs": [
    {
     "output_type": "execute_result",
     "data": {
      "text/plain": [
       "                                                  title  \\\n",
       "0     HP 24mh FHD Monitor - Computer Monitor with 23...   \n",
       "1     Sceptre E248W-19203R 24\" Ultra Thin 75Hz 1080p...   \n",
       "2     Sceptre Curved 27\" 75Hz LED Monitor HDMI VGA B...   \n",
       "3     Sceptre IPS 27-Inch Business Computer Monitor ...   \n",
       "4     SAMSUNG LC24F396FHNXZA 23.5\" FHD Curved LED-Li...   \n",
       "...                                                 ...   \n",
       "7164  HDMI to DVI Adapter Cable, Bidirectional Femal...   \n",
       "7165  HAO-1 Adjustable Screen Top Shelf Display Shel...   \n",
       "7166  E&M 15.6 inch 1920x1080 Portable Game Display ...   \n",
       "7167  Sceptre IPS 24-Inch Business Computer Monitor ...   \n",
       "7168  4k Portable Monitor 15.6’’ for Laptop, EVICIV ...   \n",
       "\n",
       "                                                    url              rating  \\\n",
       "0     https://www.amazon.com/HP-24mh-FHD-Monitor-Bui...  4.7 out of 5 stars   \n",
       "1     https://www.amazon.com/Sceptre-E248W-19203R-Mo...  4.6 out of 5 stars   \n",
       "2     https://www.amazon.com/Sceptre-Monitor-Speaker...  4.7 out of 5 stars   \n",
       "3     https://www.amazon.com/Sceptre-Business-Comput...  4.7 out of 5 stars   \n",
       "4     https://www.amazon.com/Samsung-23-5-Inch-LED-L...  4.7 out of 5 stars   \n",
       "...                                                 ...                 ...   \n",
       "7164  https://www.amazon.com/HDMI-Adapter-Cable-Fema...  5.0 out of 5 stars   \n",
       "7165  https://www.amazon.com/HAO-1-Adjustable-Displa...                None   \n",
       "7166  https://www.amazon.com/1920x1080-Portable-Disp...                None   \n",
       "7167  https://www.amazon.com/gp/slredirect/picassoRe...  4.6 out of 5 stars   \n",
       "7168  https://www.amazon.com/gp/slredirect/picassoRe...  4.2 out of 5 stars   \n",
       "\n",
       "     review_count    price  \n",
       "0           8,949  $164.99  \n",
       "1          12,338  $109.99  \n",
       "2           5,623  $166.99  \n",
       "3           1,389  $139.97  \n",
       "4           4,033  $129.99  \n",
       "...           ...      ...  \n",
       "7164            7    $7.99  \n",
       "7165         None   $14.30  \n",
       "7166         None  $199.99  \n",
       "7167        1,358  $119.97  \n",
       "7168          277  $339.99  \n",
       "\n",
       "[7169 rows x 5 columns]"
      ],
      "text/html": "<div>\n<style scoped>\n    .dataframe tbody tr th:only-of-type {\n        vertical-align: middle;\n    }\n\n    .dataframe tbody tr th {\n        vertical-align: top;\n    }\n\n    .dataframe thead th {\n        text-align: right;\n    }\n</style>\n<table border=\"1\" class=\"dataframe\">\n  <thead>\n    <tr style=\"text-align: right;\">\n      <th></th>\n      <th>title</th>\n      <th>url</th>\n      <th>rating</th>\n      <th>review_count</th>\n      <th>price</th>\n    </tr>\n  </thead>\n  <tbody>\n    <tr>\n      <th>0</th>\n      <td>HP 24mh FHD Monitor - Computer Monitor with 23...</td>\n      <td>https://www.amazon.com/HP-24mh-FHD-Monitor-Bui...</td>\n      <td>4.7 out of 5 stars</td>\n      <td>8,949</td>\n      <td>$164.99</td>\n    </tr>\n    <tr>\n      <th>1</th>\n      <td>Sceptre E248W-19203R 24\" Ultra Thin 75Hz 1080p...</td>\n      <td>https://www.amazon.com/Sceptre-E248W-19203R-Mo...</td>\n      <td>4.6 out of 5 stars</td>\n      <td>12,338</td>\n      <td>$109.99</td>\n    </tr>\n    <tr>\n      <th>2</th>\n      <td>Sceptre Curved 27\" 75Hz LED Monitor HDMI VGA B...</td>\n      <td>https://www.amazon.com/Sceptre-Monitor-Speaker...</td>\n      <td>4.7 out of 5 stars</td>\n      <td>5,623</td>\n      <td>$166.99</td>\n    </tr>\n    <tr>\n      <th>3</th>\n      <td>Sceptre IPS 27-Inch Business Computer Monitor ...</td>\n      <td>https://www.amazon.com/Sceptre-Business-Comput...</td>\n      <td>4.7 out of 5 stars</td>\n      <td>1,389</td>\n      <td>$139.97</td>\n    </tr>\n    <tr>\n      <th>4</th>\n      <td>SAMSUNG LC24F396FHNXZA 23.5\" FHD Curved LED-Li...</td>\n      <td>https://www.amazon.com/Samsung-23-5-Inch-LED-L...</td>\n      <td>4.7 out of 5 stars</td>\n      <td>4,033</td>\n      <td>$129.99</td>\n    </tr>\n    <tr>\n      <th>...</th>\n      <td>...</td>\n      <td>...</td>\n      <td>...</td>\n      <td>...</td>\n      <td>...</td>\n    </tr>\n    <tr>\n      <th>7164</th>\n      <td>HDMI to DVI Adapter Cable, Bidirectional Femal...</td>\n      <td>https://www.amazon.com/HDMI-Adapter-Cable-Fema...</td>\n      <td>5.0 out of 5 stars</td>\n      <td>7</td>\n      <td>$7.99</td>\n    </tr>\n    <tr>\n      <th>7165</th>\n      <td>HAO-1 Adjustable Screen Top Shelf Display Shel...</td>\n      <td>https://www.amazon.com/HAO-1-Adjustable-Displa...</td>\n      <td>None</td>\n      <td>None</td>\n      <td>$14.30</td>\n    </tr>\n    <tr>\n      <th>7166</th>\n      <td>E&amp;M 15.6 inch 1920x1080 Portable Game Display ...</td>\n      <td>https://www.amazon.com/1920x1080-Portable-Disp...</td>\n      <td>None</td>\n      <td>None</td>\n      <td>$199.99</td>\n    </tr>\n    <tr>\n      <th>7167</th>\n      <td>Sceptre IPS 24-Inch Business Computer Monitor ...</td>\n      <td>https://www.amazon.com/gp/slredirect/picassoRe...</td>\n      <td>4.6 out of 5 stars</td>\n      <td>1,358</td>\n      <td>$119.97</td>\n    </tr>\n    <tr>\n      <th>7168</th>\n      <td>4k Portable Monitor 15.6’’ for Laptop, EVICIV ...</td>\n      <td>https://www.amazon.com/gp/slredirect/picassoRe...</td>\n      <td>4.2 out of 5 stars</td>\n      <td>277</td>\n      <td>$339.99</td>\n    </tr>\n  </tbody>\n</table>\n<p>7169 rows × 5 columns</p>\n</div>"
     },
     "metadata": {},
     "execution_count": 187
    }
   ],
   "source": [
    "df = pd.read_json('monitor_search_output.jsonl')\n",
    "df"
   ]
  },
  {
   "cell_type": "code",
   "execution_count": 188,
   "metadata": {},
   "outputs": [
    {
     "output_type": "execute_result",
     "data": {
      "text/plain": [
       "title             0\n",
       "url               0\n",
       "rating          602\n",
       "review_count    602\n",
       "price           251\n",
       "dtype: int64"
      ]
     },
     "metadata": {},
     "execution_count": 188
    }
   ],
   "source": [
    "df.isnull().sum()"
   ]
  },
  {
   "cell_type": "code",
   "execution_count": 189,
   "metadata": {},
   "outputs": [
    {
     "output_type": "execute_result",
     "data": {
      "text/plain": [
       "                                                  title  \\\n",
       "0     HP 24mh FHD Monitor - Computer Monitor with 23...   \n",
       "1     Sceptre E248W-19203R 24\" Ultra Thin 75Hz 1080p...   \n",
       "2     Sceptre Curved 27\" 75Hz LED Monitor HDMI VGA B...   \n",
       "3     Sceptre IPS 27-Inch Business Computer Monitor ...   \n",
       "4     SAMSUNG LC24F396FHNXZA 23.5\" FHD Curved LED-Li...   \n",
       "...                                                 ...   \n",
       "7164  HDMI to DVI Adapter Cable, Bidirectional Femal...   \n",
       "7165  HAO-1 Adjustable Screen Top Shelf Display Shel...   \n",
       "7166  E&M 15.6 inch 1920x1080 Portable Game Display ...   \n",
       "7167  Sceptre IPS 24-Inch Business Computer Monitor ...   \n",
       "7168  4k Portable Monitor 15.6’’ for Laptop, EVICIV ...   \n",
       "\n",
       "                                                    url              rating  \\\n",
       "0     https://www.amazon.com/HP-24mh-FHD-Monitor-Bui...  4.7 out of 5 stars   \n",
       "1     https://www.amazon.com/Sceptre-E248W-19203R-Mo...  4.6 out of 5 stars   \n",
       "2     https://www.amazon.com/Sceptre-Monitor-Speaker...  4.7 out of 5 stars   \n",
       "3     https://www.amazon.com/Sceptre-Business-Comput...  4.7 out of 5 stars   \n",
       "4     https://www.amazon.com/Samsung-23-5-Inch-LED-L...  4.7 out of 5 stars   \n",
       "...                                                 ...                 ...   \n",
       "7164  https://www.amazon.com/HDMI-Adapter-Cable-Fema...  5.0 out of 5 stars   \n",
       "7165  https://www.amazon.com/HAO-1-Adjustable-Displa...                None   \n",
       "7166  https://www.amazon.com/1920x1080-Portable-Disp...                None   \n",
       "7167  https://www.amazon.com/gp/slredirect/picassoRe...  4.6 out of 5 stars   \n",
       "7168  https://www.amazon.com/gp/slredirect/picassoRe...  4.2 out of 5 stars   \n",
       "\n",
       "     review_count    price        ASIN  \n",
       "0           8,949  $164.99  B08BF4CZSV  \n",
       "1          12,338  $109.99  B0773ZY26F  \n",
       "2           5,623  $166.99  B07MTRQ6B3  \n",
       "3           1,389  $139.97  B089BTLL9K  \n",
       "4           4,033  $129.99  B079K3MXWF  \n",
       "...           ...      ...         ...  \n",
       "7164            7    $7.99  B08G537MBP  \n",
       "7165         None   $14.30  B085RKS16H  \n",
       "7166         None  $199.99  B07G3ZJ4MZ  \n",
       "7167        1,358  $119.97  B087QRW81Z  \n",
       "7168          277  $339.99  B0828CXGN7  \n",
       "\n",
       "[7169 rows x 6 columns]"
      ],
      "text/html": "<div>\n<style scoped>\n    .dataframe tbody tr th:only-of-type {\n        vertical-align: middle;\n    }\n\n    .dataframe tbody tr th {\n        vertical-align: top;\n    }\n\n    .dataframe thead th {\n        text-align: right;\n    }\n</style>\n<table border=\"1\" class=\"dataframe\">\n  <thead>\n    <tr style=\"text-align: right;\">\n      <th></th>\n      <th>title</th>\n      <th>url</th>\n      <th>rating</th>\n      <th>review_count</th>\n      <th>price</th>\n      <th>ASIN</th>\n    </tr>\n  </thead>\n  <tbody>\n    <tr>\n      <th>0</th>\n      <td>HP 24mh FHD Monitor - Computer Monitor with 23...</td>\n      <td>https://www.amazon.com/HP-24mh-FHD-Monitor-Bui...</td>\n      <td>4.7 out of 5 stars</td>\n      <td>8,949</td>\n      <td>$164.99</td>\n      <td>B08BF4CZSV</td>\n    </tr>\n    <tr>\n      <th>1</th>\n      <td>Sceptre E248W-19203R 24\" Ultra Thin 75Hz 1080p...</td>\n      <td>https://www.amazon.com/Sceptre-E248W-19203R-Mo...</td>\n      <td>4.6 out of 5 stars</td>\n      <td>12,338</td>\n      <td>$109.99</td>\n      <td>B0773ZY26F</td>\n    </tr>\n    <tr>\n      <th>2</th>\n      <td>Sceptre Curved 27\" 75Hz LED Monitor HDMI VGA B...</td>\n      <td>https://www.amazon.com/Sceptre-Monitor-Speaker...</td>\n      <td>4.7 out of 5 stars</td>\n      <td>5,623</td>\n      <td>$166.99</td>\n      <td>B07MTRQ6B3</td>\n    </tr>\n    <tr>\n      <th>3</th>\n      <td>Sceptre IPS 27-Inch Business Computer Monitor ...</td>\n      <td>https://www.amazon.com/Sceptre-Business-Comput...</td>\n      <td>4.7 out of 5 stars</td>\n      <td>1,389</td>\n      <td>$139.97</td>\n      <td>B089BTLL9K</td>\n    </tr>\n    <tr>\n      <th>4</th>\n      <td>SAMSUNG LC24F396FHNXZA 23.5\" FHD Curved LED-Li...</td>\n      <td>https://www.amazon.com/Samsung-23-5-Inch-LED-L...</td>\n      <td>4.7 out of 5 stars</td>\n      <td>4,033</td>\n      <td>$129.99</td>\n      <td>B079K3MXWF</td>\n    </tr>\n    <tr>\n      <th>...</th>\n      <td>...</td>\n      <td>...</td>\n      <td>...</td>\n      <td>...</td>\n      <td>...</td>\n      <td>...</td>\n    </tr>\n    <tr>\n      <th>7164</th>\n      <td>HDMI to DVI Adapter Cable, Bidirectional Femal...</td>\n      <td>https://www.amazon.com/HDMI-Adapter-Cable-Fema...</td>\n      <td>5.0 out of 5 stars</td>\n      <td>7</td>\n      <td>$7.99</td>\n      <td>B08G537MBP</td>\n    </tr>\n    <tr>\n      <th>7165</th>\n      <td>HAO-1 Adjustable Screen Top Shelf Display Shel...</td>\n      <td>https://www.amazon.com/HAO-1-Adjustable-Displa...</td>\n      <td>None</td>\n      <td>None</td>\n      <td>$14.30</td>\n      <td>B085RKS16H</td>\n    </tr>\n    <tr>\n      <th>7166</th>\n      <td>E&amp;M 15.6 inch 1920x1080 Portable Game Display ...</td>\n      <td>https://www.amazon.com/1920x1080-Portable-Disp...</td>\n      <td>None</td>\n      <td>None</td>\n      <td>$199.99</td>\n      <td>B07G3ZJ4MZ</td>\n    </tr>\n    <tr>\n      <th>7167</th>\n      <td>Sceptre IPS 24-Inch Business Computer Monitor ...</td>\n      <td>https://www.amazon.com/gp/slredirect/picassoRe...</td>\n      <td>4.6 out of 5 stars</td>\n      <td>1,358</td>\n      <td>$119.97</td>\n      <td>B087QRW81Z</td>\n    </tr>\n    <tr>\n      <th>7168</th>\n      <td>4k Portable Monitor 15.6’’ for Laptop, EVICIV ...</td>\n      <td>https://www.amazon.com/gp/slredirect/picassoRe...</td>\n      <td>4.2 out of 5 stars</td>\n      <td>277</td>\n      <td>$339.99</td>\n      <td>B0828CXGN7</td>\n    </tr>\n  </tbody>\n</table>\n<p>7169 rows × 6 columns</p>\n</div>"
     },
     "metadata": {},
     "execution_count": 189
    }
   ],
   "source": [
    "df['ASIN'] = df.url.str.split('/dp/').str[-1]\n",
    "df['ASIN'] = df.ASIN.str.split('%2Fdp%2F').str[-1]\n",
    "df['ASIN'] = df.ASIN.str.split('/').str[0]\n",
    "df['ASIN'] = df.ASIN.str.split('%2F').str[0]\n",
    "df"
   ]
  },
  {
   "cell_type": "code",
   "execution_count": 190,
   "metadata": {},
   "outputs": [],
   "source": [
    "df = df.drop('url', axis = 1)"
   ]
  },
  {
   "cell_type": "code",
   "execution_count": 191,
   "metadata": {},
   "outputs": [
    {
     "output_type": "execute_result",
     "data": {
      "text/plain": [
       "            ASIN                                              title    price  \\\n",
       "0     B08BF4CZSV  HP 24mh FHD Monitor - Computer Monitor with 23...  $164.99   \n",
       "1     B0773ZY26F  Sceptre E248W-19203R 24\" Ultra Thin 75Hz 1080p...  $109.99   \n",
       "2     B07MTRQ6B3  Sceptre Curved 27\" 75Hz LED Monitor HDMI VGA B...  $166.99   \n",
       "3     B089BTLL9K  Sceptre IPS 27-Inch Business Computer Monitor ...  $139.97   \n",
       "4     B079K3MXWF  SAMSUNG LC24F396FHNXZA 23.5\" FHD Curved LED-Li...  $129.99   \n",
       "...          ...                                                ...      ...   \n",
       "7164  B08G537MBP  HDMI to DVI Adapter Cable, Bidirectional Femal...    $7.99   \n",
       "7165  B085RKS16H  HAO-1 Adjustable Screen Top Shelf Display Shel...   $14.30   \n",
       "7166  B07G3ZJ4MZ  E&M 15.6 inch 1920x1080 Portable Game Display ...  $199.99   \n",
       "7167  B087QRW81Z  Sceptre IPS 24-Inch Business Computer Monitor ...  $119.97   \n",
       "7168  B0828CXGN7  4k Portable Monitor 15.6’’ for Laptop, EVICIV ...  $339.99   \n",
       "\n",
       "                  rating review_count  \n",
       "0     4.7 out of 5 stars        8,949  \n",
       "1     4.6 out of 5 stars       12,338  \n",
       "2     4.7 out of 5 stars        5,623  \n",
       "3     4.7 out of 5 stars        1,389  \n",
       "4     4.7 out of 5 stars        4,033  \n",
       "...                  ...          ...  \n",
       "7164  5.0 out of 5 stars            7  \n",
       "7165                None         None  \n",
       "7166                None         None  \n",
       "7167  4.6 out of 5 stars        1,358  \n",
       "7168  4.2 out of 5 stars          277  \n",
       "\n",
       "[7169 rows x 5 columns]"
      ],
      "text/html": "<div>\n<style scoped>\n    .dataframe tbody tr th:only-of-type {\n        vertical-align: middle;\n    }\n\n    .dataframe tbody tr th {\n        vertical-align: top;\n    }\n\n    .dataframe thead th {\n        text-align: right;\n    }\n</style>\n<table border=\"1\" class=\"dataframe\">\n  <thead>\n    <tr style=\"text-align: right;\">\n      <th></th>\n      <th>ASIN</th>\n      <th>title</th>\n      <th>price</th>\n      <th>rating</th>\n      <th>review_count</th>\n    </tr>\n  </thead>\n  <tbody>\n    <tr>\n      <th>0</th>\n      <td>B08BF4CZSV</td>\n      <td>HP 24mh FHD Monitor - Computer Monitor with 23...</td>\n      <td>$164.99</td>\n      <td>4.7 out of 5 stars</td>\n      <td>8,949</td>\n    </tr>\n    <tr>\n      <th>1</th>\n      <td>B0773ZY26F</td>\n      <td>Sceptre E248W-19203R 24\" Ultra Thin 75Hz 1080p...</td>\n      <td>$109.99</td>\n      <td>4.6 out of 5 stars</td>\n      <td>12,338</td>\n    </tr>\n    <tr>\n      <th>2</th>\n      <td>B07MTRQ6B3</td>\n      <td>Sceptre Curved 27\" 75Hz LED Monitor HDMI VGA B...</td>\n      <td>$166.99</td>\n      <td>4.7 out of 5 stars</td>\n      <td>5,623</td>\n    </tr>\n    <tr>\n      <th>3</th>\n      <td>B089BTLL9K</td>\n      <td>Sceptre IPS 27-Inch Business Computer Monitor ...</td>\n      <td>$139.97</td>\n      <td>4.7 out of 5 stars</td>\n      <td>1,389</td>\n    </tr>\n    <tr>\n      <th>4</th>\n      <td>B079K3MXWF</td>\n      <td>SAMSUNG LC24F396FHNXZA 23.5\" FHD Curved LED-Li...</td>\n      <td>$129.99</td>\n      <td>4.7 out of 5 stars</td>\n      <td>4,033</td>\n    </tr>\n    <tr>\n      <th>...</th>\n      <td>...</td>\n      <td>...</td>\n      <td>...</td>\n      <td>...</td>\n      <td>...</td>\n    </tr>\n    <tr>\n      <th>7164</th>\n      <td>B08G537MBP</td>\n      <td>HDMI to DVI Adapter Cable, Bidirectional Femal...</td>\n      <td>$7.99</td>\n      <td>5.0 out of 5 stars</td>\n      <td>7</td>\n    </tr>\n    <tr>\n      <th>7165</th>\n      <td>B085RKS16H</td>\n      <td>HAO-1 Adjustable Screen Top Shelf Display Shel...</td>\n      <td>$14.30</td>\n      <td>None</td>\n      <td>None</td>\n    </tr>\n    <tr>\n      <th>7166</th>\n      <td>B07G3ZJ4MZ</td>\n      <td>E&amp;M 15.6 inch 1920x1080 Portable Game Display ...</td>\n      <td>$199.99</td>\n      <td>None</td>\n      <td>None</td>\n    </tr>\n    <tr>\n      <th>7167</th>\n      <td>B087QRW81Z</td>\n      <td>Sceptre IPS 24-Inch Business Computer Monitor ...</td>\n      <td>$119.97</td>\n      <td>4.6 out of 5 stars</td>\n      <td>1,358</td>\n    </tr>\n    <tr>\n      <th>7168</th>\n      <td>B0828CXGN7</td>\n      <td>4k Portable Monitor 15.6’’ for Laptop, EVICIV ...</td>\n      <td>$339.99</td>\n      <td>4.2 out of 5 stars</td>\n      <td>277</td>\n    </tr>\n  </tbody>\n</table>\n<p>7169 rows × 5 columns</p>\n</div>"
     },
     "metadata": {},
     "execution_count": 191
    }
   ],
   "source": [
    "df = df[['ASIN', 'title', 'price', 'rating', 'review_count']]\n",
    "df"
   ]
  },
  {
   "cell_type": "code",
   "execution_count": 192,
   "metadata": {},
   "outputs": [],
   "source": [
    "df['rating'] = df['rating'].fillna(0)\n",
    "df['price'] = df['price'].fillna(0)"
   ]
  },
  {
   "cell_type": "code",
   "execution_count": 193,
   "metadata": {},
   "outputs": [
    {
     "output_type": "execute_result",
     "data": {
      "text/plain": [
       "            ASIN                                              title   price  \\\n",
       "0     B08BF4CZSV  HP 24mh FHD Monitor - Computer Monitor with 23...  164.99   \n",
       "1     B0773ZY26F  Sceptre E248W-19203R 24\" Ultra Thin 75Hz 1080p...  109.99   \n",
       "2     B07MTRQ6B3  Sceptre Curved 27\" 75Hz LED Monitor HDMI VGA B...  166.99   \n",
       "3     B089BTLL9K  Sceptre IPS 27-Inch Business Computer Monitor ...  139.97   \n",
       "4     B079K3MXWF  SAMSUNG LC24F396FHNXZA 23.5\" FHD Curved LED-Li...  129.99   \n",
       "...          ...                                                ...     ...   \n",
       "7164  B08G537MBP  HDMI to DVI Adapter Cable, Bidirectional Femal...    7.99   \n",
       "7165  B085RKS16H  HAO-1 Adjustable Screen Top Shelf Display Shel...   14.30   \n",
       "7166  B07G3ZJ4MZ  E&M 15.6 inch 1920x1080 Portable Game Display ...  199.99   \n",
       "7167  B087QRW81Z  Sceptre IPS 24-Inch Business Computer Monitor ...  119.97   \n",
       "7168  B0828CXGN7  4k Portable Monitor 15.6’’ for Laptop, EVICIV ...  339.99   \n",
       "\n",
       "     rating review_count  \n",
       "0       4.7        8,949  \n",
       "1       4.6       12,338  \n",
       "2       4.7        5,623  \n",
       "3       4.7        1,389  \n",
       "4       4.7        4,033  \n",
       "...     ...          ...  \n",
       "7164    5.0            7  \n",
       "7165    NaN         None  \n",
       "7166    NaN         None  \n",
       "7167    4.6        1,358  \n",
       "7168    4.2          277  \n",
       "\n",
       "[7169 rows x 5 columns]"
      ],
      "text/html": "<div>\n<style scoped>\n    .dataframe tbody tr th:only-of-type {\n        vertical-align: middle;\n    }\n\n    .dataframe tbody tr th {\n        vertical-align: top;\n    }\n\n    .dataframe thead th {\n        text-align: right;\n    }\n</style>\n<table border=\"1\" class=\"dataframe\">\n  <thead>\n    <tr style=\"text-align: right;\">\n      <th></th>\n      <th>ASIN</th>\n      <th>title</th>\n      <th>price</th>\n      <th>rating</th>\n      <th>review_count</th>\n    </tr>\n  </thead>\n  <tbody>\n    <tr>\n      <th>0</th>\n      <td>B08BF4CZSV</td>\n      <td>HP 24mh FHD Monitor - Computer Monitor with 23...</td>\n      <td>164.99</td>\n      <td>4.7</td>\n      <td>8,949</td>\n    </tr>\n    <tr>\n      <th>1</th>\n      <td>B0773ZY26F</td>\n      <td>Sceptre E248W-19203R 24\" Ultra Thin 75Hz 1080p...</td>\n      <td>109.99</td>\n      <td>4.6</td>\n      <td>12,338</td>\n    </tr>\n    <tr>\n      <th>2</th>\n      <td>B07MTRQ6B3</td>\n      <td>Sceptre Curved 27\" 75Hz LED Monitor HDMI VGA B...</td>\n      <td>166.99</td>\n      <td>4.7</td>\n      <td>5,623</td>\n    </tr>\n    <tr>\n      <th>3</th>\n      <td>B089BTLL9K</td>\n      <td>Sceptre IPS 27-Inch Business Computer Monitor ...</td>\n      <td>139.97</td>\n      <td>4.7</td>\n      <td>1,389</td>\n    </tr>\n    <tr>\n      <th>4</th>\n      <td>B079K3MXWF</td>\n      <td>SAMSUNG LC24F396FHNXZA 23.5\" FHD Curved LED-Li...</td>\n      <td>129.99</td>\n      <td>4.7</td>\n      <td>4,033</td>\n    </tr>\n    <tr>\n      <th>...</th>\n      <td>...</td>\n      <td>...</td>\n      <td>...</td>\n      <td>...</td>\n      <td>...</td>\n    </tr>\n    <tr>\n      <th>7164</th>\n      <td>B08G537MBP</td>\n      <td>HDMI to DVI Adapter Cable, Bidirectional Femal...</td>\n      <td>7.99</td>\n      <td>5.0</td>\n      <td>7</td>\n    </tr>\n    <tr>\n      <th>7165</th>\n      <td>B085RKS16H</td>\n      <td>HAO-1 Adjustable Screen Top Shelf Display Shel...</td>\n      <td>14.30</td>\n      <td>NaN</td>\n      <td>None</td>\n    </tr>\n    <tr>\n      <th>7166</th>\n      <td>B07G3ZJ4MZ</td>\n      <td>E&amp;M 15.6 inch 1920x1080 Portable Game Display ...</td>\n      <td>199.99</td>\n      <td>NaN</td>\n      <td>None</td>\n    </tr>\n    <tr>\n      <th>7167</th>\n      <td>B087QRW81Z</td>\n      <td>Sceptre IPS 24-Inch Business Computer Monitor ...</td>\n      <td>119.97</td>\n      <td>4.6</td>\n      <td>1,358</td>\n    </tr>\n    <tr>\n      <th>7168</th>\n      <td>B0828CXGN7</td>\n      <td>4k Portable Monitor 15.6’’ for Laptop, EVICIV ...</td>\n      <td>339.99</td>\n      <td>4.2</td>\n      <td>277</td>\n    </tr>\n  </tbody>\n</table>\n<p>7169 rows × 5 columns</p>\n</div>"
     },
     "metadata": {},
     "execution_count": 193
    }
   ],
   "source": [
    "df['rating'] = df['rating'].str.split( ).str[0]\n",
    "df['price'] = df['price'].str.split('$').str[-1]\n",
    "df"
   ]
  },
  {
   "cell_type": "code",
   "execution_count": 194,
   "metadata": {},
   "outputs": [],
   "source": [
    "try:\n",
    "    df['price'] = df['price'].str.replace(\",\",\"\").astype(float)\n",
    "    df['rating'] = df['rating'].replace(\",\",\"\").astype(float)\n",
    "except:\n",
    "    pass"
   ]
  },
  {
   "cell_type": "code",
   "execution_count": 195,
   "metadata": {},
   "outputs": [],
   "source": [
    "df.review_count = df.review_count.str.replace(',','')"
   ]
  },
  {
   "cell_type": "code",
   "execution_count": 197,
   "metadata": {},
   "outputs": [],
   "source": [
    "df.review_count = pd.to_numeric(df.review_count)\n",
    "df.review_count = df.review_count.fillna(0)"
   ]
  },
  {
   "cell_type": "code",
   "execution_count": 198,
   "metadata": {},
   "outputs": [],
   "source": [
    "df.review_count = df.review_count.astype(int)"
   ]
  },
  {
   "cell_type": "code",
   "execution_count": 199,
   "metadata": {},
   "outputs": [],
   "source": [
    "df.to_csv(csv_filename) "
   ]
  },
  {
   "cell_type": "code",
   "execution_count": 200,
   "metadata": {},
   "outputs": [
    {
     "output_type": "execute_result",
     "data": {
      "text/plain": [
       "      Unnamed: 0        ASIN  \\\n",
       "0              0  B08BF4CZSV   \n",
       "1              1  B0773ZY26F   \n",
       "2              2  B07MTRQ6B3   \n",
       "3              3  B089BTLL9K   \n",
       "4              4  B079K3MXWF   \n",
       "...          ...         ...   \n",
       "7164        7164  B08G537MBP   \n",
       "7165        7165  B085RKS16H   \n",
       "7166        7166  B07G3ZJ4MZ   \n",
       "7167        7167  B087QRW81Z   \n",
       "7168        7168  B0828CXGN7   \n",
       "\n",
       "                                                  title   price  rating  \\\n",
       "0     HP 24mh FHD Monitor - Computer Monitor with 23...  164.99     4.7   \n",
       "1     Sceptre E248W-19203R 24\" Ultra Thin 75Hz 1080p...  109.99     4.6   \n",
       "2     Sceptre Curved 27\" 75Hz LED Monitor HDMI VGA B...  166.99     4.7   \n",
       "3     Sceptre IPS 27-Inch Business Computer Monitor ...  139.97     4.7   \n",
       "4     SAMSUNG LC24F396FHNXZA 23.5\" FHD Curved LED-Li...  129.99     4.7   \n",
       "...                                                 ...     ...     ...   \n",
       "7164  HDMI to DVI Adapter Cable, Bidirectional Femal...    7.99     5.0   \n",
       "7165  HAO-1 Adjustable Screen Top Shelf Display Shel...   14.30     NaN   \n",
       "7166  E&M 15.6 inch 1920x1080 Portable Game Display ...  199.99     NaN   \n",
       "7167  Sceptre IPS 24-Inch Business Computer Monitor ...  119.97     4.6   \n",
       "7168  4k Portable Monitor 15.6’’ for Laptop, EVICIV ...  339.99     4.2   \n",
       "\n",
       "      review_count  \n",
       "0             8949  \n",
       "1            12338  \n",
       "2             5623  \n",
       "3             1389  \n",
       "4             4033  \n",
       "...            ...  \n",
       "7164             7  \n",
       "7165             0  \n",
       "7166             0  \n",
       "7167          1358  \n",
       "7168           277  \n",
       "\n",
       "[7169 rows x 6 columns]"
      ],
      "text/html": "<div>\n<style scoped>\n    .dataframe tbody tr th:only-of-type {\n        vertical-align: middle;\n    }\n\n    .dataframe tbody tr th {\n        vertical-align: top;\n    }\n\n    .dataframe thead th {\n        text-align: right;\n    }\n</style>\n<table border=\"1\" class=\"dataframe\">\n  <thead>\n    <tr style=\"text-align: right;\">\n      <th></th>\n      <th>Unnamed: 0</th>\n      <th>ASIN</th>\n      <th>title</th>\n      <th>price</th>\n      <th>rating</th>\n      <th>review_count</th>\n    </tr>\n  </thead>\n  <tbody>\n    <tr>\n      <th>0</th>\n      <td>0</td>\n      <td>B08BF4CZSV</td>\n      <td>HP 24mh FHD Monitor - Computer Monitor with 23...</td>\n      <td>164.99</td>\n      <td>4.7</td>\n      <td>8949</td>\n    </tr>\n    <tr>\n      <th>1</th>\n      <td>1</td>\n      <td>B0773ZY26F</td>\n      <td>Sceptre E248W-19203R 24\" Ultra Thin 75Hz 1080p...</td>\n      <td>109.99</td>\n      <td>4.6</td>\n      <td>12338</td>\n    </tr>\n    <tr>\n      <th>2</th>\n      <td>2</td>\n      <td>B07MTRQ6B3</td>\n      <td>Sceptre Curved 27\" 75Hz LED Monitor HDMI VGA B...</td>\n      <td>166.99</td>\n      <td>4.7</td>\n      <td>5623</td>\n    </tr>\n    <tr>\n      <th>3</th>\n      <td>3</td>\n      <td>B089BTLL9K</td>\n      <td>Sceptre IPS 27-Inch Business Computer Monitor ...</td>\n      <td>139.97</td>\n      <td>4.7</td>\n      <td>1389</td>\n    </tr>\n    <tr>\n      <th>4</th>\n      <td>4</td>\n      <td>B079K3MXWF</td>\n      <td>SAMSUNG LC24F396FHNXZA 23.5\" FHD Curved LED-Li...</td>\n      <td>129.99</td>\n      <td>4.7</td>\n      <td>4033</td>\n    </tr>\n    <tr>\n      <th>...</th>\n      <td>...</td>\n      <td>...</td>\n      <td>...</td>\n      <td>...</td>\n      <td>...</td>\n      <td>...</td>\n    </tr>\n    <tr>\n      <th>7164</th>\n      <td>7164</td>\n      <td>B08G537MBP</td>\n      <td>HDMI to DVI Adapter Cable, Bidirectional Femal...</td>\n      <td>7.99</td>\n      <td>5.0</td>\n      <td>7</td>\n    </tr>\n    <tr>\n      <th>7165</th>\n      <td>7165</td>\n      <td>B085RKS16H</td>\n      <td>HAO-1 Adjustable Screen Top Shelf Display Shel...</td>\n      <td>14.30</td>\n      <td>NaN</td>\n      <td>0</td>\n    </tr>\n    <tr>\n      <th>7166</th>\n      <td>7166</td>\n      <td>B07G3ZJ4MZ</td>\n      <td>E&amp;M 15.6 inch 1920x1080 Portable Game Display ...</td>\n      <td>199.99</td>\n      <td>NaN</td>\n      <td>0</td>\n    </tr>\n    <tr>\n      <th>7167</th>\n      <td>7167</td>\n      <td>B087QRW81Z</td>\n      <td>Sceptre IPS 24-Inch Business Computer Monitor ...</td>\n      <td>119.97</td>\n      <td>4.6</td>\n      <td>1358</td>\n    </tr>\n    <tr>\n      <th>7168</th>\n      <td>7168</td>\n      <td>B0828CXGN7</td>\n      <td>4k Portable Monitor 15.6’’ for Laptop, EVICIV ...</td>\n      <td>339.99</td>\n      <td>4.2</td>\n      <td>277</td>\n    </tr>\n  </tbody>\n</table>\n<p>7169 rows × 6 columns</p>\n</div>"
     },
     "metadata": {},
     "execution_count": 200
    }
   ],
   "source": [
    "df2 = pd.read_csv(csv_filename)\n",
    "df2"
   ]
  }
 ]
}